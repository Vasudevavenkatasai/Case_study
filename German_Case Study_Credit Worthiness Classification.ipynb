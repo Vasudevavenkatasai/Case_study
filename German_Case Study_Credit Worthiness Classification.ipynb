{
 "cells": [
  {
   "cell_type": "code",
   "execution_count": 1,
   "metadata": {},
   "outputs": [],
   "source": [
    "import numpy as np\n",
    "import pandas as pd\n",
    "import matplotlib.pyplot as plt\n",
    "import seaborn as sns\n",
    "import re\n",
    "from sklearn.preprocessing import LabelEncoder\n",
    "from scipy.stats import mode\n",
    "\n",
    "from sklearn.model_selection import GridSearchCV,RandomizedSearchCV,KFold\n",
    "from sklearn.metrics import classification_report,roc_auc_score,roc_curve\n",
    "from sklearn.model_selection import train_test_split, KFold\n",
    "from sklearn.preprocessing import StandardScaler\n",
    "from sklearn.linear_model import LogisticRegression\n",
    "from sklearn.neighbors import KNeighborsClassifier\n",
    "from sklearn.naive_bayes import GaussianNB\n",
    "from sklearn.tree import DecisionTreeClassifier\n",
    "from sklearn.ensemble import RandomForestClassifier,BaggingClassifier\n",
    "from sklearn.metrics import auc\n",
    "\n",
    "import os\n",
    "%matplotlib inline\n",
    "\n",
    "import warnings\n",
    "warnings.filterwarnings('ignore')\n",
    "\n",
    "pd.set_option('display.max_colwidth',500)\n",
    "pd.set_option('display.max_columns',5000)\n",
    "from IPython.display import Image\n",
    "import os\n",
    "encoder = LabelEncoder()"
   ]
  },
  {
   "cell_type": "code",
   "execution_count": 2,
   "metadata": {},
   "outputs": [],
   "source": [
    "data = pd.read_csv(\"german.data\",sep=' ', header = None) "
   ]
  },
  {
   "cell_type": "code",
   "execution_count": 3,
   "metadata": {},
   "outputs": [
    {
     "data": {
      "text/html": [
       "<div>\n",
       "<style scoped>\n",
       "    .dataframe tbody tr th:only-of-type {\n",
       "        vertical-align: middle;\n",
       "    }\n",
       "\n",
       "    .dataframe tbody tr th {\n",
       "        vertical-align: top;\n",
       "    }\n",
       "\n",
       "    .dataframe thead th {\n",
       "        text-align: right;\n",
       "    }\n",
       "</style>\n",
       "<table border=\"1\" class=\"dataframe\">\n",
       "  <thead>\n",
       "    <tr style=\"text-align: right;\">\n",
       "      <th></th>\n",
       "      <th>0</th>\n",
       "      <th>1</th>\n",
       "      <th>2</th>\n",
       "      <th>3</th>\n",
       "      <th>4</th>\n",
       "      <th>5</th>\n",
       "      <th>6</th>\n",
       "      <th>7</th>\n",
       "      <th>8</th>\n",
       "      <th>9</th>\n",
       "      <th>10</th>\n",
       "      <th>11</th>\n",
       "      <th>12</th>\n",
       "      <th>13</th>\n",
       "      <th>14</th>\n",
       "      <th>15</th>\n",
       "      <th>16</th>\n",
       "      <th>17</th>\n",
       "      <th>18</th>\n",
       "      <th>19</th>\n",
       "      <th>20</th>\n",
       "    </tr>\n",
       "  </thead>\n",
       "  <tbody>\n",
       "    <tr>\n",
       "      <td>0</td>\n",
       "      <td>A11</td>\n",
       "      <td>6</td>\n",
       "      <td>A34</td>\n",
       "      <td>A43</td>\n",
       "      <td>1169</td>\n",
       "      <td>A65</td>\n",
       "      <td>A75</td>\n",
       "      <td>4</td>\n",
       "      <td>A93</td>\n",
       "      <td>A101</td>\n",
       "      <td>4</td>\n",
       "      <td>A121</td>\n",
       "      <td>67</td>\n",
       "      <td>A143</td>\n",
       "      <td>A152</td>\n",
       "      <td>2</td>\n",
       "      <td>A173</td>\n",
       "      <td>1</td>\n",
       "      <td>A192</td>\n",
       "      <td>A201</td>\n",
       "      <td>1</td>\n",
       "    </tr>\n",
       "    <tr>\n",
       "      <td>1</td>\n",
       "      <td>A12</td>\n",
       "      <td>48</td>\n",
       "      <td>A32</td>\n",
       "      <td>A43</td>\n",
       "      <td>5951</td>\n",
       "      <td>A61</td>\n",
       "      <td>A73</td>\n",
       "      <td>2</td>\n",
       "      <td>A92</td>\n",
       "      <td>A101</td>\n",
       "      <td>2</td>\n",
       "      <td>A121</td>\n",
       "      <td>22</td>\n",
       "      <td>A143</td>\n",
       "      <td>A152</td>\n",
       "      <td>1</td>\n",
       "      <td>A173</td>\n",
       "      <td>1</td>\n",
       "      <td>A191</td>\n",
       "      <td>A201</td>\n",
       "      <td>2</td>\n",
       "    </tr>\n",
       "    <tr>\n",
       "      <td>2</td>\n",
       "      <td>A14</td>\n",
       "      <td>12</td>\n",
       "      <td>A34</td>\n",
       "      <td>A46</td>\n",
       "      <td>2096</td>\n",
       "      <td>A61</td>\n",
       "      <td>A74</td>\n",
       "      <td>2</td>\n",
       "      <td>A93</td>\n",
       "      <td>A101</td>\n",
       "      <td>3</td>\n",
       "      <td>A121</td>\n",
       "      <td>49</td>\n",
       "      <td>A143</td>\n",
       "      <td>A152</td>\n",
       "      <td>1</td>\n",
       "      <td>A172</td>\n",
       "      <td>2</td>\n",
       "      <td>A191</td>\n",
       "      <td>A201</td>\n",
       "      <td>1</td>\n",
       "    </tr>\n",
       "    <tr>\n",
       "      <td>3</td>\n",
       "      <td>A11</td>\n",
       "      <td>42</td>\n",
       "      <td>A32</td>\n",
       "      <td>A42</td>\n",
       "      <td>7882</td>\n",
       "      <td>A61</td>\n",
       "      <td>A74</td>\n",
       "      <td>2</td>\n",
       "      <td>A93</td>\n",
       "      <td>A103</td>\n",
       "      <td>4</td>\n",
       "      <td>A122</td>\n",
       "      <td>45</td>\n",
       "      <td>A143</td>\n",
       "      <td>A153</td>\n",
       "      <td>1</td>\n",
       "      <td>A173</td>\n",
       "      <td>2</td>\n",
       "      <td>A191</td>\n",
       "      <td>A201</td>\n",
       "      <td>1</td>\n",
       "    </tr>\n",
       "    <tr>\n",
       "      <td>4</td>\n",
       "      <td>A11</td>\n",
       "      <td>24</td>\n",
       "      <td>A33</td>\n",
       "      <td>A40</td>\n",
       "      <td>4870</td>\n",
       "      <td>A61</td>\n",
       "      <td>A73</td>\n",
       "      <td>3</td>\n",
       "      <td>A93</td>\n",
       "      <td>A101</td>\n",
       "      <td>4</td>\n",
       "      <td>A124</td>\n",
       "      <td>53</td>\n",
       "      <td>A143</td>\n",
       "      <td>A153</td>\n",
       "      <td>2</td>\n",
       "      <td>A173</td>\n",
       "      <td>2</td>\n",
       "      <td>A191</td>\n",
       "      <td>A201</td>\n",
       "      <td>2</td>\n",
       "    </tr>\n",
       "  </tbody>\n",
       "</table>\n",
       "</div>"
      ],
      "text/plain": [
       "    0   1    2    3     4    5    6   7    8     9   10    11  12    13    14  \\\n",
       "0  A11   6  A34  A43  1169  A65  A75   4  A93  A101   4  A121  67  A143  A152   \n",
       "1  A12  48  A32  A43  5951  A61  A73   2  A92  A101   2  A121  22  A143  A152   \n",
       "2  A14  12  A34  A46  2096  A61  A74   2  A93  A101   3  A121  49  A143  A152   \n",
       "3  A11  42  A32  A42  7882  A61  A74   2  A93  A103   4  A122  45  A143  A153   \n",
       "4  A11  24  A33  A40  4870  A61  A73   3  A93  A101   4  A124  53  A143  A153   \n",
       "\n",
       "   15    16  17    18    19  20  \n",
       "0   2  A173   1  A192  A201   1  \n",
       "1   1  A173   1  A191  A201   2  \n",
       "2   1  A172   2  A191  A201   1  \n",
       "3   1  A173   2  A191  A201   1  \n",
       "4   2  A173   2  A191  A201   2  "
      ]
     },
     "execution_count": 3,
     "metadata": {},
     "output_type": "execute_result"
    }
   ],
   "source": [
    "data.head()"
   ]
  },
  {
   "cell_type": "code",
   "execution_count": 4,
   "metadata": {},
   "outputs": [],
   "source": [
    "data.columns =['Status of existing checking account','Duration in month', 'Credit history', 'Purpose', \n",
    "              'Credit amount','Savings account/bonds','Present employment since',\n",
    "              'Installment rate in percentage of disposable income',\n",
    "              'Personal status and sex', 'Other debtors / guarantors','Present residence since', 'Property', \n",
    "              'Age', 'Other installment plans','Housing','Number of existing credits at this bank',\n",
    "             'Job', 'Number of people being liable to provide maintenance for', 'Telephone', 'foreign worker','Good_Bad']"
   ]
  },
  {
   "cell_type": "code",
   "execution_count": 5,
   "metadata": {},
   "outputs": [
    {
     "data": {
      "text/html": [
       "<div>\n",
       "<style scoped>\n",
       "    .dataframe tbody tr th:only-of-type {\n",
       "        vertical-align: middle;\n",
       "    }\n",
       "\n",
       "    .dataframe tbody tr th {\n",
       "        vertical-align: top;\n",
       "    }\n",
       "\n",
       "    .dataframe thead th {\n",
       "        text-align: right;\n",
       "    }\n",
       "</style>\n",
       "<table border=\"1\" class=\"dataframe\">\n",
       "  <thead>\n",
       "    <tr style=\"text-align: right;\">\n",
       "      <th></th>\n",
       "      <th>Status of existing checking account</th>\n",
       "      <th>Duration in month</th>\n",
       "      <th>Credit history</th>\n",
       "      <th>Purpose</th>\n",
       "      <th>Credit amount</th>\n",
       "      <th>Savings account/bonds</th>\n",
       "      <th>Present employment since</th>\n",
       "      <th>Installment rate in percentage of disposable income</th>\n",
       "      <th>Personal status and sex</th>\n",
       "      <th>Other debtors / guarantors</th>\n",
       "      <th>Present residence since</th>\n",
       "      <th>Property</th>\n",
       "      <th>Age</th>\n",
       "      <th>Other installment plans</th>\n",
       "      <th>Housing</th>\n",
       "      <th>Number of existing credits at this bank</th>\n",
       "      <th>Job</th>\n",
       "      <th>Number of people being liable to provide maintenance for</th>\n",
       "      <th>Telephone</th>\n",
       "      <th>foreign worker</th>\n",
       "      <th>Good_Bad</th>\n",
       "    </tr>\n",
       "  </thead>\n",
       "  <tbody>\n",
       "    <tr>\n",
       "      <td>0</td>\n",
       "      <td>A11</td>\n",
       "      <td>6</td>\n",
       "      <td>A34</td>\n",
       "      <td>A43</td>\n",
       "      <td>1169</td>\n",
       "      <td>A65</td>\n",
       "      <td>A75</td>\n",
       "      <td>4</td>\n",
       "      <td>A93</td>\n",
       "      <td>A101</td>\n",
       "      <td>4</td>\n",
       "      <td>A121</td>\n",
       "      <td>67</td>\n",
       "      <td>A143</td>\n",
       "      <td>A152</td>\n",
       "      <td>2</td>\n",
       "      <td>A173</td>\n",
       "      <td>1</td>\n",
       "      <td>A192</td>\n",
       "      <td>A201</td>\n",
       "      <td>1</td>\n",
       "    </tr>\n",
       "    <tr>\n",
       "      <td>1</td>\n",
       "      <td>A12</td>\n",
       "      <td>48</td>\n",
       "      <td>A32</td>\n",
       "      <td>A43</td>\n",
       "      <td>5951</td>\n",
       "      <td>A61</td>\n",
       "      <td>A73</td>\n",
       "      <td>2</td>\n",
       "      <td>A92</td>\n",
       "      <td>A101</td>\n",
       "      <td>2</td>\n",
       "      <td>A121</td>\n",
       "      <td>22</td>\n",
       "      <td>A143</td>\n",
       "      <td>A152</td>\n",
       "      <td>1</td>\n",
       "      <td>A173</td>\n",
       "      <td>1</td>\n",
       "      <td>A191</td>\n",
       "      <td>A201</td>\n",
       "      <td>2</td>\n",
       "    </tr>\n",
       "    <tr>\n",
       "      <td>2</td>\n",
       "      <td>A14</td>\n",
       "      <td>12</td>\n",
       "      <td>A34</td>\n",
       "      <td>A46</td>\n",
       "      <td>2096</td>\n",
       "      <td>A61</td>\n",
       "      <td>A74</td>\n",
       "      <td>2</td>\n",
       "      <td>A93</td>\n",
       "      <td>A101</td>\n",
       "      <td>3</td>\n",
       "      <td>A121</td>\n",
       "      <td>49</td>\n",
       "      <td>A143</td>\n",
       "      <td>A152</td>\n",
       "      <td>1</td>\n",
       "      <td>A172</td>\n",
       "      <td>2</td>\n",
       "      <td>A191</td>\n",
       "      <td>A201</td>\n",
       "      <td>1</td>\n",
       "    </tr>\n",
       "    <tr>\n",
       "      <td>3</td>\n",
       "      <td>A11</td>\n",
       "      <td>42</td>\n",
       "      <td>A32</td>\n",
       "      <td>A42</td>\n",
       "      <td>7882</td>\n",
       "      <td>A61</td>\n",
       "      <td>A74</td>\n",
       "      <td>2</td>\n",
       "      <td>A93</td>\n",
       "      <td>A103</td>\n",
       "      <td>4</td>\n",
       "      <td>A122</td>\n",
       "      <td>45</td>\n",
       "      <td>A143</td>\n",
       "      <td>A153</td>\n",
       "      <td>1</td>\n",
       "      <td>A173</td>\n",
       "      <td>2</td>\n",
       "      <td>A191</td>\n",
       "      <td>A201</td>\n",
       "      <td>1</td>\n",
       "    </tr>\n",
       "    <tr>\n",
       "      <td>4</td>\n",
       "      <td>A11</td>\n",
       "      <td>24</td>\n",
       "      <td>A33</td>\n",
       "      <td>A40</td>\n",
       "      <td>4870</td>\n",
       "      <td>A61</td>\n",
       "      <td>A73</td>\n",
       "      <td>3</td>\n",
       "      <td>A93</td>\n",
       "      <td>A101</td>\n",
       "      <td>4</td>\n",
       "      <td>A124</td>\n",
       "      <td>53</td>\n",
       "      <td>A143</td>\n",
       "      <td>A153</td>\n",
       "      <td>2</td>\n",
       "      <td>A173</td>\n",
       "      <td>2</td>\n",
       "      <td>A191</td>\n",
       "      <td>A201</td>\n",
       "      <td>2</td>\n",
       "    </tr>\n",
       "  </tbody>\n",
       "</table>\n",
       "</div>"
      ],
      "text/plain": [
       "  Status of existing checking account  Duration in month Credit history  \\\n",
       "0                                 A11                  6            A34   \n",
       "1                                 A12                 48            A32   \n",
       "2                                 A14                 12            A34   \n",
       "3                                 A11                 42            A32   \n",
       "4                                 A11                 24            A33   \n",
       "\n",
       "  Purpose  Credit amount Savings account/bonds Present employment since  \\\n",
       "0     A43           1169                   A65                      A75   \n",
       "1     A43           5951                   A61                      A73   \n",
       "2     A46           2096                   A61                      A74   \n",
       "3     A42           7882                   A61                      A74   \n",
       "4     A40           4870                   A61                      A73   \n",
       "\n",
       "   Installment rate in percentage of disposable income  \\\n",
       "0                                                    4   \n",
       "1                                                    2   \n",
       "2                                                    2   \n",
       "3                                                    2   \n",
       "4                                                    3   \n",
       "\n",
       "  Personal status and sex Other debtors / guarantors  Present residence since  \\\n",
       "0                     A93                       A101                        4   \n",
       "1                     A92                       A101                        2   \n",
       "2                     A93                       A101                        3   \n",
       "3                     A93                       A103                        4   \n",
       "4                     A93                       A101                        4   \n",
       "\n",
       "  Property  Age Other installment plans Housing  \\\n",
       "0     A121   67                    A143    A152   \n",
       "1     A121   22                    A143    A152   \n",
       "2     A121   49                    A143    A152   \n",
       "3     A122   45                    A143    A153   \n",
       "4     A124   53                    A143    A153   \n",
       "\n",
       "   Number of existing credits at this bank   Job  \\\n",
       "0                                        2  A173   \n",
       "1                                        1  A173   \n",
       "2                                        1  A172   \n",
       "3                                        1  A173   \n",
       "4                                        2  A173   \n",
       "\n",
       "   Number of people being liable to provide maintenance for Telephone  \\\n",
       "0                                                         1      A192   \n",
       "1                                                         1      A191   \n",
       "2                                                         2      A191   \n",
       "3                                                         2      A191   \n",
       "4                                                         2      A191   \n",
       "\n",
       "  foreign worker  Good_Bad  \n",
       "0           A201         1  \n",
       "1           A201         2  \n",
       "2           A201         1  \n",
       "3           A201         1  \n",
       "4           A201         2  "
      ]
     },
     "execution_count": 5,
     "metadata": {},
     "output_type": "execute_result"
    }
   ],
   "source": [
    "data.head()"
   ]
  },
  {
   "cell_type": "code",
   "execution_count": 6,
   "metadata": {},
   "outputs": [
    {
     "data": {
      "text/plain": [
       "(1000, 21)"
      ]
     },
     "execution_count": 6,
     "metadata": {},
     "output_type": "execute_result"
    }
   ],
   "source": [
    "data.shape"
   ]
  },
  {
   "cell_type": "code",
   "execution_count": 7,
   "metadata": {},
   "outputs": [],
   "source": [
    "data=data.replace(['A11' , 'A12', 'A13', 'A14'], ['<0', '0-200', '>= 200', 'NA'])\n",
    "data=data.replace(['A30' , 'A31', 'A32', 'A33','A34'], ['no credits taken/ all credits paid back duly', 'all credits at this bank paid back duly', 'existing credits paid back duly till now', 'delay in paying off in the past','critical account/ other credits existing (not at this bank)'])\n",
    "data=data.replace(['A40' , 'A41', 'A42', 'A43','A44','A45','A46','A47','A48','A49','A410'], ['car(new)', 'car(used)', 'furniture/equipment', 'radio/television','domestic appliances','repairs', 'education','vacation/does not exist', 'retraining','business','others'])\n",
    "data=data.replace(['A61' , 'A62', 'A63', 'A64','A65'], ['< 100', '100-500', '500-1000', '>1000','unknown/ no savings account'])\n",
    "data=data.replace(['A71' , 'A72', 'A73', 'A74','A75'], ['unemployed', '< 1', '1-4', '4-7','>7'])\n",
    "data=data.replace(['A91' , 'A92', 'A93', 'A94','A95'], ['male : divorced/separated', 'female : divorced/separated/married', 'male : single', 'male : married/widowed','female : single'])                       \n",
    "data=data.replace(['A101' , 'A102', 'A103' ], ['none', 'co-applicant', 'guarantor'])\n",
    "data=data.replace(['A121' , 'A122', 'A123','A124' ], ['real estate', 'building society savings agreement/ life insurance', 'car or other, not in attribute 6','unknown / no property'])\n",
    "data=data.replace(['A141' , 'A142', 'A143'], ['bank', 'stores', 'none'])\n",
    "data=data.replace(['A151' , 'A152', 'A153'], ['rent', 'own', 'for free']) \n",
    "data=data.replace(['A171' , 'A172', 'A173','A174'], ['unemployed/ unskilled - non-resident', 'unskilled - resident', 'skilled employee / official','management/ self-employed/highly qualified employee/ officer']) \n",
    "data=data.replace(['A191' , 'A192'], ['none', 'yes, registered under the customers name'])\n",
    "data=data.replace(['A201' , 'A202'], ['Yes', 'No']) "
   ]
  },
  {
   "cell_type": "code",
   "execution_count": 8,
   "metadata": {},
   "outputs": [
    {
     "data": {
      "text/html": [
       "<div>\n",
       "<style scoped>\n",
       "    .dataframe tbody tr th:only-of-type {\n",
       "        vertical-align: middle;\n",
       "    }\n",
       "\n",
       "    .dataframe tbody tr th {\n",
       "        vertical-align: top;\n",
       "    }\n",
       "\n",
       "    .dataframe thead th {\n",
       "        text-align: right;\n",
       "    }\n",
       "</style>\n",
       "<table border=\"1\" class=\"dataframe\">\n",
       "  <thead>\n",
       "    <tr style=\"text-align: right;\">\n",
       "      <th></th>\n",
       "      <th>Status of existing checking account</th>\n",
       "      <th>Duration in month</th>\n",
       "      <th>Credit history</th>\n",
       "      <th>Purpose</th>\n",
       "      <th>Credit amount</th>\n",
       "      <th>Savings account/bonds</th>\n",
       "      <th>Present employment since</th>\n",
       "      <th>Installment rate in percentage of disposable income</th>\n",
       "      <th>Personal status and sex</th>\n",
       "      <th>Other debtors / guarantors</th>\n",
       "      <th>Present residence since</th>\n",
       "      <th>Property</th>\n",
       "      <th>Age</th>\n",
       "      <th>Other installment plans</th>\n",
       "      <th>Housing</th>\n",
       "      <th>Number of existing credits at this bank</th>\n",
       "      <th>Job</th>\n",
       "      <th>Number of people being liable to provide maintenance for</th>\n",
       "      <th>Telephone</th>\n",
       "      <th>foreign worker</th>\n",
       "      <th>Good_Bad</th>\n",
       "    </tr>\n",
       "  </thead>\n",
       "  <tbody>\n",
       "    <tr>\n",
       "      <td>0</td>\n",
       "      <td>&lt;0</td>\n",
       "      <td>6</td>\n",
       "      <td>critical account/ other credits existing (not at this bank)</td>\n",
       "      <td>radio/television</td>\n",
       "      <td>1169</td>\n",
       "      <td>unknown/ no savings account</td>\n",
       "      <td>&gt;7</td>\n",
       "      <td>4</td>\n",
       "      <td>male : single</td>\n",
       "      <td>none</td>\n",
       "      <td>4</td>\n",
       "      <td>real estate</td>\n",
       "      <td>67</td>\n",
       "      <td>none</td>\n",
       "      <td>own</td>\n",
       "      <td>2</td>\n",
       "      <td>skilled employee / official</td>\n",
       "      <td>1</td>\n",
       "      <td>yes, registered under the customers name</td>\n",
       "      <td>Yes</td>\n",
       "      <td>1</td>\n",
       "    </tr>\n",
       "    <tr>\n",
       "      <td>1</td>\n",
       "      <td>0-200</td>\n",
       "      <td>48</td>\n",
       "      <td>existing credits paid back duly till now</td>\n",
       "      <td>radio/television</td>\n",
       "      <td>5951</td>\n",
       "      <td>&lt; 100</td>\n",
       "      <td>1-4</td>\n",
       "      <td>2</td>\n",
       "      <td>female : divorced/separated/married</td>\n",
       "      <td>none</td>\n",
       "      <td>2</td>\n",
       "      <td>real estate</td>\n",
       "      <td>22</td>\n",
       "      <td>none</td>\n",
       "      <td>own</td>\n",
       "      <td>1</td>\n",
       "      <td>skilled employee / official</td>\n",
       "      <td>1</td>\n",
       "      <td>none</td>\n",
       "      <td>Yes</td>\n",
       "      <td>2</td>\n",
       "    </tr>\n",
       "    <tr>\n",
       "      <td>2</td>\n",
       "      <td>NA</td>\n",
       "      <td>12</td>\n",
       "      <td>critical account/ other credits existing (not at this bank)</td>\n",
       "      <td>education</td>\n",
       "      <td>2096</td>\n",
       "      <td>&lt; 100</td>\n",
       "      <td>4-7</td>\n",
       "      <td>2</td>\n",
       "      <td>male : single</td>\n",
       "      <td>none</td>\n",
       "      <td>3</td>\n",
       "      <td>real estate</td>\n",
       "      <td>49</td>\n",
       "      <td>none</td>\n",
       "      <td>own</td>\n",
       "      <td>1</td>\n",
       "      <td>unskilled - resident</td>\n",
       "      <td>2</td>\n",
       "      <td>none</td>\n",
       "      <td>Yes</td>\n",
       "      <td>1</td>\n",
       "    </tr>\n",
       "    <tr>\n",
       "      <td>3</td>\n",
       "      <td>&lt;0</td>\n",
       "      <td>42</td>\n",
       "      <td>existing credits paid back duly till now</td>\n",
       "      <td>furniture/equipment</td>\n",
       "      <td>7882</td>\n",
       "      <td>&lt; 100</td>\n",
       "      <td>4-7</td>\n",
       "      <td>2</td>\n",
       "      <td>male : single</td>\n",
       "      <td>guarantor</td>\n",
       "      <td>4</td>\n",
       "      <td>building society savings agreement/ life insurance</td>\n",
       "      <td>45</td>\n",
       "      <td>none</td>\n",
       "      <td>for free</td>\n",
       "      <td>1</td>\n",
       "      <td>skilled employee / official</td>\n",
       "      <td>2</td>\n",
       "      <td>none</td>\n",
       "      <td>Yes</td>\n",
       "      <td>1</td>\n",
       "    </tr>\n",
       "    <tr>\n",
       "      <td>4</td>\n",
       "      <td>&lt;0</td>\n",
       "      <td>24</td>\n",
       "      <td>delay in paying off in the past</td>\n",
       "      <td>car(new)</td>\n",
       "      <td>4870</td>\n",
       "      <td>&lt; 100</td>\n",
       "      <td>1-4</td>\n",
       "      <td>3</td>\n",
       "      <td>male : single</td>\n",
       "      <td>none</td>\n",
       "      <td>4</td>\n",
       "      <td>unknown / no property</td>\n",
       "      <td>53</td>\n",
       "      <td>none</td>\n",
       "      <td>for free</td>\n",
       "      <td>2</td>\n",
       "      <td>skilled employee / official</td>\n",
       "      <td>2</td>\n",
       "      <td>none</td>\n",
       "      <td>Yes</td>\n",
       "      <td>2</td>\n",
       "    </tr>\n",
       "  </tbody>\n",
       "</table>\n",
       "</div>"
      ],
      "text/plain": [
       "  Status of existing checking account  Duration in month  \\\n",
       "0                                  <0                  6   \n",
       "1                               0-200                 48   \n",
       "2                                  NA                 12   \n",
       "3                                  <0                 42   \n",
       "4                                  <0                 24   \n",
       "\n",
       "                                                Credit history  \\\n",
       "0  critical account/ other credits existing (not at this bank)   \n",
       "1                     existing credits paid back duly till now   \n",
       "2  critical account/ other credits existing (not at this bank)   \n",
       "3                     existing credits paid back duly till now   \n",
       "4                              delay in paying off in the past   \n",
       "\n",
       "               Purpose  Credit amount        Savings account/bonds  \\\n",
       "0     radio/television           1169  unknown/ no savings account   \n",
       "1     radio/television           5951                        < 100   \n",
       "2            education           2096                        < 100   \n",
       "3  furniture/equipment           7882                        < 100   \n",
       "4             car(new)           4870                        < 100   \n",
       "\n",
       "  Present employment since  \\\n",
       "0                       >7   \n",
       "1                      1-4   \n",
       "2                      4-7   \n",
       "3                      4-7   \n",
       "4                      1-4   \n",
       "\n",
       "   Installment rate in percentage of disposable income  \\\n",
       "0                                                    4   \n",
       "1                                                    2   \n",
       "2                                                    2   \n",
       "3                                                    2   \n",
       "4                                                    3   \n",
       "\n",
       "               Personal status and sex Other debtors / guarantors  \\\n",
       "0                        male : single                       none   \n",
       "1  female : divorced/separated/married                       none   \n",
       "2                        male : single                       none   \n",
       "3                        male : single                  guarantor   \n",
       "4                        male : single                       none   \n",
       "\n",
       "   Present residence since  \\\n",
       "0                        4   \n",
       "1                        2   \n",
       "2                        3   \n",
       "3                        4   \n",
       "4                        4   \n",
       "\n",
       "                                             Property  Age  \\\n",
       "0                                         real estate   67   \n",
       "1                                         real estate   22   \n",
       "2                                         real estate   49   \n",
       "3  building society savings agreement/ life insurance   45   \n",
       "4                               unknown / no property   53   \n",
       "\n",
       "  Other installment plans   Housing  Number of existing credits at this bank  \\\n",
       "0                    none       own                                        2   \n",
       "1                    none       own                                        1   \n",
       "2                    none       own                                        1   \n",
       "3                    none  for free                                        1   \n",
       "4                    none  for free                                        2   \n",
       "\n",
       "                           Job  \\\n",
       "0  skilled employee / official   \n",
       "1  skilled employee / official   \n",
       "2         unskilled - resident   \n",
       "3  skilled employee / official   \n",
       "4  skilled employee / official   \n",
       "\n",
       "   Number of people being liable to provide maintenance for  \\\n",
       "0                                                         1   \n",
       "1                                                         1   \n",
       "2                                                         2   \n",
       "3                                                         2   \n",
       "4                                                         2   \n",
       "\n",
       "                                  Telephone foreign worker  Good_Bad  \n",
       "0  yes, registered under the customers name            Yes         1  \n",
       "1                                      none            Yes         2  \n",
       "2                                      none            Yes         1  \n",
       "3                                      none            Yes         1  \n",
       "4                                      none            Yes         2  "
      ]
     },
     "execution_count": 8,
     "metadata": {},
     "output_type": "execute_result"
    }
   ],
   "source": [
    "data.head()"
   ]
  },
  {
   "cell_type": "code",
   "execution_count": 9,
   "metadata": {},
   "outputs": [
    {
     "data": {
      "text/html": [
       "<div>\n",
       "<style scoped>\n",
       "    .dataframe tbody tr th:only-of-type {\n",
       "        vertical-align: middle;\n",
       "    }\n",
       "\n",
       "    .dataframe tbody tr th {\n",
       "        vertical-align: top;\n",
       "    }\n",
       "\n",
       "    .dataframe thead th {\n",
       "        text-align: right;\n",
       "    }\n",
       "</style>\n",
       "<table border=\"1\" class=\"dataframe\">\n",
       "  <thead>\n",
       "    <tr style=\"text-align: right;\">\n",
       "      <th></th>\n",
       "      <th>Duration in month</th>\n",
       "      <th>Credit amount</th>\n",
       "      <th>Installment rate in percentage of disposable income</th>\n",
       "      <th>Present residence since</th>\n",
       "      <th>Age</th>\n",
       "      <th>Number of existing credits at this bank</th>\n",
       "      <th>Number of people being liable to provide maintenance for</th>\n",
       "      <th>Good_Bad</th>\n",
       "    </tr>\n",
       "  </thead>\n",
       "  <tbody>\n",
       "    <tr>\n",
       "      <td>count</td>\n",
       "      <td>1000.000000</td>\n",
       "      <td>1000.000000</td>\n",
       "      <td>1000.000000</td>\n",
       "      <td>1000.000000</td>\n",
       "      <td>1000.000000</td>\n",
       "      <td>1000.000000</td>\n",
       "      <td>1000.000000</td>\n",
       "      <td>1000.000000</td>\n",
       "    </tr>\n",
       "    <tr>\n",
       "      <td>mean</td>\n",
       "      <td>20.903000</td>\n",
       "      <td>3271.258000</td>\n",
       "      <td>2.973000</td>\n",
       "      <td>2.845000</td>\n",
       "      <td>35.546000</td>\n",
       "      <td>1.407000</td>\n",
       "      <td>1.155000</td>\n",
       "      <td>1.300000</td>\n",
       "    </tr>\n",
       "    <tr>\n",
       "      <td>std</td>\n",
       "      <td>12.058814</td>\n",
       "      <td>2822.736876</td>\n",
       "      <td>1.118715</td>\n",
       "      <td>1.103718</td>\n",
       "      <td>11.375469</td>\n",
       "      <td>0.577654</td>\n",
       "      <td>0.362086</td>\n",
       "      <td>0.458487</td>\n",
       "    </tr>\n",
       "    <tr>\n",
       "      <td>min</td>\n",
       "      <td>4.000000</td>\n",
       "      <td>250.000000</td>\n",
       "      <td>1.000000</td>\n",
       "      <td>1.000000</td>\n",
       "      <td>19.000000</td>\n",
       "      <td>1.000000</td>\n",
       "      <td>1.000000</td>\n",
       "      <td>1.000000</td>\n",
       "    </tr>\n",
       "    <tr>\n",
       "      <td>25%</td>\n",
       "      <td>12.000000</td>\n",
       "      <td>1365.500000</td>\n",
       "      <td>2.000000</td>\n",
       "      <td>2.000000</td>\n",
       "      <td>27.000000</td>\n",
       "      <td>1.000000</td>\n",
       "      <td>1.000000</td>\n",
       "      <td>1.000000</td>\n",
       "    </tr>\n",
       "    <tr>\n",
       "      <td>50%</td>\n",
       "      <td>18.000000</td>\n",
       "      <td>2319.500000</td>\n",
       "      <td>3.000000</td>\n",
       "      <td>3.000000</td>\n",
       "      <td>33.000000</td>\n",
       "      <td>1.000000</td>\n",
       "      <td>1.000000</td>\n",
       "      <td>1.000000</td>\n",
       "    </tr>\n",
       "    <tr>\n",
       "      <td>75%</td>\n",
       "      <td>24.000000</td>\n",
       "      <td>3972.250000</td>\n",
       "      <td>4.000000</td>\n",
       "      <td>4.000000</td>\n",
       "      <td>42.000000</td>\n",
       "      <td>2.000000</td>\n",
       "      <td>1.000000</td>\n",
       "      <td>2.000000</td>\n",
       "    </tr>\n",
       "    <tr>\n",
       "      <td>max</td>\n",
       "      <td>72.000000</td>\n",
       "      <td>18424.000000</td>\n",
       "      <td>4.000000</td>\n",
       "      <td>4.000000</td>\n",
       "      <td>75.000000</td>\n",
       "      <td>4.000000</td>\n",
       "      <td>2.000000</td>\n",
       "      <td>2.000000</td>\n",
       "    </tr>\n",
       "  </tbody>\n",
       "</table>\n",
       "</div>"
      ],
      "text/plain": [
       "       Duration in month  Credit amount  \\\n",
       "count        1000.000000    1000.000000   \n",
       "mean           20.903000    3271.258000   \n",
       "std            12.058814    2822.736876   \n",
       "min             4.000000     250.000000   \n",
       "25%            12.000000    1365.500000   \n",
       "50%            18.000000    2319.500000   \n",
       "75%            24.000000    3972.250000   \n",
       "max            72.000000   18424.000000   \n",
       "\n",
       "       Installment rate in percentage of disposable income  \\\n",
       "count                                          1000.000000   \n",
       "mean                                              2.973000   \n",
       "std                                               1.118715   \n",
       "min                                               1.000000   \n",
       "25%                                               2.000000   \n",
       "50%                                               3.000000   \n",
       "75%                                               4.000000   \n",
       "max                                               4.000000   \n",
       "\n",
       "       Present residence since          Age  \\\n",
       "count              1000.000000  1000.000000   \n",
       "mean                  2.845000    35.546000   \n",
       "std                   1.103718    11.375469   \n",
       "min                   1.000000    19.000000   \n",
       "25%                   2.000000    27.000000   \n",
       "50%                   3.000000    33.000000   \n",
       "75%                   4.000000    42.000000   \n",
       "max                   4.000000    75.000000   \n",
       "\n",
       "       Number of existing credits at this bank  \\\n",
       "count                              1000.000000   \n",
       "mean                                  1.407000   \n",
       "std                                   0.577654   \n",
       "min                                   1.000000   \n",
       "25%                                   1.000000   \n",
       "50%                                   1.000000   \n",
       "75%                                   2.000000   \n",
       "max                                   4.000000   \n",
       "\n",
       "       Number of people being liable to provide maintenance for     Good_Bad  \n",
       "count                                               1000.000000  1000.000000  \n",
       "mean                                                   1.155000     1.300000  \n",
       "std                                                    0.362086     0.458487  \n",
       "min                                                    1.000000     1.000000  \n",
       "25%                                                    1.000000     1.000000  \n",
       "50%                                                    1.000000     1.000000  \n",
       "75%                                                    1.000000     2.000000  \n",
       "max                                                    2.000000     2.000000  "
      ]
     },
     "execution_count": 9,
     "metadata": {},
     "output_type": "execute_result"
    }
   ],
   "source": [
    "data.describe()"
   ]
  },
  {
   "cell_type": "code",
   "execution_count": 10,
   "metadata": {},
   "outputs": [
    {
     "name": "stdout",
     "output_type": "stream",
     "text": [
      "<class 'pandas.core.frame.DataFrame'>\n",
      "RangeIndex: 1000 entries, 0 to 999\n",
      "Data columns (total 21 columns):\n",
      "Status of existing checking account                         1000 non-null object\n",
      "Duration in month                                           1000 non-null int64\n",
      "Credit history                                              1000 non-null object\n",
      "Purpose                                                     1000 non-null object\n",
      "Credit amount                                               1000 non-null int64\n",
      "Savings account/bonds                                       1000 non-null object\n",
      "Present employment since                                    1000 non-null object\n",
      "Installment rate in percentage of disposable income         1000 non-null int64\n",
      "Personal status and sex                                     1000 non-null object\n",
      "Other debtors / guarantors                                  1000 non-null object\n",
      "Present residence since                                     1000 non-null int64\n",
      "Property                                                    1000 non-null object\n",
      "Age                                                         1000 non-null int64\n",
      "Other installment plans                                     1000 non-null object\n",
      "Housing                                                     1000 non-null object\n",
      "Number of existing credits at this bank                     1000 non-null int64\n",
      "Job                                                         1000 non-null object\n",
      "Number of people being liable to provide maintenance for    1000 non-null int64\n",
      "Telephone                                                   1000 non-null object\n",
      "foreign worker                                              1000 non-null object\n",
      "Good_Bad                                                    1000 non-null int64\n",
      "dtypes: int64(8), object(13)\n",
      "memory usage: 164.2+ KB\n"
     ]
    }
   ],
   "source": [
    "data.info()"
   ]
  },
  {
   "cell_type": "code",
   "execution_count": 11,
   "metadata": {},
   "outputs": [
    {
     "data": {
      "text/plain": [
       "count    1000.000000\n",
       "mean       35.546000\n",
       "std        11.375469\n",
       "min        19.000000\n",
       "25%        27.000000\n",
       "50%        33.000000\n",
       "75%        42.000000\n",
       "max        75.000000\n",
       "Name: Age, dtype: float64"
      ]
     },
     "execution_count": 11,
     "metadata": {},
     "output_type": "execute_result"
    }
   ],
   "source": [
    "Age1 = data['Age']\n",
    "data['Age'].describe()"
   ]
  },
  {
   "cell_type": "code",
   "execution_count": 12,
   "metadata": {},
   "outputs": [
    {
     "data": {
      "text/html": [
       "<div>\n",
       "<style scoped>\n",
       "    .dataframe tbody tr th:only-of-type {\n",
       "        vertical-align: middle;\n",
       "    }\n",
       "\n",
       "    .dataframe tbody tr th {\n",
       "        vertical-align: top;\n",
       "    }\n",
       "\n",
       "    .dataframe thead th {\n",
       "        text-align: right;\n",
       "    }\n",
       "</style>\n",
       "<table border=\"1\" class=\"dataframe\">\n",
       "  <thead>\n",
       "    <tr style=\"text-align: right;\">\n",
       "      <th></th>\n",
       "      <th>Status of existing checking account</th>\n",
       "      <th>Duration in month</th>\n",
       "      <th>Credit history</th>\n",
       "      <th>Purpose</th>\n",
       "      <th>Credit amount</th>\n",
       "      <th>Savings account/bonds</th>\n",
       "      <th>Present employment since</th>\n",
       "      <th>Installment rate in percentage of disposable income</th>\n",
       "      <th>Personal status and sex</th>\n",
       "      <th>Other debtors / guarantors</th>\n",
       "      <th>Present residence since</th>\n",
       "      <th>Property</th>\n",
       "      <th>Age</th>\n",
       "      <th>Other installment plans</th>\n",
       "      <th>Housing</th>\n",
       "      <th>Number of existing credits at this bank</th>\n",
       "      <th>Job</th>\n",
       "      <th>Number of people being liable to provide maintenance for</th>\n",
       "      <th>Telephone</th>\n",
       "      <th>foreign worker</th>\n",
       "      <th>Good_Bad</th>\n",
       "      <th>Age in years</th>\n",
       "    </tr>\n",
       "  </thead>\n",
       "  <tbody>\n",
       "    <tr>\n",
       "      <td>0</td>\n",
       "      <td>&lt;0</td>\n",
       "      <td>6</td>\n",
       "      <td>critical account/ other credits existing (not at this bank)</td>\n",
       "      <td>radio/television</td>\n",
       "      <td>1169</td>\n",
       "      <td>unknown/ no savings account</td>\n",
       "      <td>&gt;7</td>\n",
       "      <td>4</td>\n",
       "      <td>male : single</td>\n",
       "      <td>none</td>\n",
       "      <td>4</td>\n",
       "      <td>real estate</td>\n",
       "      <td>67</td>\n",
       "      <td>none</td>\n",
       "      <td>own</td>\n",
       "      <td>2</td>\n",
       "      <td>skilled employee / official</td>\n",
       "      <td>1</td>\n",
       "      <td>yes, registered under the customers name</td>\n",
       "      <td>Yes</td>\n",
       "      <td>1</td>\n",
       "      <td>Elder</td>\n",
       "    </tr>\n",
       "    <tr>\n",
       "      <td>1</td>\n",
       "      <td>0-200</td>\n",
       "      <td>48</td>\n",
       "      <td>existing credits paid back duly till now</td>\n",
       "      <td>radio/television</td>\n",
       "      <td>5951</td>\n",
       "      <td>&lt; 100</td>\n",
       "      <td>1-4</td>\n",
       "      <td>2</td>\n",
       "      <td>female : divorced/separated/married</td>\n",
       "      <td>none</td>\n",
       "      <td>2</td>\n",
       "      <td>real estate</td>\n",
       "      <td>22</td>\n",
       "      <td>none</td>\n",
       "      <td>own</td>\n",
       "      <td>1</td>\n",
       "      <td>skilled employee / official</td>\n",
       "      <td>1</td>\n",
       "      <td>none</td>\n",
       "      <td>Yes</td>\n",
       "      <td>2</td>\n",
       "      <td>young</td>\n",
       "    </tr>\n",
       "    <tr>\n",
       "      <td>2</td>\n",
       "      <td>NA</td>\n",
       "      <td>12</td>\n",
       "      <td>critical account/ other credits existing (not at this bank)</td>\n",
       "      <td>education</td>\n",
       "      <td>2096</td>\n",
       "      <td>&lt; 100</td>\n",
       "      <td>4-7</td>\n",
       "      <td>2</td>\n",
       "      <td>male : single</td>\n",
       "      <td>none</td>\n",
       "      <td>3</td>\n",
       "      <td>real estate</td>\n",
       "      <td>49</td>\n",
       "      <td>none</td>\n",
       "      <td>own</td>\n",
       "      <td>1</td>\n",
       "      <td>unskilled - resident</td>\n",
       "      <td>2</td>\n",
       "      <td>none</td>\n",
       "      <td>Yes</td>\n",
       "      <td>1</td>\n",
       "      <td>Middle</td>\n",
       "    </tr>\n",
       "    <tr>\n",
       "      <td>3</td>\n",
       "      <td>&lt;0</td>\n",
       "      <td>42</td>\n",
       "      <td>existing credits paid back duly till now</td>\n",
       "      <td>furniture/equipment</td>\n",
       "      <td>7882</td>\n",
       "      <td>&lt; 100</td>\n",
       "      <td>4-7</td>\n",
       "      <td>2</td>\n",
       "      <td>male : single</td>\n",
       "      <td>guarantor</td>\n",
       "      <td>4</td>\n",
       "      <td>building society savings agreement/ life insurance</td>\n",
       "      <td>45</td>\n",
       "      <td>none</td>\n",
       "      <td>for free</td>\n",
       "      <td>1</td>\n",
       "      <td>skilled employee / official</td>\n",
       "      <td>2</td>\n",
       "      <td>none</td>\n",
       "      <td>Yes</td>\n",
       "      <td>1</td>\n",
       "      <td>Middle</td>\n",
       "    </tr>\n",
       "    <tr>\n",
       "      <td>4</td>\n",
       "      <td>&lt;0</td>\n",
       "      <td>24</td>\n",
       "      <td>delay in paying off in the past</td>\n",
       "      <td>car(new)</td>\n",
       "      <td>4870</td>\n",
       "      <td>&lt; 100</td>\n",
       "      <td>1-4</td>\n",
       "      <td>3</td>\n",
       "      <td>male : single</td>\n",
       "      <td>none</td>\n",
       "      <td>4</td>\n",
       "      <td>unknown / no property</td>\n",
       "      <td>53</td>\n",
       "      <td>none</td>\n",
       "      <td>for free</td>\n",
       "      <td>2</td>\n",
       "      <td>skilled employee / official</td>\n",
       "      <td>2</td>\n",
       "      <td>none</td>\n",
       "      <td>Yes</td>\n",
       "      <td>2</td>\n",
       "      <td>Elder</td>\n",
       "    </tr>\n",
       "  </tbody>\n",
       "</table>\n",
       "</div>"
      ],
      "text/plain": [
       "  Status of existing checking account  Duration in month  \\\n",
       "0                                  <0                  6   \n",
       "1                               0-200                 48   \n",
       "2                                  NA                 12   \n",
       "3                                  <0                 42   \n",
       "4                                  <0                 24   \n",
       "\n",
       "                                                Credit history  \\\n",
       "0  critical account/ other credits existing (not at this bank)   \n",
       "1                     existing credits paid back duly till now   \n",
       "2  critical account/ other credits existing (not at this bank)   \n",
       "3                     existing credits paid back duly till now   \n",
       "4                              delay in paying off in the past   \n",
       "\n",
       "               Purpose  Credit amount        Savings account/bonds  \\\n",
       "0     radio/television           1169  unknown/ no savings account   \n",
       "1     radio/television           5951                        < 100   \n",
       "2            education           2096                        < 100   \n",
       "3  furniture/equipment           7882                        < 100   \n",
       "4             car(new)           4870                        < 100   \n",
       "\n",
       "  Present employment since  \\\n",
       "0                       >7   \n",
       "1                      1-4   \n",
       "2                      4-7   \n",
       "3                      4-7   \n",
       "4                      1-4   \n",
       "\n",
       "   Installment rate in percentage of disposable income  \\\n",
       "0                                                    4   \n",
       "1                                                    2   \n",
       "2                                                    2   \n",
       "3                                                    2   \n",
       "4                                                    3   \n",
       "\n",
       "               Personal status and sex Other debtors / guarantors  \\\n",
       "0                        male : single                       none   \n",
       "1  female : divorced/separated/married                       none   \n",
       "2                        male : single                       none   \n",
       "3                        male : single                  guarantor   \n",
       "4                        male : single                       none   \n",
       "\n",
       "   Present residence since  \\\n",
       "0                        4   \n",
       "1                        2   \n",
       "2                        3   \n",
       "3                        4   \n",
       "4                        4   \n",
       "\n",
       "                                             Property  Age  \\\n",
       "0                                         real estate   67   \n",
       "1                                         real estate   22   \n",
       "2                                         real estate   49   \n",
       "3  building society savings agreement/ life insurance   45   \n",
       "4                               unknown / no property   53   \n",
       "\n",
       "  Other installment plans   Housing  Number of existing credits at this bank  \\\n",
       "0                    none       own                                        2   \n",
       "1                    none       own                                        1   \n",
       "2                    none       own                                        1   \n",
       "3                    none  for free                                        1   \n",
       "4                    none  for free                                        2   \n",
       "\n",
       "                           Job  \\\n",
       "0  skilled employee / official   \n",
       "1  skilled employee / official   \n",
       "2         unskilled - resident   \n",
       "3  skilled employee / official   \n",
       "4  skilled employee / official   \n",
       "\n",
       "   Number of people being liable to provide maintenance for  \\\n",
       "0                                                         1   \n",
       "1                                                         1   \n",
       "2                                                         2   \n",
       "3                                                         2   \n",
       "4                                                         2   \n",
       "\n",
       "                                  Telephone foreign worker  Good_Bad  \\\n",
       "0  yes, registered under the customers name            Yes         1   \n",
       "1                                      none            Yes         2   \n",
       "2                                      none            Yes         1   \n",
       "3                                      none            Yes         1   \n",
       "4                                      none            Yes         2   \n",
       "\n",
       "  Age in years  \n",
       "0        Elder  \n",
       "1        young  \n",
       "2       Middle  \n",
       "3       Middle  \n",
       "4        Elder  "
      ]
     },
     "execution_count": 12,
     "metadata": {},
     "output_type": "execute_result"
    }
   ],
   "source": [
    "Age2 = list()\n",
    "for Age in Age1:\n",
    "    if Age <= 20:\n",
    "        Age2.append('Child')\n",
    "    elif Age >=21 and Age<=35:\n",
    "        Age2.append('young')\n",
    "    elif Age >=36 and Age<=50:\n",
    "        Age2.append('Middle')\n",
    "    else:\n",
    "        Age2.append('Elder')\n",
    "data = pd.concat([data, pd.DataFrame(Age2, columns=['Age in years'])], axis=1)\n",
    "data.head()"
   ]
  },
  {
   "cell_type": "code",
   "execution_count": 13,
   "metadata": {},
   "outputs": [],
   "source": [
    "data.drop(labels=['Age'], axis = 1, inplace=True)"
   ]
  },
  {
   "cell_type": "code",
   "execution_count": 14,
   "metadata": {},
   "outputs": [
    {
     "data": {
      "text/plain": [
       "1    700\n",
       "2    300\n",
       "Name: Good_Bad, dtype: int64"
      ]
     },
     "execution_count": 14,
     "metadata": {},
     "output_type": "execute_result"
    }
   ],
   "source": [
    "data.Good_Bad.value_counts()"
   ]
  },
  {
   "cell_type": "code",
   "execution_count": 15,
   "metadata": {},
   "outputs": [
    {
     "data": {
      "text/plain": [
       "1    70.0\n",
       "2    30.0\n",
       "Name: Good_Bad, dtype: float64"
      ]
     },
     "execution_count": 15,
     "metadata": {},
     "output_type": "execute_result"
    }
   ],
   "source": [
    "data.Good_Bad.value_counts(normalize=True)*100"
   ]
  },
  {
   "cell_type": "code",
   "execution_count": 16,
   "metadata": {},
   "outputs": [
    {
     "data": {
      "text/plain": [
       "Text(0, 0.5, 'Good_Bad')"
      ]
     },
     "execution_count": 16,
     "metadata": {},
     "output_type": "execute_result"
    },
    {
     "data": {
      "image/png": "[encoded data removed]",
      "text/plain": [
       "<Figure size 432x288 with 1 Axes>"
      ]
     },
     "metadata": {
      "needs_background": "light"
     },
     "output_type": "display_data"
    }
   ],
   "source": [
    "value=data['Good_Bad'].value_counts().plot(kind='bar')\n",
    "plt.ylabel('Good_Bad')"
   ]
  },
  {
   "cell_type": "markdown",
   "metadata": {},
   "source": [
    "#### From the above plot we can observe that 70% Good worthy and 30% bad worthy customers are there."
   ]
  },
  {
   "cell_type": "code",
   "execution_count": 17,
   "metadata": {},
   "outputs": [
    {
     "data": {
      "text/plain": [
       "Status of existing checking account                         0\n",
       "Duration in month                                           0\n",
       "Credit history                                              0\n",
       "Purpose                                                     0\n",
       "Credit amount                                               0\n",
       "Savings account/bonds                                       0\n",
       "Present employment since                                    0\n",
       "Installment rate in percentage of disposable income         0\n",
       "Personal status and sex                                     0\n",
       "Other debtors / guarantors                                  0\n",
       "Present residence since                                     0\n",
       "Property                                                    0\n",
       "Other installment plans                                     0\n",
       "Housing                                                     0\n",
       "Number of existing credits at this bank                     0\n",
       "Job                                                         0\n",
       "Number of people being liable to provide maintenance for    0\n",
       "Telephone                                                   0\n",
       "foreign worker                                              0\n",
       "Good_Bad                                                    0\n",
       "Age in years                                                0\n",
       "dtype: int64"
      ]
     },
     "execution_count": 17,
     "metadata": {},
     "output_type": "execute_result"
    }
   ],
   "source": [
    "data.isnull().sum()"
   ]
  },
  {
   "cell_type": "markdown",
   "metadata": {},
   "source": [
    "#### From the above information there are no null values in the dataset"
   ]
  },
  {
   "cell_type": "code",
   "execution_count": 18,
   "metadata": {},
   "outputs": [
    {
     "data": {
      "text/html": [
       "<div>\n",
       "<style scoped>\n",
       "    .dataframe tbody tr th:only-of-type {\n",
       "        vertical-align: middle;\n",
       "    }\n",
       "\n",
       "    .dataframe tbody tr th {\n",
       "        vertical-align: top;\n",
       "    }\n",
       "\n",
       "    .dataframe thead th {\n",
       "        text-align: right;\n",
       "    }\n",
       "</style>\n",
       "<table border=\"1\" class=\"dataframe\">\n",
       "  <thead>\n",
       "    <tr style=\"text-align: right;\">\n",
       "      <th></th>\n",
       "      <th>Status of existing checking account</th>\n",
       "      <th>Duration in month</th>\n",
       "      <th>Credit history</th>\n",
       "      <th>Purpose</th>\n",
       "      <th>Credit amount</th>\n",
       "      <th>Savings account/bonds</th>\n",
       "      <th>Present employment since</th>\n",
       "      <th>Installment rate in percentage of disposable income</th>\n",
       "      <th>Personal status and sex</th>\n",
       "      <th>Other debtors / guarantors</th>\n",
       "      <th>Present residence since</th>\n",
       "      <th>Property</th>\n",
       "      <th>Other installment plans</th>\n",
       "      <th>Housing</th>\n",
       "      <th>Number of existing credits at this bank</th>\n",
       "      <th>Job</th>\n",
       "      <th>Number of people being liable to provide maintenance for</th>\n",
       "      <th>Telephone</th>\n",
       "      <th>foreign worker</th>\n",
       "      <th>Good_Bad</th>\n",
       "      <th>Age in years</th>\n",
       "    </tr>\n",
       "  </thead>\n",
       "  <tbody>\n",
       "    <tr>\n",
       "      <td>0</td>\n",
       "      <td>&lt;0</td>\n",
       "      <td>6</td>\n",
       "      <td>critical account/ other credits existing (not at this bank)</td>\n",
       "      <td>radio/television</td>\n",
       "      <td>1169</td>\n",
       "      <td>unknown/ no savings account</td>\n",
       "      <td>&gt;7</td>\n",
       "      <td>4</td>\n",
       "      <td>male : single</td>\n",
       "      <td>none</td>\n",
       "      <td>4</td>\n",
       "      <td>real estate</td>\n",
       "      <td>none</td>\n",
       "      <td>own</td>\n",
       "      <td>2</td>\n",
       "      <td>skilled employee / official</td>\n",
       "      <td>1</td>\n",
       "      <td>yes, registered under the customers name</td>\n",
       "      <td>Yes</td>\n",
       "      <td>1</td>\n",
       "      <td>Elder</td>\n",
       "    </tr>\n",
       "    <tr>\n",
       "      <td>1</td>\n",
       "      <td>0-200</td>\n",
       "      <td>48</td>\n",
       "      <td>existing credits paid back duly till now</td>\n",
       "      <td>radio/television</td>\n",
       "      <td>5951</td>\n",
       "      <td>&lt; 100</td>\n",
       "      <td>1-4</td>\n",
       "      <td>2</td>\n",
       "      <td>female : divorced/separated/married</td>\n",
       "      <td>none</td>\n",
       "      <td>2</td>\n",
       "      <td>real estate</td>\n",
       "      <td>none</td>\n",
       "      <td>own</td>\n",
       "      <td>1</td>\n",
       "      <td>skilled employee / official</td>\n",
       "      <td>1</td>\n",
       "      <td>none</td>\n",
       "      <td>Yes</td>\n",
       "      <td>2</td>\n",
       "      <td>young</td>\n",
       "    </tr>\n",
       "    <tr>\n",
       "      <td>2</td>\n",
       "      <td>NA</td>\n",
       "      <td>12</td>\n",
       "      <td>critical account/ other credits existing (not at this bank)</td>\n",
       "      <td>education</td>\n",
       "      <td>2096</td>\n",
       "      <td>&lt; 100</td>\n",
       "      <td>4-7</td>\n",
       "      <td>2</td>\n",
       "      <td>male : single</td>\n",
       "      <td>none</td>\n",
       "      <td>3</td>\n",
       "      <td>real estate</td>\n",
       "      <td>none</td>\n",
       "      <td>own</td>\n",
       "      <td>1</td>\n",
       "      <td>unskilled - resident</td>\n",
       "      <td>2</td>\n",
       "      <td>none</td>\n",
       "      <td>Yes</td>\n",
       "      <td>1</td>\n",
       "      <td>Middle</td>\n",
       "    </tr>\n",
       "    <tr>\n",
       "      <td>3</td>\n",
       "      <td>&lt;0</td>\n",
       "      <td>42</td>\n",
       "      <td>existing credits paid back duly till now</td>\n",
       "      <td>furniture/equipment</td>\n",
       "      <td>7882</td>\n",
       "      <td>&lt; 100</td>\n",
       "      <td>4-7</td>\n",
       "      <td>2</td>\n",
       "      <td>male : single</td>\n",
       "      <td>guarantor</td>\n",
       "      <td>4</td>\n",
       "      <td>building society savings agreement/ life insurance</td>\n",
       "      <td>none</td>\n",
       "      <td>for free</td>\n",
       "      <td>1</td>\n",
       "      <td>skilled employee / official</td>\n",
       "      <td>2</td>\n",
       "      <td>none</td>\n",
       "      <td>Yes</td>\n",
       "      <td>1</td>\n",
       "      <td>Middle</td>\n",
       "    </tr>\n",
       "    <tr>\n",
       "      <td>4</td>\n",
       "      <td>&lt;0</td>\n",
       "      <td>24</td>\n",
       "      <td>delay in paying off in the past</td>\n",
       "      <td>car(new)</td>\n",
       "      <td>4870</td>\n",
       "      <td>&lt; 100</td>\n",
       "      <td>1-4</td>\n",
       "      <td>3</td>\n",
       "      <td>male : single</td>\n",
       "      <td>none</td>\n",
       "      <td>4</td>\n",
       "      <td>unknown / no property</td>\n",
       "      <td>none</td>\n",
       "      <td>for free</td>\n",
       "      <td>2</td>\n",
       "      <td>skilled employee / official</td>\n",
       "      <td>2</td>\n",
       "      <td>none</td>\n",
       "      <td>Yes</td>\n",
       "      <td>2</td>\n",
       "      <td>Elder</td>\n",
       "    </tr>\n",
       "  </tbody>\n",
       "</table>\n",
       "</div>"
      ],
      "text/plain": [
       "  Status of existing checking account  Duration in month  \\\n",
       "0                                  <0                  6   \n",
       "1                               0-200                 48   \n",
       "2                                  NA                 12   \n",
       "3                                  <0                 42   \n",
       "4                                  <0                 24   \n",
       "\n",
       "                                                Credit history  \\\n",
       "0  critical account/ other credits existing (not at this bank)   \n",
       "1                     existing credits paid back duly till now   \n",
       "2  critical account/ other credits existing (not at this bank)   \n",
       "3                     existing credits paid back duly till now   \n",
       "4                              delay in paying off in the past   \n",
       "\n",
       "               Purpose  Credit amount        Savings account/bonds  \\\n",
       "0     radio/television           1169  unknown/ no savings account   \n",
       "1     radio/television           5951                        < 100   \n",
       "2            education           2096                        < 100   \n",
       "3  furniture/equipment           7882                        < 100   \n",
       "4             car(new)           4870                        < 100   \n",
       "\n",
       "  Present employment since  \\\n",
       "0                       >7   \n",
       "1                      1-4   \n",
       "2                      4-7   \n",
       "3                      4-7   \n",
       "4                      1-4   \n",
       "\n",
       "   Installment rate in percentage of disposable income  \\\n",
       "0                                                    4   \n",
       "1                                                    2   \n",
       "2                                                    2   \n",
       "3                                                    2   \n",
       "4                                                    3   \n",
       "\n",
       "               Personal status and sex Other debtors / guarantors  \\\n",
       "0                        male : single                       none   \n",
       "1  female : divorced/separated/married                       none   \n",
       "2                        male : single                       none   \n",
       "3                        male : single                  guarantor   \n",
       "4                        male : single                       none   \n",
       "\n",
       "   Present residence since  \\\n",
       "0                        4   \n",
       "1                        2   \n",
       "2                        3   \n",
       "3                        4   \n",
       "4                        4   \n",
       "\n",
       "                                             Property Other installment plans  \\\n",
       "0                                         real estate                    none   \n",
       "1                                         real estate                    none   \n",
       "2                                         real estate                    none   \n",
       "3  building society savings agreement/ life insurance                    none   \n",
       "4                               unknown / no property                    none   \n",
       "\n",
       "    Housing  Number of existing credits at this bank  \\\n",
       "0       own                                        2   \n",
       "1       own                                        1   \n",
       "2       own                                        1   \n",
       "3  for free                                        1   \n",
       "4  for free                                        2   \n",
       "\n",
       "                           Job  \\\n",
       "0  skilled employee / official   \n",
       "1  skilled employee / official   \n",
       "2         unskilled - resident   \n",
       "3  skilled employee / official   \n",
       "4  skilled employee / official   \n",
       "\n",
       "   Number of people being liable to provide maintenance for  \\\n",
       "0                                                         1   \n",
       "1                                                         1   \n",
       "2                                                         2   \n",
       "3                                                         2   \n",
       "4                                                         2   \n",
       "\n",
       "                                  Telephone foreign worker  Good_Bad  \\\n",
       "0  yes, registered under the customers name            Yes         1   \n",
       "1                                      none            Yes         2   \n",
       "2                                      none            Yes         1   \n",
       "3                                      none            Yes         1   \n",
       "4                                      none            Yes         2   \n",
       "\n",
       "  Age in years  \n",
       "0        Elder  \n",
       "1        young  \n",
       "2       Middle  \n",
       "3       Middle  \n",
       "4        Elder  "
      ]
     },
     "execution_count": 18,
     "metadata": {},
     "output_type": "execute_result"
    }
   ],
   "source": [
    "data.head()"
   ]
  },
  {
   "cell_type": "code",
   "execution_count": 19,
   "metadata": {},
   "outputs": [
    {
     "data": {
      "text/html": [
       "<div>\n",
       "<style scoped>\n",
       "    .dataframe tbody tr th:only-of-type {\n",
       "        vertical-align: middle;\n",
       "    }\n",
       "\n",
       "    .dataframe tbody tr th {\n",
       "        vertical-align: top;\n",
       "    }\n",
       "\n",
       "    .dataframe thead th {\n",
       "        text-align: right;\n",
       "    }\n",
       "</style>\n",
       "<table border=\"1\" class=\"dataframe\">\n",
       "  <thead>\n",
       "    <tr style=\"text-align: right;\">\n",
       "      <th></th>\n",
       "      <th>Good</th>\n",
       "      <th>Bad</th>\n",
       "      <th>Status of existing checking account</th>\n",
       "      <th>Duration in month</th>\n",
       "      <th>Credit history</th>\n",
       "      <th>Purpose</th>\n",
       "      <th>Credit amount</th>\n",
       "      <th>Savings account/bonds</th>\n",
       "      <th>Present employment since</th>\n",
       "      <th>Installment rate in percentage of disposable income</th>\n",
       "      <th>Personal status and sex</th>\n",
       "      <th>Other debtors / guarantors</th>\n",
       "      <th>Present residence since</th>\n",
       "      <th>Property</th>\n",
       "      <th>Other installment plans</th>\n",
       "      <th>Housing</th>\n",
       "      <th>Number of existing credits at this bank</th>\n",
       "      <th>Job</th>\n",
       "      <th>Number of people being liable to provide maintenance for</th>\n",
       "      <th>Telephone</th>\n",
       "      <th>foreign worker</th>\n",
       "      <th>Good_Bad</th>\n",
       "      <th>Age in years</th>\n",
       "    </tr>\n",
       "  </thead>\n",
       "  <tbody>\n",
       "    <tr>\n",
       "      <td>0</td>\n",
       "      <td>1.0</td>\n",
       "      <td>0.0</td>\n",
       "      <td>&lt;0</td>\n",
       "      <td>6</td>\n",
       "      <td>critical account/ other credits existing (not at this bank)</td>\n",
       "      <td>radio/television</td>\n",
       "      <td>1169</td>\n",
       "      <td>unknown/ no savings account</td>\n",
       "      <td>&gt;7</td>\n",
       "      <td>4</td>\n",
       "      <td>male : single</td>\n",
       "      <td>none</td>\n",
       "      <td>4</td>\n",
       "      <td>real estate</td>\n",
       "      <td>none</td>\n",
       "      <td>own</td>\n",
       "      <td>2</td>\n",
       "      <td>skilled employee / official</td>\n",
       "      <td>1</td>\n",
       "      <td>yes, registered under the customers name</td>\n",
       "      <td>Yes</td>\n",
       "      <td>1</td>\n",
       "      <td>Elder</td>\n",
       "    </tr>\n",
       "    <tr>\n",
       "      <td>1</td>\n",
       "      <td>0.0</td>\n",
       "      <td>1.0</td>\n",
       "      <td>0-200</td>\n",
       "      <td>48</td>\n",
       "      <td>existing credits paid back duly till now</td>\n",
       "      <td>radio/television</td>\n",
       "      <td>5951</td>\n",
       "      <td>&lt; 100</td>\n",
       "      <td>1-4</td>\n",
       "      <td>2</td>\n",
       "      <td>female : divorced/separated/married</td>\n",
       "      <td>none</td>\n",
       "      <td>2</td>\n",
       "      <td>real estate</td>\n",
       "      <td>none</td>\n",
       "      <td>own</td>\n",
       "      <td>1</td>\n",
       "      <td>skilled employee / official</td>\n",
       "      <td>1</td>\n",
       "      <td>none</td>\n",
       "      <td>Yes</td>\n",
       "      <td>2</td>\n",
       "      <td>young</td>\n",
       "    </tr>\n",
       "    <tr>\n",
       "      <td>2</td>\n",
       "      <td>1.0</td>\n",
       "      <td>0.0</td>\n",
       "      <td>NA</td>\n",
       "      <td>12</td>\n",
       "      <td>critical account/ other credits existing (not at this bank)</td>\n",
       "      <td>education</td>\n",
       "      <td>2096</td>\n",
       "      <td>&lt; 100</td>\n",
       "      <td>4-7</td>\n",
       "      <td>2</td>\n",
       "      <td>male : single</td>\n",
       "      <td>none</td>\n",
       "      <td>3</td>\n",
       "      <td>real estate</td>\n",
       "      <td>none</td>\n",
       "      <td>own</td>\n",
       "      <td>1</td>\n",
       "      <td>unskilled - resident</td>\n",
       "      <td>2</td>\n",
       "      <td>none</td>\n",
       "      <td>Yes</td>\n",
       "      <td>1</td>\n",
       "      <td>Middle</td>\n",
       "    </tr>\n",
       "    <tr>\n",
       "      <td>3</td>\n",
       "      <td>1.0</td>\n",
       "      <td>0.0</td>\n",
       "      <td>&lt;0</td>\n",
       "      <td>42</td>\n",
       "      <td>existing credits paid back duly till now</td>\n",
       "      <td>furniture/equipment</td>\n",
       "      <td>7882</td>\n",
       "      <td>&lt; 100</td>\n",
       "      <td>4-7</td>\n",
       "      <td>2</td>\n",
       "      <td>male : single</td>\n",
       "      <td>guarantor</td>\n",
       "      <td>4</td>\n",
       "      <td>building society savings agreement/ life insurance</td>\n",
       "      <td>none</td>\n",
       "      <td>for free</td>\n",
       "      <td>1</td>\n",
       "      <td>skilled employee / official</td>\n",
       "      <td>2</td>\n",
       "      <td>none</td>\n",
       "      <td>Yes</td>\n",
       "      <td>1</td>\n",
       "      <td>Middle</td>\n",
       "    </tr>\n",
       "    <tr>\n",
       "      <td>4</td>\n",
       "      <td>0.0</td>\n",
       "      <td>1.0</td>\n",
       "      <td>&lt;0</td>\n",
       "      <td>24</td>\n",
       "      <td>delay in paying off in the past</td>\n",
       "      <td>car(new)</td>\n",
       "      <td>4870</td>\n",
       "      <td>&lt; 100</td>\n",
       "      <td>1-4</td>\n",
       "      <td>3</td>\n",
       "      <td>male : single</td>\n",
       "      <td>none</td>\n",
       "      <td>4</td>\n",
       "      <td>unknown / no property</td>\n",
       "      <td>none</td>\n",
       "      <td>for free</td>\n",
       "      <td>2</td>\n",
       "      <td>skilled employee / official</td>\n",
       "      <td>2</td>\n",
       "      <td>none</td>\n",
       "      <td>Yes</td>\n",
       "      <td>2</td>\n",
       "      <td>Elder</td>\n",
       "    </tr>\n",
       "  </tbody>\n",
       "</table>\n",
       "</div>"
      ],
      "text/plain": [
       "   Good  Bad Status of existing checking account  Duration in month  \\\n",
       "0   1.0  0.0                                  <0                  6   \n",
       "1   0.0  1.0                               0-200                 48   \n",
       "2   1.0  0.0                                  NA                 12   \n",
       "3   1.0  0.0                                  <0                 42   \n",
       "4   0.0  1.0                                  <0                 24   \n",
       "\n",
       "                                                Credit history  \\\n",
       "0  critical account/ other credits existing (not at this bank)   \n",
       "1                     existing credits paid back duly till now   \n",
       "2  critical account/ other credits existing (not at this bank)   \n",
       "3                     existing credits paid back duly till now   \n",
       "4                              delay in paying off in the past   \n",
       "\n",
       "               Purpose  Credit amount        Savings account/bonds  \\\n",
       "0     radio/television           1169  unknown/ no savings account   \n",
       "1     radio/television           5951                        < 100   \n",
       "2            education           2096                        < 100   \n",
       "3  furniture/equipment           7882                        < 100   \n",
       "4             car(new)           4870                        < 100   \n",
       "\n",
       "  Present employment since  \\\n",
       "0                       >7   \n",
       "1                      1-4   \n",
       "2                      4-7   \n",
       "3                      4-7   \n",
       "4                      1-4   \n",
       "\n",
       "   Installment rate in percentage of disposable income  \\\n",
       "0                                                    4   \n",
       "1                                                    2   \n",
       "2                                                    2   \n",
       "3                                                    2   \n",
       "4                                                    3   \n",
       "\n",
       "               Personal status and sex Other debtors / guarantors  \\\n",
       "0                        male : single                       none   \n",
       "1  female : divorced/separated/married                       none   \n",
       "2                        male : single                       none   \n",
       "3                        male : single                  guarantor   \n",
       "4                        male : single                       none   \n",
       "\n",
       "   Present residence since  \\\n",
       "0                        4   \n",
       "1                        2   \n",
       "2                        3   \n",
       "3                        4   \n",
       "4                        4   \n",
       "\n",
       "                                             Property Other installment plans  \\\n",
       "0                                         real estate                    none   \n",
       "1                                         real estate                    none   \n",
       "2                                         real estate                    none   \n",
       "3  building society savings agreement/ life insurance                    none   \n",
       "4                               unknown / no property                    none   \n",
       "\n",
       "    Housing  Number of existing credits at this bank  \\\n",
       "0       own                                        2   \n",
       "1       own                                        1   \n",
       "2       own                                        1   \n",
       "3  for free                                        1   \n",
       "4  for free                                        2   \n",
       "\n",
       "                           Job  \\\n",
       "0  skilled employee / official   \n",
       "1  skilled employee / official   \n",
       "2         unskilled - resident   \n",
       "3  skilled employee / official   \n",
       "4  skilled employee / official   \n",
       "\n",
       "   Number of people being liable to provide maintenance for  \\\n",
       "0                                                         1   \n",
       "1                                                         1   \n",
       "2                                                         2   \n",
       "3                                                         2   \n",
       "4                                                         2   \n",
       "\n",
       "                                  Telephone foreign worker  Good_Bad  \\\n",
       "0  yes, registered under the customers name            Yes         1   \n",
       "1                                      none            Yes         2   \n",
       "2                                      none            Yes         1   \n",
       "3                                      none            Yes         1   \n",
       "4                                      none            Yes         2   \n",
       "\n",
       "  Age in years  \n",
       "0        Elder  \n",
       "1        young  \n",
       "2       Middle  \n",
       "3       Middle  \n",
       "4        Elder  "
      ]
     },
     "execution_count": 19,
     "metadata": {},
     "output_type": "execute_result"
    }
   ],
   "source": [
    "x=data.Good_Bad\n",
    "x=pd.DataFrame(x)\n",
    "\n",
    "from sklearn import preprocessing\n",
    "# 1. INSTANTIATE\n",
    "enc = preprocessing.OneHotEncoder()\n",
    "\n",
    "# 2. FIT\n",
    "enc.fit(x)\n",
    "\n",
    "# 3. Transform\n",
    "onehotlabels = enc.transform(x).toarray()\n",
    "onehotlabels.shape\n",
    "onehotlabels\n",
    "onehotlabels=pd.DataFrame(onehotlabels)\n",
    "onehotlabels.columns=['Good','Bad']\n",
    "data = pd.concat([onehotlabels,data], axis=1)\n",
    "\n",
    "data.head()\n"
   ]
  },
  {
   "cell_type": "code",
   "execution_count": 20,
   "metadata": {},
   "outputs": [
    {
     "data": {
      "image/png": "[encoded data removed]",
      "text/plain": [
       "<Figure size 1080x360 with 1 Axes>"
      ]
     },
     "metadata": {},
     "output_type": "display_data"
    }
   ],
   "source": [
    "sns.set(style=\"darkgrid\")\n",
    "plt.figure(figsize=(15,5))\n",
    "sns.countplot(x=\"Status of existing checking account\", data=data)\n",
    "plt.show()"
   ]
  },
  {
   "cell_type": "markdown",
   "metadata": {},
   "source": [
    "#### From the above plot status of accounts unknow for more customers"
   ]
  },
  {
   "cell_type": "code",
   "execution_count": 21,
   "metadata": {},
   "outputs": [
    {
     "data": {
      "image/png": "[encoded data removed]",
      "text/plain": [
       "<Figure size 1080x360 with 1 Axes>"
      ]
     },
     "metadata": {},
     "output_type": "display_data"
    }
   ],
   "source": [
    "sns.set(style=\"darkgrid\")\n",
    "plt.figure(figsize=(15,5))\n",
    "sns.countplot(x=\"Duration in month\", data=data)\n",
    "plt.show()"
   ]
  },
  {
   "cell_type": "code",
   "execution_count": 22,
   "metadata": {},
   "outputs": [
    {
     "data": {
      "image/png": "[encoded data removed]",
      "text/plain": [
       "<Figure size 1080x360 with 1 Axes>"
      ]
     },
     "metadata": {},
     "output_type": "display_data"
    }
   ],
   "source": [
    "sns.set(style=\"darkgrid\")\n",
    "plt.figure(figsize=(15,5))\n",
    "sns.countplot(y=\"Credit history\", data=data)\n",
    "plt.show()"
   ]
  },
  {
   "cell_type": "markdown",
   "metadata": {},
   "source": [
    "#### From the above plots we can observe that existing credits paid back duly till now is more "
   ]
  },
  {
   "cell_type": "code",
   "execution_count": 23,
   "metadata": {},
   "outputs": [
    {
     "data": {
      "image/png": "[encoded data removed]",
      "text/plain": [
       "<Figure size 1080x360 with 1 Axes>"
      ]
     },
     "metadata": {},
     "output_type": "display_data"
    }
   ],
   "source": [
    "sns.set(style=\"darkgrid\")\n",
    "plt.figure(figsize=(15,5))\n",
    "sns.countplot(y=\"Purpose\", data=data)\n",
    "plt.show()"
   ]
  },
  {
   "cell_type": "markdown",
   "metadata": {},
   "source": [
    "#### From the above plot radio/television perpose is more."
   ]
  },
  {
   "cell_type": "code",
   "execution_count": 24,
   "metadata": {},
   "outputs": [
    {
     "data": {
      "image/png": "[encoded data removed]",
      "text/plain": [
       "<Figure size 1080x360 with 1 Axes>"
      ]
     },
     "metadata": {},
     "output_type": "display_data"
    }
   ],
   "source": [
    "sns.set(style=\"darkgrid\")\n",
    "plt.figure(figsize=(15,5))\n",
    "x = data['Credit amount']\n",
    "x = pd.Series(x, name=\"Credit amount\")\n",
    "ax = sns.distplot(x)\n",
    "plt.show()"
   ]
  },
  {
   "cell_type": "markdown",
   "metadata": {},
   "source": [
    "#### From the above plot the credit amount between 0-5000 credit amount customers are more."
   ]
  },
  {
   "cell_type": "code",
   "execution_count": 25,
   "metadata": {},
   "outputs": [
    {
     "data": {
      "image/png": "[encoded data removed]",
      "text/plain": [
       "<Figure size 1080x360 with 1 Axes>"
      ]
     },
     "metadata": {},
     "output_type": "display_data"
    }
   ],
   "source": [
    "sns.set(style=\"darkgrid\")\n",
    "plt.figure(figsize=(15,5))\n",
    "sns.countplot(y=\"Savings account/bonds\", data=data)\n",
    "plt.show()"
   ]
  },
  {
   "cell_type": "markdown",
   "metadata": {},
   "source": [
    "#### From the above count plot we can observe that savings accounts <100 is more then others."
   ]
  },
  {
   "cell_type": "code",
   "execution_count": 26,
   "metadata": {},
   "outputs": [
    {
     "data": {
      "image/png": "[encoded data removed]",
      "text/plain": [
       "<Figure size 1080x360 with 1 Axes>"
      ]
     },
     "metadata": {},
     "output_type": "display_data"
    }
   ],
   "source": [
    "sns.set(style=\"darkgrid\")\n",
    "plt.figure(figsize=(15,5))\n",
    "sns.countplot(y=\"Present employment since\", data=data)\n",
    "plt.show()"
   ]
  },
  {
   "cell_type": "markdown",
   "metadata": {},
   "source": [
    "### We can boserve that employess with 1-4 years experience customers are more"
   ]
  },
  {
   "cell_type": "code",
   "execution_count": 27,
   "metadata": {},
   "outputs": [
    {
     "data": {
      "image/png": "[encoded data removed]",
      "text/plain": [
       "<Figure size 1080x360 with 1 Axes>"
      ]
     },
     "metadata": {},
     "output_type": "display_data"
    }
   ],
   "source": [
    "sns.set(style=\"darkgrid\")\n",
    "plt.figure(figsize=(15,5))\n",
    "x=data['Installment rate in percentage of disposable income']\n",
    "x = pd.Series(x, name=\"Installment rate in percentage of disposable income\")\n",
    "ax = sns.distplot(x)\n",
    "plt.show()"
   ]
  },
  {
   "cell_type": "code",
   "execution_count": 28,
   "metadata": {},
   "outputs": [
    {
     "data": {
      "image/png": "[encoded data removed]",
      "text/plain": [
       "<Figure size 1080x360 with 1 Axes>"
      ]
     },
     "metadata": {},
     "output_type": "display_data"
    }
   ],
   "source": [
    "sns.set(style=\"darkgrid\")\n",
    "plt.figure(figsize=(15,5))\n",
    "sns.countplot(y=\"Personal status and sex\", data=data)\n",
    "plt.show()"
   ]
  },
  {
   "cell_type": "code",
   "execution_count": 29,
   "metadata": {},
   "outputs": [
    {
     "data": {
      "image/png": "[encoded data removed]",
      "text/plain": [
       "<Figure size 1080x360 with 1 Axes>"
      ]
     },
     "metadata": {},
     "output_type": "display_data"
    }
   ],
   "source": [
    "sns.set(style=\"darkgrid\")\n",
    "plt.figure(figsize=(15,5))\n",
    "sns.countplot(y=\"Other debtors / guarantors\", data=data)\n",
    "plt.show()"
   ]
  },
  {
   "cell_type": "code",
   "execution_count": 30,
   "metadata": {},
   "outputs": [
    {
     "data": {
      "image/png": "[encoded data removed]",
      "text/plain": [
       "<Figure size 1080x360 with 1 Axes>"
      ]
     },
     "metadata": {},
     "output_type": "display_data"
    }
   ],
   "source": [
    "sns.set(style=\"darkgrid\")\n",
    "plt.figure(figsize=(15,5))\n",
    "x=data['Present residence since']\n",
    "x = pd.Series(x, name=\"Present residence since\")\n",
    "ax = sns.distplot(x)\n",
    "plt.show()"
   ]
  },
  {
   "cell_type": "code",
   "execution_count": 31,
   "metadata": {},
   "outputs": [
    {
     "data": {
      "image/png": "[encoded data removed]",
      "text/plain": [
       "<Figure size 1080x360 with 1 Axes>"
      ]
     },
     "metadata": {},
     "output_type": "display_data"
    }
   ],
   "source": [
    "sns.set(style=\"darkgrid\")\n",
    "plt.figure(figsize=(15,5))\n",
    "sns.countplot(y=\"Property\", data=data)\n",
    "plt.show()"
   ]
  },
  {
   "cell_type": "code",
   "execution_count": 32,
   "metadata": {},
   "outputs": [
    {
     "data": {
      "image/png": "[encoded data removed]",
      "text/plain": [
       "<Figure size 1080x360 with 1 Axes>"
      ]
     },
     "metadata": {},
     "output_type": "display_data"
    }
   ],
   "source": [
    "sns.set(style=\"darkgrid\")\n",
    "plt.figure(figsize=(15,5))\n",
    "sns.countplot(y=\"Age in years\", data=data)\n",
    "plt.show()"
   ]
  },
  {
   "cell_type": "code",
   "execution_count": 33,
   "metadata": {},
   "outputs": [
    {
     "data": {
      "image/png": "[encoded data removed]",
      "text/plain": [
       "<Figure size 1080x360 with 1 Axes>"
      ]
     },
     "metadata": {},
     "output_type": "display_data"
    }
   ],
   "source": [
    "sns.set(style=\"darkgrid\")\n",
    "plt.figure(figsize=(15,5))\n",
    "sns.countplot(y=\"Other installment plans\", data=data)\n",
    "plt.show()"
   ]
  },
  {
   "cell_type": "code",
   "execution_count": 34,
   "metadata": {},
   "outputs": [
    {
     "data": {
      "image/png": "[encoded data removed]",
      "text/plain": [
       "<Figure size 1080x360 with 1 Axes>"
      ]
     },
     "metadata": {},
     "output_type": "display_data"
    }
   ],
   "source": [
    "sns.set(style=\"darkgrid\")\n",
    "plt.figure(figsize=(15,5))\n",
    "sns.countplot(y=\"Housing\", data=data)\n",
    "plt.show()"
   ]
  },
  {
   "cell_type": "code",
   "execution_count": 35,
   "metadata": {},
   "outputs": [
    {
     "data": {
      "image/png": "[encoded data removed]",
      "text/plain": [
       "<Figure size 1080x360 with 1 Axes>"
      ]
     },
     "metadata": {},
     "output_type": "display_data"
    }
   ],
   "source": [
    "sns.set(style=\"darkgrid\")\n",
    "plt.figure(figsize=(15,5))\n",
    "x=data['Number of existing credits at this bank']\n",
    "x = pd.Series(x, name=\"Number of existing credits at this bank\")\n",
    "ax = sns.distplot(x)\n",
    "plt.show()"
   ]
  },
  {
   "cell_type": "code",
   "execution_count": 36,
   "metadata": {},
   "outputs": [
    {
     "data": {
      "image/png": "[encoded data removed]",
      "text/plain": [
       "<Figure size 1080x360 with 1 Axes>"
      ]
     },
     "metadata": {},
     "output_type": "display_data"
    }
   ],
   "source": [
    "sns.set(style=\"darkgrid\")\n",
    "plt.figure(figsize=(15,5))\n",
    "sns.countplot(y=\"Job\", data=data)\n",
    "plt.show()"
   ]
  },
  {
   "cell_type": "code",
   "execution_count": 37,
   "metadata": {},
   "outputs": [
    {
     "data": {
      "image/png": "[encoded data removed]",
      "text/plain": [
       "<Figure size 1080x360 with 1 Axes>"
      ]
     },
     "metadata": {},
     "output_type": "display_data"
    }
   ],
   "source": [
    "sns.set(style=\"darkgrid\")\n",
    "plt.figure(figsize=(15,5))\n",
    "sns.countplot(y=\"Number of people being liable to provide maintenance for\", data=data)\n",
    "plt.show()"
   ]
  },
  {
   "cell_type": "code",
   "execution_count": 38,
   "metadata": {},
   "outputs": [
    {
     "data": {
      "image/png": "[encoded data removed]",
      "text/plain": [
       "<Figure size 1080x360 with 1 Axes>"
      ]
     },
     "metadata": {},
     "output_type": "display_data"
    }
   ],
   "source": [
    "sns.set(style=\"darkgrid\")\n",
    "plt.figure(figsize=(15,5))\n",
    "sns.countplot(y=\"Telephone\", data=data)\n",
    "plt.show()"
   ]
  },
  {
   "cell_type": "code",
   "execution_count": 39,
   "metadata": {},
   "outputs": [
    {
     "data": {
      "image/png": "[encoded data removed]",
      "text/plain": [
       "<Figure size 1080x360 with 1 Axes>"
      ]
     },
     "metadata": {},
     "output_type": "display_data"
    }
   ],
   "source": [
    "sns.set(style=\"darkgrid\")\n",
    "plt.figure(figsize=(15,5))\n",
    "sns.countplot(y=\"foreign worker\", data=data)\n",
    "plt.show()"
   ]
  },
  {
   "cell_type": "code",
   "execution_count": 40,
   "metadata": {},
   "outputs": [
    {
     "data": {
      "image/png": "[encoded data removed]",
      "text/plain": [
       "<Figure size 1080x360 with 1 Axes>"
      ]
     },
     "metadata": {},
     "output_type": "display_data"
    }
   ],
   "source": [
    "sns.set(style=\"darkgrid\")\n",
    "plt.figure(figsize=(15,5))\n",
    "sns.barplot(y=\"Good_Bad\", x=\"foreign worker\", data=data)\n",
    "plt.show()"
   ]
  },
  {
   "cell_type": "code",
   "execution_count": 41,
   "metadata": {},
   "outputs": [
    {
     "data": {
      "image/png": "[encoded data removed]",
      "text/plain": [
       "<Figure size 1080x360 with 1 Axes>"
      ]
     },
     "metadata": {},
     "output_type": "display_data"
    }
   ],
   "source": [
    "sns.set(style=\"darkgrid\")\n",
    "plt.figure(figsize=(15,5))\n",
    "sns.barplot(y=\"Good_Bad\", x=\"Other debtors / guarantors\", data=data)\n",
    "plt.show()"
   ]
  },
  {
   "cell_type": "code",
   "execution_count": 42,
   "metadata": {},
   "outputs": [
    {
     "data": {
      "image/png": "[encoded data removed]",
      "text/plain": [
       "<Figure size 1080x360 with 1 Axes>"
      ]
     },
     "metadata": {},
     "output_type": "display_data"
    }
   ],
   "source": [
    "sns.set(style=\"darkgrid\")\n",
    "plt.figure(figsize=(15,5))\n",
    "sns.barplot(y=\"Good_Bad\", x=\"Personal status and sex\", data=data)\n",
    "plt.show()"
   ]
  },
  {
   "cell_type": "code",
   "execution_count": 43,
   "metadata": {},
   "outputs": [
    {
     "data": {
      "image/png": "[encoded data removed]",
      "text/plain": [
       "<Figure size 1080x360 with 1 Axes>"
      ]
     },
     "metadata": {},
     "output_type": "display_data"
    }
   ],
   "source": [
    "sns.set(style=\"darkgrid\")\n",
    "plt.figure(figsize=(15,5))\n",
    "sns.barplot(y=\"Good_Bad\", x=\"Present employment since\", data=data)\n",
    "plt.show()"
   ]
  },
  {
   "cell_type": "code",
   "execution_count": 44,
   "metadata": {},
   "outputs": [
    {
     "data": {
      "image/png": "[encoded data removed]",
      "text/plain": [
       "<Figure size 1080x360 with 1 Axes>"
      ]
     },
     "metadata": {},
     "output_type": "display_data"
    }
   ],
   "source": [
    "sns.set(style=\"darkgrid\")\n",
    "plt.figure(figsize=(15,5))\n",
    "sns.barplot(y=\"Good_Bad\", x=\"Savings account/bonds\", data=data)\n",
    "plt.show()"
   ]
  },
  {
   "cell_type": "code",
   "execution_count": 45,
   "metadata": {},
   "outputs": [
    {
     "data": {
      "image/png": "[encoded data removed]",
      "text/plain": [
       "<Figure size 1080x360 with 1 Axes>"
      ]
     },
     "metadata": {},
     "output_type": "display_data"
    }
   ],
   "source": [
    "sns.set(style=\"darkgrid\")\n",
    "plt.figure(figsize=(15,5))\n",
    "sns.barplot(y=\"Good_Bad\", x=\"Purpose\", data=data)\n",
    "plt.show()"
   ]
  },
  {
   "cell_type": "code",
   "execution_count": 46,
   "metadata": {},
   "outputs": [
    {
     "data": {
      "image/png": "[encoded data removed]",
      "text/plain": [
       "<Figure size 1080x360 with 1 Axes>"
      ]
     },
     "metadata": {},
     "output_type": "display_data"
    }
   ],
   "source": [
    "sns.set(style=\"darkgrid\")\n",
    "plt.figure(figsize=(15,5))\n",
    "sns.barplot(y=\"Good_Bad\", x=\"Credit history\", data=data)\n",
    "plt.show()"
   ]
  },
  {
   "cell_type": "code",
   "execution_count": 47,
   "metadata": {},
   "outputs": [
    {
     "data": {
      "image/png": "[encoded data removed]",
      "text/plain": [
       "<Figure size 1080x360 with 1 Axes>"
      ]
     },
     "metadata": {},
     "output_type": "display_data"
    }
   ],
   "source": [
    "sns.set(style=\"darkgrid\")\n",
    "plt.figure(figsize=(15,5))\n",
    "sns.barplot(y=\"Good_Bad\", x=\"Status of existing checking account\", data=data)\n",
    "plt.show()"
   ]
  },
  {
   "cell_type": "code",
   "execution_count": 48,
   "metadata": {},
   "outputs": [
    {
     "data": {
      "image/png": "[encoded data removed]",
      "text/plain": [
       "<Figure size 1080x360 with 1 Axes>"
      ]
     },
     "metadata": {},
     "output_type": "display_data"
    }
   ],
   "source": [
    "sns.set(style=\"darkgrid\")\n",
    "plt.figure(figsize=(15,5))\n",
    "sns.barplot(y=\"Good_Bad\", x=\"Duration in month\", data=data)\n",
    "plt.show()"
   ]
  },
  {
   "cell_type": "code",
   "execution_count": 49,
   "metadata": {},
   "outputs": [
    {
     "data": {
      "image/png": "[encoded data removed]",
      "text/plain": [
       "<Figure size 1080x360 with 1 Axes>"
      ]
     },
     "metadata": {},
     "output_type": "display_data"
    }
   ],
   "source": [
    "sns.set(style=\"darkgrid\")\n",
    "plt.figure(figsize=(15,5))\n",
    "sns.barplot(y=\"Good_Bad\", x=\"Installment rate in percentage of disposable income\", data=data)\n",
    "plt.show()"
   ]
  },
  {
   "cell_type": "code",
   "execution_count": 50,
   "metadata": {},
   "outputs": [
    {
     "data": {
      "image/png": "[encoded data removed]",
      "text/plain": [
       "<Figure size 1080x360 with 1 Axes>"
      ]
     },
     "metadata": {},
     "output_type": "display_data"
    }
   ],
   "source": [
    "sns.set(style=\"darkgrid\")\n",
    "plt.figure(figsize=(15,5))\n",
    "sns.barplot(y=\"Good_Bad\", x=\"Present residence since\", data=data)\n",
    "plt.show()"
   ]
  },
  {
   "cell_type": "code",
   "execution_count": 51,
   "metadata": {},
   "outputs": [
    {
     "data": {
      "image/png": "[encoded data removed]",
      "text/plain": [
       "<Figure size 1080x360 with 1 Axes>"
      ]
     },
     "metadata": {},
     "output_type": "display_data"
    }
   ],
   "source": [
    "sns.set(style=\"darkgrid\")\n",
    "plt.figure(figsize=(15,5))\n",
    "sns.barplot(y=\"Good_Bad\", x=\"Age in years\", data=data)\n",
    "plt.show()"
   ]
  },
  {
   "cell_type": "code",
   "execution_count": 52,
   "metadata": {},
   "outputs": [
    {
     "data": {
      "image/png": "[encoded data removed]",
      "text/plain": [
       "<Figure size 1080x360 with 1 Axes>"
      ]
     },
     "metadata": {},
     "output_type": "display_data"
    }
   ],
   "source": [
    "sns.set(style=\"darkgrid\")\n",
    "plt.figure(figsize=(15,5))\n",
    "sns.barplot(y=\"Good_Bad\", x=\"Number of existing credits at this bank\", data=data)\n",
    "plt.show()"
   ]
  },
  {
   "cell_type": "code",
   "execution_count": 53,
   "metadata": {},
   "outputs": [
    {
     "data": {
      "image/png": "[encoded data removed]",
      "text/plain": [
       "<Figure size 1080x360 with 1 Axes>"
      ]
     },
     "metadata": {},
     "output_type": "display_data"
    }
   ],
   "source": [
    "sns.set(style=\"darkgrid\")\n",
    "plt.figure(figsize=(15,5))\n",
    "sns.barplot(x=\"Good_Bad\", y=\"Number of people being liable to provide maintenance for\", data=data)\n",
    "plt.show()"
   ]
  },
  {
   "cell_type": "markdown",
   "metadata": {},
   "source": [
    "### Would a person with critical credit history, be more credit worthy?"
   ]
  },
  {
   "cell_type": "code",
   "execution_count": 54,
   "metadata": {},
   "outputs": [
    {
     "data": {
      "text/plain": [
       "<Figure size 1800x1080 with 0 Axes>"
      ]
     },
     "metadata": {},
     "output_type": "display_data"
    },
    {
     "data": {
      "image/png": "[encoded data removed]",
      "text/plain": [
       "<Figure size 432x288 with 1 Axes>"
      ]
     },
     "metadata": {},
     "output_type": "display_data"
    }
   ],
   "source": [
    "plt.figure(figsize=(25,15))\n",
    "data.groupby(['Credit history','Good_Bad']).size().unstack().plot(kind='bar',stacked=False)\n",
    "plt.show()"
   ]
  },
  {
   "cell_type": "markdown",
   "metadata": {},
   "source": [
    "### critical credits of the customer define the customer good or bad. \n",
    "#### From the above plot people with critical history can detrime person is credit worthy or not."
   ]
  },
  {
   "cell_type": "markdown",
   "metadata": {},
   "source": [
    "### Are young people more credit worthy?"
   ]
  },
  {
   "cell_type": "code",
   "execution_count": 55,
   "metadata": {},
   "outputs": [
    {
     "data": {
      "image/png": "[encoded data removed]",
      "text/plain": [
       "<Figure size 432x288 with 1 Axes>"
      ]
     },
     "metadata": {},
     "output_type": "display_data"
    }
   ],
   "source": [
    "data.groupby(['Age in years','Good_Bad']).size().unstack().plot(kind='bar',stacked=False)\n",
    "plt.show()"
   ]
  },
  {
   "cell_type": "code",
   "execution_count": null,
   "metadata": {},
   "outputs": [],
   "source": [
    "#### From the above plot we can observe that young people(20-35) are cridit worthy."
   ]
  },
  {
   "cell_type": "markdown",
   "metadata": {},
   "source": [
    "### Would a person with more credit accounts, be more credit worthy?"
   ]
  },
  {
   "cell_type": "code",
   "execution_count": 56,
   "metadata": {},
   "outputs": [
    {
     "data": {
      "image/png": "[encoded data removed]",
      "text/plain": [
       "<Figure size 432x288 with 1 Axes>"
      ]
     },
     "metadata": {},
     "output_type": "display_data"
    }
   ],
   "source": [
    "data.groupby(['Number of existing credits at this bank','Good_Bad']).size().unstack().plot(kind='bar',stacked=False)\n",
    "plt.show()"
   ]
  },
  {
   "cell_type": "markdown",
   "metadata": {},
   "source": [
    "#### From the above plot we can observe that with existing less credit accounts person is more credit worthy."
   ]
  },
  {
   "cell_type": "code",
   "execution_count": 57,
   "metadata": {},
   "outputs": [],
   "source": [
    "data[\"Status of existing checking account\"] = encoder.fit_transform(data[\"Status of existing checking account\"])"
   ]
  },
  {
   "cell_type": "code",
   "execution_count": 58,
   "metadata": {},
   "outputs": [],
   "source": [
    "data[\"Credit history\"] = encoder.fit_transform(data[\"Credit history\"])"
   ]
  },
  {
   "cell_type": "code",
   "execution_count": 59,
   "metadata": {},
   "outputs": [],
   "source": [
    "data[\"Purpose\"] = encoder.fit_transform(data[\"Purpose\"])"
   ]
  },
  {
   "cell_type": "code",
   "execution_count": 60,
   "metadata": {},
   "outputs": [],
   "source": [
    "data[\"Savings account/bonds\"] = encoder.fit_transform(data[\"Savings account/bonds\"])"
   ]
  },
  {
   "cell_type": "code",
   "execution_count": 61,
   "metadata": {},
   "outputs": [],
   "source": [
    "data[\"Present employment since\"] = encoder.fit_transform(data[\"Present employment since\"])"
   ]
  },
  {
   "cell_type": "code",
   "execution_count": 62,
   "metadata": {},
   "outputs": [],
   "source": [
    "data[\"Personal status and sex\"] = encoder.fit_transform(data[\"Personal status and sex\"])"
   ]
  },
  {
   "cell_type": "code",
   "execution_count": 63,
   "metadata": {},
   "outputs": [],
   "source": [
    "data[\"Other debtors / guarantors\"] = encoder.fit_transform(data[\"Other debtors / guarantors\"])"
   ]
  },
  {
   "cell_type": "code",
   "execution_count": 64,
   "metadata": {},
   "outputs": [],
   "source": [
    "data[\"Property\"] = encoder.fit_transform(data[\"Property\"])"
   ]
  },
  {
   "cell_type": "code",
   "execution_count": 65,
   "metadata": {},
   "outputs": [],
   "source": [
    "data[\"Other installment plans\"] = encoder.fit_transform(data[\"Other installment plans\"])"
   ]
  },
  {
   "cell_type": "code",
   "execution_count": 66,
   "metadata": {},
   "outputs": [],
   "source": [
    "data[\"Housing\"] = encoder.fit_transform(data[\"Housing\"])"
   ]
  },
  {
   "cell_type": "code",
   "execution_count": 67,
   "metadata": {},
   "outputs": [],
   "source": [
    "data[\"Job\"] = encoder.fit_transform(data[\"Job\"])"
   ]
  },
  {
   "cell_type": "code",
   "execution_count": 68,
   "metadata": {},
   "outputs": [],
   "source": [
    "data[\"Telephone\"] = encoder.fit_transform(data[\"Telephone\"])"
   ]
  },
  {
   "cell_type": "code",
   "execution_count": 69,
   "metadata": {},
   "outputs": [],
   "source": [
    "data[\"foreign worker\"] = encoder.fit_transform(data[\"foreign worker\"])"
   ]
  },
  {
   "cell_type": "code",
   "execution_count": 70,
   "metadata": {},
   "outputs": [],
   "source": [
    "data[\"Age in years\"] = encoder.fit_transform(data[\"Age in years\"])"
   ]
  },
  {
   "cell_type": "code",
   "execution_count": 71,
   "metadata": {},
   "outputs": [
    {
     "data": {
      "text/html": [
       "<div>\n",
       "<style scoped>\n",
       "    .dataframe tbody tr th:only-of-type {\n",
       "        vertical-align: middle;\n",
       "    }\n",
       "\n",
       "    .dataframe tbody tr th {\n",
       "        vertical-align: top;\n",
       "    }\n",
       "\n",
       "    .dataframe thead th {\n",
       "        text-align: right;\n",
       "    }\n",
       "</style>\n",
       "<table border=\"1\" class=\"dataframe\">\n",
       "  <thead>\n",
       "    <tr style=\"text-align: right;\">\n",
       "      <th></th>\n",
       "      <th>Good</th>\n",
       "      <th>Bad</th>\n",
       "      <th>Status of existing checking account</th>\n",
       "      <th>Duration in month</th>\n",
       "      <th>Credit history</th>\n",
       "      <th>Purpose</th>\n",
       "      <th>Credit amount</th>\n",
       "      <th>Savings account/bonds</th>\n",
       "      <th>Present employment since</th>\n",
       "      <th>Installment rate in percentage of disposable income</th>\n",
       "      <th>Personal status and sex</th>\n",
       "      <th>Other debtors / guarantors</th>\n",
       "      <th>Present residence since</th>\n",
       "      <th>Property</th>\n",
       "      <th>Other installment plans</th>\n",
       "      <th>Housing</th>\n",
       "      <th>Number of existing credits at this bank</th>\n",
       "      <th>Job</th>\n",
       "      <th>Number of people being liable to provide maintenance for</th>\n",
       "      <th>Telephone</th>\n",
       "      <th>foreign worker</th>\n",
       "      <th>Good_Bad</th>\n",
       "      <th>Age in years</th>\n",
       "    </tr>\n",
       "  </thead>\n",
       "  <tbody>\n",
       "    <tr>\n",
       "      <td>0</td>\n",
       "      <td>1.0</td>\n",
       "      <td>0.0</td>\n",
       "      <td>1</td>\n",
       "      <td>6</td>\n",
       "      <td>1</td>\n",
       "      <td>7</td>\n",
       "      <td>1169</td>\n",
       "      <td>4</td>\n",
       "      <td>3</td>\n",
       "      <td>4</td>\n",
       "      <td>3</td>\n",
       "      <td>2</td>\n",
       "      <td>4</td>\n",
       "      <td>2</td>\n",
       "      <td>1</td>\n",
       "      <td>1</td>\n",
       "      <td>2</td>\n",
       "      <td>1</td>\n",
       "      <td>1</td>\n",
       "      <td>1</td>\n",
       "      <td>1</td>\n",
       "      <td>1</td>\n",
       "      <td>1</td>\n",
       "    </tr>\n",
       "    <tr>\n",
       "      <td>1</td>\n",
       "      <td>0.0</td>\n",
       "      <td>1.0</td>\n",
       "      <td>0</td>\n",
       "      <td>48</td>\n",
       "      <td>3</td>\n",
       "      <td>7</td>\n",
       "      <td>5951</td>\n",
       "      <td>2</td>\n",
       "      <td>0</td>\n",
       "      <td>2</td>\n",
       "      <td>0</td>\n",
       "      <td>2</td>\n",
       "      <td>2</td>\n",
       "      <td>2</td>\n",
       "      <td>1</td>\n",
       "      <td>1</td>\n",
       "      <td>1</td>\n",
       "      <td>1</td>\n",
       "      <td>1</td>\n",
       "      <td>0</td>\n",
       "      <td>1</td>\n",
       "      <td>2</td>\n",
       "      <td>3</td>\n",
       "    </tr>\n",
       "    <tr>\n",
       "      <td>2</td>\n",
       "      <td>1.0</td>\n",
       "      <td>0.0</td>\n",
       "      <td>3</td>\n",
       "      <td>12</td>\n",
       "      <td>1</td>\n",
       "      <td>4</td>\n",
       "      <td>2096</td>\n",
       "      <td>2</td>\n",
       "      <td>1</td>\n",
       "      <td>2</td>\n",
       "      <td>3</td>\n",
       "      <td>2</td>\n",
       "      <td>3</td>\n",
       "      <td>2</td>\n",
       "      <td>1</td>\n",
       "      <td>1</td>\n",
       "      <td>1</td>\n",
       "      <td>3</td>\n",
       "      <td>2</td>\n",
       "      <td>0</td>\n",
       "      <td>1</td>\n",
       "      <td>1</td>\n",
       "      <td>2</td>\n",
       "    </tr>\n",
       "    <tr>\n",
       "      <td>3</td>\n",
       "      <td>1.0</td>\n",
       "      <td>0.0</td>\n",
       "      <td>1</td>\n",
       "      <td>42</td>\n",
       "      <td>3</td>\n",
       "      <td>5</td>\n",
       "      <td>7882</td>\n",
       "      <td>2</td>\n",
       "      <td>1</td>\n",
       "      <td>2</td>\n",
       "      <td>3</td>\n",
       "      <td>1</td>\n",
       "      <td>4</td>\n",
       "      <td>0</td>\n",
       "      <td>1</td>\n",
       "      <td>0</td>\n",
       "      <td>1</td>\n",
       "      <td>1</td>\n",
       "      <td>2</td>\n",
       "      <td>0</td>\n",
       "      <td>1</td>\n",
       "      <td>1</td>\n",
       "      <td>2</td>\n",
       "    </tr>\n",
       "    <tr>\n",
       "      <td>4</td>\n",
       "      <td>0.0</td>\n",
       "      <td>1.0</td>\n",
       "      <td>1</td>\n",
       "      <td>24</td>\n",
       "      <td>2</td>\n",
       "      <td>1</td>\n",
       "      <td>4870</td>\n",
       "      <td>2</td>\n",
       "      <td>0</td>\n",
       "      <td>3</td>\n",
       "      <td>3</td>\n",
       "      <td>2</td>\n",
       "      <td>4</td>\n",
       "      <td>3</td>\n",
       "      <td>1</td>\n",
       "      <td>0</td>\n",
       "      <td>2</td>\n",
       "      <td>1</td>\n",
       "      <td>2</td>\n",
       "      <td>0</td>\n",
       "      <td>1</td>\n",
       "      <td>2</td>\n",
       "      <td>1</td>\n",
       "    </tr>\n",
       "  </tbody>\n",
       "</table>\n",
       "</div>"
      ],
      "text/plain": [
       "   Good  Bad  Status of existing checking account  Duration in month  \\\n",
       "0   1.0  0.0                                    1                  6   \n",
       "1   0.0  1.0                                    0                 48   \n",
       "2   1.0  0.0                                    3                 12   \n",
       "3   1.0  0.0                                    1                 42   \n",
       "4   0.0  1.0                                    1                 24   \n",
       "\n",
       "   Credit history  Purpose  Credit amount  Savings account/bonds  \\\n",
       "0               1        7           1169                      4   \n",
       "1               3        7           5951                      2   \n",
       "2               1        4           2096                      2   \n",
       "3               3        5           7882                      2   \n",
       "4               2        1           4870                      2   \n",
       "\n",
       "   Present employment since  \\\n",
       "0                         3   \n",
       "1                         0   \n",
       "2                         1   \n",
       "3                         1   \n",
       "4                         0   \n",
       "\n",
       "   Installment rate in percentage of disposable income  \\\n",
       "0                                                    4   \n",
       "1                                                    2   \n",
       "2                                                    2   \n",
       "3                                                    2   \n",
       "4                                                    3   \n",
       "\n",
       "   Personal status and sex  Other debtors / guarantors  \\\n",
       "0                        3                           2   \n",
       "1                        0                           2   \n",
       "2                        3                           2   \n",
       "3                        3                           1   \n",
       "4                        3                           2   \n",
       "\n",
       "   Present residence since  Property  Other installment plans  Housing  \\\n",
       "0                        4         2                        1        1   \n",
       "1                        2         2                        1        1   \n",
       "2                        3         2                        1        1   \n",
       "3                        4         0                        1        0   \n",
       "4                        4         3                        1        0   \n",
       "\n",
       "   Number of existing credits at this bank  Job  \\\n",
       "0                                        2    1   \n",
       "1                                        1    1   \n",
       "2                                        1    3   \n",
       "3                                        1    1   \n",
       "4                                        2    1   \n",
       "\n",
       "   Number of people being liable to provide maintenance for  Telephone  \\\n",
       "0                                                         1          1   \n",
       "1                                                         1          0   \n",
       "2                                                         2          0   \n",
       "3                                                         2          0   \n",
       "4                                                         2          0   \n",
       "\n",
       "   foreign worker  Good_Bad  Age in years  \n",
       "0               1         1             1  \n",
       "1               1         2             3  \n",
       "2               1         1             2  \n",
       "3               1         1             2  \n",
       "4               1         2             1  "
      ]
     },
     "execution_count": 71,
     "metadata": {},
     "output_type": "execute_result"
    }
   ],
   "source": [
    "data.head()"
   ]
  },
  {
   "cell_type": "markdown",
   "metadata": {},
   "source": [
    "### Split it into train and test"
   ]
  },
  {
   "cell_type": "code",
   "execution_count": 72,
   "metadata": {},
   "outputs": [],
   "source": [
    "x = data.drop(['Good','Bad','Good_Bad'], axis=1)\n",
    "y = data['Good_Bad']\n",
    "x_train, x_test, y_train, y_test = train_test_split(x,y,test_size=0.3, random_state=243)"
   ]
  },
  {
   "cell_type": "code",
   "execution_count": 73,
   "metadata": {},
   "outputs": [
    {
     "name": "stdout",
     "output_type": "stream",
     "text": [
      "(700, 20)\n",
      "(700,)\n",
      "(300, 20)\n",
      "(300,)\n"
     ]
    }
   ],
   "source": [
    "print(np.shape(x_train))\n",
    "print(np.shape(y_train))\n",
    "print(np.shape(x_test)) \n",
    "print(np.shape(y_test))"
   ]
  },
  {
   "cell_type": "code",
   "execution_count": 74,
   "metadata": {},
   "outputs": [
    {
     "data": {
      "text/plain": [
       "Index(['Status of existing checking account', 'Duration in month',\n",
       "       'Credit history', 'Purpose', 'Credit amount', 'Savings account/bonds',\n",
       "       'Present employment since',\n",
       "       'Installment rate in percentage of disposable income',\n",
       "       'Personal status and sex', 'Other debtors / guarantors',\n",
       "       'Present residence since', 'Property', 'Other installment plans',\n",
       "       'Housing', 'Number of existing credits at this bank', 'Job',\n",
       "       'Number of people being liable to provide maintenance for', 'Telephone',\n",
       "       'foreign worker', 'Age in years'],\n",
       "      dtype='object')"
      ]
     },
     "execution_count": 74,
     "metadata": {},
     "output_type": "execute_result"
    }
   ],
   "source": [
    "x_train.columns"
   ]
  },
  {
   "cell_type": "markdown",
   "metadata": {},
   "source": [
    "### Train 3 different prediction algorithms to predict credit worthiness of customers of a German bank\n",
    "\n",
    "### Evaluate models performance"
   ]
  },
  {
   "cell_type": "markdown",
   "metadata": {},
   "source": [
    "### Logistic Regression"
   ]
  },
  {
   "cell_type": "code",
   "execution_count": 75,
   "metadata": {},
   "outputs": [
    {
     "name": "stdout",
     "output_type": "stream",
     "text": [
      "              precision    recall  f1-score   support\n",
      "\n",
      "           1       0.76      0.86      0.80       210\n",
      "           2       0.52      0.36      0.42        90\n",
      "\n",
      "    accuracy                           0.71       300\n",
      "   macro avg       0.64      0.61      0.61       300\n",
      "weighted avg       0.68      0.71      0.69       300\n",
      "\n"
     ]
    }
   ],
   "source": [
    "LR = LogisticRegression()\n",
    "LR.fit(x_train,y_train)\n",
    "y_pred_LR = LR.predict(x_test)\n",
    "print(classification_report(y_test,y_pred_LR))"
   ]
  },
  {
   "cell_type": "code",
   "execution_count": 76,
   "metadata": {},
   "outputs": [],
   "source": [
    "roc_auc_score(y_test,y_pred_LR)\n",
    "Model = ['Logistic Regression']\n",
    "ROC_AUC_Accuracy = [roc_auc_score(y_test,y_pred_LR)]"
   ]
  },
  {
   "cell_type": "code",
   "execution_count": 77,
   "metadata": {},
   "outputs": [
    {
     "name": "stdout",
     "output_type": "stream",
     "text": [
      "Confusion Matrix :\n",
      "[[180  30]\n",
      " [ 58  32]]\n",
      "Accuracy Score : 0.7066666666666667\n",
      "Report : \n",
      "              precision    recall  f1-score   support\n",
      "\n",
      "           1       0.76      0.86      0.80       210\n",
      "           2       0.52      0.36      0.42        90\n",
      "\n",
      "    accuracy                           0.71       300\n",
      "   macro avg       0.64      0.61      0.61       300\n",
      "weighted avg       0.68      0.71      0.69       300\n",
      "\n"
     ]
    }
   ],
   "source": [
    "from sklearn.metrics import confusion_matrix \n",
    "from sklearn.metrics import accuracy_score \n",
    "from sklearn.metrics import classification_report \n",
    "results=confusion_matrix(y_test,y_pred_LR)\n",
    "print ('Confusion Matrix :')\n",
    "print(results) \n",
    "print ('Accuracy Score :',accuracy_score(y_test,y_pred_LR) )\n",
    "print ('Report : ')\n",
    "print (classification_report(y_test,y_pred_LR) )"
   ]
  },
  {
   "cell_type": "code",
   "execution_count": 78,
   "metadata": {},
   "outputs": [],
   "source": [
    "#Function to visulise confusion matrix\n",
    "def draw_cm( y_test,y_pred_LR ):\n",
    "    cm = metrics.confusion_matrix( y_test,y_pred_LR )\n",
    "    sns.heatmap(cm, annot=True,  fmt='.2f', xticklabels = [\"0\", \"1\"] , yticklabels = [\"0\", \"1\"] , cmap=\"Greens\")\n",
    "    plt.ylabel('True label')\n",
    "    plt.xlabel('Predicted label')\n",
    "    plt.show()"
   ]
  },
  {
   "cell_type": "code",
   "execution_count": 79,
   "metadata": {},
   "outputs": [
    {
     "name": "stdout",
     "output_type": "stream",
     "text": [
      "confusion matrix = \n",
      " [[180  30]\n",
      " [ 58  32]]\n"
     ]
    }
   ],
   "source": [
    "#Confusion matrix\n",
    "from sklearn.metrics import classification_report,confusion_matrix\n",
    "mat_pruned = confusion_matrix(y_test,y_pred_LR )\n",
    "\n",
    "print(\"confusion matrix = \\n\",mat_pruned)"
   ]
  },
  {
   "cell_type": "code",
   "execution_count": 80,
   "metadata": {},
   "outputs": [],
   "source": [
    "def create_conf_mat(y_test,y_pred_LR):\n",
    "    if (len(y_test.shape) != len(y_pred_LR.shape) == 1):\n",
    "        return print('Arrays entered are not 1-D.\\nPlease enter the correctly sized sets.')\n",
    "    elif (y_test.shape != y_pred_LR.shape):\n",
    "        return print('Number of values inside the Arrays are not equal to each other.\\nPlease make sure the array has the same number of instances.')\n",
    "    else:\n",
    "        # Set Metrics\n",
    "        test_crosstb_comp = pd.crosstab(index = y_test,\n",
    "                                       columns = y_pred_LR)\n",
    "        # Changed for Future deprecation of as_matrix\n",
    "        test_crosstb = test_crosstb_comp.values\n",
    "        return test_crosstb"
   ]
  },
  {
   "cell_type": "code",
   "execution_count": 81,
   "metadata": {},
   "outputs": [
    {
     "data": {
      "image/png": "[encoded data removed]",
      "text/plain": [
       "<Figure size 432x288 with 1 Axes>"
      ]
     },
     "metadata": {},
     "output_type": "display_data"
    }
   ],
   "source": [
    "conf_mat = create_conf_mat(y_test,y_pred_LR)\n",
    "sns.heatmap(conf_mat, annot=True, fmt='d', cbar=False)\n",
    "plt.xlabel('Predicted Values')\n",
    "plt.ylabel('Actual Values')\n",
    "plt.title('Actual vs. Predicted Confusion Matrix')\n",
    "plt.show()"
   ]
  },
  {
   "cell_type": "markdown",
   "metadata": {},
   "source": [
    "### Naive Bayes"
   ]
  },
  {
   "cell_type": "code",
   "execution_count": 82,
   "metadata": {},
   "outputs": [
    {
     "name": "stdout",
     "output_type": "stream",
     "text": [
      "0.6261904761904763\n"
     ]
    }
   ],
   "source": [
    "nb = GaussianNB()\n",
    "nb.fit(x_train,y_train)\n",
    "y_pred_nb = nb.predict(x_test)\n",
    "print(roc_auc_score(y_test,y_pred_nb))\n",
    "Model.append('Naive Bayes')\n",
    "ROC_AUC_Accuracy.append(roc_auc_score(y_test,y_pred_nb))"
   ]
  },
  {
   "cell_type": "code",
   "execution_count": 83,
   "metadata": {},
   "outputs": [
    {
     "name": "stdout",
     "output_type": "stream",
     "text": [
      "              precision    recall  f1-score   support\n",
      "\n",
      "           1       0.77      0.79      0.78       210\n",
      "           2       0.48      0.47      0.47        90\n",
      "\n",
      "    accuracy                           0.69       300\n",
      "   macro avg       0.63      0.63      0.63       300\n",
      "weighted avg       0.69      0.69      0.69       300\n",
      "\n"
     ]
    }
   ],
   "source": [
    "print(classification_report(y_test,y_pred_nb))"
   ]
  },
  {
   "cell_type": "code",
   "execution_count": 84,
   "metadata": {},
   "outputs": [
    {
     "data": {
      "text/plain": [
       "(['Logistic Regression', 'Naive Bayes'],\n",
       " [0.6063492063492064, 0.6261904761904763])"
      ]
     },
     "execution_count": 84,
     "metadata": {},
     "output_type": "execute_result"
    }
   ],
   "source": [
    "Model,ROC_AUC_Accuracy"
   ]
  },
  {
   "cell_type": "code",
   "execution_count": 85,
   "metadata": {},
   "outputs": [
    {
     "name": "stdout",
     "output_type": "stream",
     "text": [
      "Confusion Matrix :\n",
      "[[165  45]\n",
      " [ 48  42]]\n",
      "Accuracy Score : 0.69\n",
      "Report : \n",
      "              precision    recall  f1-score   support\n",
      "\n",
      "           1       0.77      0.79      0.78       210\n",
      "           2       0.48      0.47      0.47        90\n",
      "\n",
      "    accuracy                           0.69       300\n",
      "   macro avg       0.63      0.63      0.63       300\n",
      "weighted avg       0.69      0.69      0.69       300\n",
      "\n"
     ]
    }
   ],
   "source": [
    "results=confusion_matrix(y_test,y_pred_nb)\n",
    "print ('Confusion Matrix :')\n",
    "print(results) \n",
    "print ('Accuracy Score :',accuracy_score(y_test,y_pred_nb) )\n",
    "print ('Report : ')\n",
    "print (classification_report(y_test,y_pred_nb) )"
   ]
  },
  {
   "cell_type": "code",
   "execution_count": 86,
   "metadata": {},
   "outputs": [],
   "source": [
    "#Function to visulise confusion matrix\n",
    "def draw_cm( y_test,y_pred_nb ):\n",
    "    cm = metrics.confusion_matrix( y_test,y_pred_nb )\n",
    "    sns.heatmap(cm, annot=True,  fmt='.2f', xticklabels = [\"0\", \"1\"] , yticklabels = [\"0\", \"1\"] , cmap=\"Greens\")\n",
    "    plt.ylabel('True label')\n",
    "    plt.xlabel('Predicted label')\n",
    "    plt.show()"
   ]
  },
  {
   "cell_type": "code",
   "execution_count": 87,
   "metadata": {},
   "outputs": [
    {
     "name": "stdout",
     "output_type": "stream",
     "text": [
      "confusion matrix = \n",
      " [[165  45]\n",
      " [ 48  42]]\n"
     ]
    }
   ],
   "source": [
    "#Confusion matrix\n",
    "from sklearn.metrics import classification_report,confusion_matrix\n",
    "mat_pruned = confusion_matrix(y_test,y_pred_nb )\n",
    "\n",
    "print(\"confusion matrix = \\n\",mat_pruned)"
   ]
  },
  {
   "cell_type": "code",
   "execution_count": 88,
   "metadata": {},
   "outputs": [],
   "source": [
    "def create_conf_mat(y_test,y_pred_nb):\n",
    "    if (len(y_test.shape) != len(y_pred_nb.shape) == 1):\n",
    "        return print('Arrays entered are not 1-D.\\nPlease enter the correctly sized sets.')\n",
    "    elif (y_test.shape != y_pred_nb.shape):\n",
    "        return print('Number of values inside the Arrays are not equal to each other.\\nPlease make sure the array has the same number of instances.')\n",
    "    else:\n",
    "        # Set Metrics\n",
    "        test_crosstb_comp = pd.crosstab(index = y_test,\n",
    "                                       columns = y_pred_nb)\n",
    "        # Changed for Future deprecation of as_matrix\n",
    "        test_crosstb = test_crosstb_comp.values\n",
    "        return test_crosstb"
   ]
  },
  {
   "cell_type": "code",
   "execution_count": 89,
   "metadata": {},
   "outputs": [
    {
     "data": {
      "image/png": "[encoded data removed]",
      "text/plain": [
       "<Figure size 432x288 with 1 Axes>"
      ]
     },
     "metadata": {},
     "output_type": "display_data"
    }
   ],
   "source": [
    "conf_mat = create_conf_mat(y_test,y_pred_nb)\n",
    "sns.heatmap(conf_mat, annot=True, fmt='d', cbar=False)\n",
    "plt.xlabel('Predicted Values')\n",
    "plt.ylabel('Actual Values')\n",
    "plt.title('Actual vs. Predicted Confusion Matrix')\n",
    "plt.show()"
   ]
  },
  {
   "cell_type": "markdown",
   "metadata": {},
   "source": [
    "### Decision Tree"
   ]
  },
  {
   "cell_type": "code",
   "execution_count": 91,
   "metadata": {},
   "outputs": [
    {
     "data": {
      "text/plain": [
       "RandomizedSearchCV(cv=3, error_score='raise-deprecating',\n",
       "                   estimator=DecisionTreeClassifier(class_weight=None,\n",
       "                                                    criterion='gini',\n",
       "                                                    max_depth=None,\n",
       "                                                    max_features=None,\n",
       "                                                    max_leaf_nodes=None,\n",
       "                                                    min_impurity_decrease=0.0,\n",
       "                                                    min_impurity_split=None,\n",
       "                                                    min_samples_leaf=1,\n",
       "                                                    min_samples_split=2,\n",
       "                                                    min_weight_fraction_leaf=0.0,\n",
       "                                                    presort=False,\n",
       "                                                    random_state=None,\n",
       "                                                    splitter='best'),\n",
       "                   iid='warn', n_iter=10, n_jobs=-1,\n",
       "                   param_distributions={'criterion': ['gini', 'entropy'],\n",
       "                                        'max_depth': range(1, 10),\n",
       "                                        'max_features': ['auto', 'log2'],\n",
       "                                        'max_leaf_nodes': range(2, 10),\n",
       "                                        'splitter': ['best', 'random']},\n",
       "                   pre_dispatch='2*n_jobs', random_state=None, refit=True,\n",
       "                   return_train_score=False, scoring='recall', verbose=0)"
      ]
     },
     "execution_count": 91,
     "metadata": {},
     "output_type": "execute_result"
    }
   ],
   "source": [
    "params = {\n",
    "    \n",
    "    'criterion':['gini','entropy'],\n",
    "    'splitter':['best','random'],\n",
    "    'max_depth':range(1,10),\n",
    "    'max_leaf_nodes':range(2,10,1),\n",
    "    'max_features':['auto','log2']\n",
    "    \n",
    "}\n",
    "\n",
    "dt = DecisionTreeClassifier()\n",
    "\n",
    "rs = RandomizedSearchCV(estimator=dt,n_jobs=-1,cv=3,param_distributions=params,scoring='recall')\n",
    "rs.fit(x,y)"
   ]
  },
  {
   "cell_type": "code",
   "execution_count": 92,
   "metadata": {},
   "outputs": [
    {
     "name": "stdout",
     "output_type": "stream",
     "text": [
      "0.5\n"
     ]
    }
   ],
   "source": [
    "dt = DecisionTreeClassifier(**rs.best_params_)\n",
    "dt.fit(x_train,y_train)\n",
    "y_pred_dt = dt.predict(x_test)\n",
    "print(roc_auc_score(y_test,y_pred_dt))\n",
    "Model.append('Decision Tree')\n",
    "ROC_AUC_Accuracy.append(roc_auc_score(y_test,y_pred_dt))"
   ]
  },
  {
   "cell_type": "code",
   "execution_count": 93,
   "metadata": {},
   "outputs": [
    {
     "name": "stdout",
     "output_type": "stream",
     "text": [
      "              precision    recall  f1-score   support\n",
      "\n",
      "           1       0.70      1.00      0.82       210\n",
      "           2       0.00      0.00      0.00        90\n",
      "\n",
      "    accuracy                           0.70       300\n",
      "   macro avg       0.35      0.50      0.41       300\n",
      "weighted avg       0.49      0.70      0.58       300\n",
      "\n"
     ]
    }
   ],
   "source": [
    "print(classification_report(y_test,y_pred_dt))"
   ]
  },
  {
   "cell_type": "code",
   "execution_count": 94,
   "metadata": {},
   "outputs": [
    {
     "data": {
      "text/plain": [
       "(['Logistic Regression', 'Naive Bayes', 'Decision Tree'],\n",
       " [0.6063492063492064, 0.6261904761904763, 0.5])"
      ]
     },
     "execution_count": 94,
     "metadata": {},
     "output_type": "execute_result"
    }
   ],
   "source": [
    "Model,ROC_AUC_Accuracy"
   ]
  },
  {
   "cell_type": "code",
   "execution_count": 95,
   "metadata": {},
   "outputs": [
    {
     "name": "stdout",
     "output_type": "stream",
     "text": [
      "Confusion Matrix :\n",
      "[[210   0]\n",
      " [ 90   0]]\n",
      "Accuracy Score : 0.7\n",
      "Report : \n",
      "              precision    recall  f1-score   support\n",
      "\n",
      "           1       0.70      1.00      0.82       210\n",
      "           2       0.00      0.00      0.00        90\n",
      "\n",
      "    accuracy                           0.70       300\n",
      "   macro avg       0.35      0.50      0.41       300\n",
      "weighted avg       0.49      0.70      0.58       300\n",
      "\n"
     ]
    }
   ],
   "source": [
    "results=confusion_matrix(y_test,y_pred_dt)\n",
    "print ('Confusion Matrix :')\n",
    "print(results) \n",
    "print ('Accuracy Score :',accuracy_score(y_test,y_pred_dt) )\n",
    "print ('Report : ')\n",
    "print (classification_report(y_test,y_pred_dt) )"
   ]
  },
  {
   "cell_type": "code",
   "execution_count": 96,
   "metadata": {},
   "outputs": [],
   "source": [
    "#Function to visulise confusion matrix\n",
    "def draw_cm( y_test,y_pred_dt):\n",
    "    cm = metrics.confusion_matrix( y_test,y_pred_dt )\n",
    "    sns.heatmap(cm, annot=True,  fmt='.2f', xticklabels = [\"0\", \"1\"] , yticklabels = [\"0\", \"1\"] , cmap=\"Greens\")\n",
    "    plt.ylabel('True label')\n",
    "    plt.xlabel('Predicted label')\n",
    "    plt.show()"
   ]
  },
  {
   "cell_type": "code",
   "execution_count": 97,
   "metadata": {},
   "outputs": [
    {
     "name": "stdout",
     "output_type": "stream",
     "text": [
      "confusion matrix = \n",
      " [[210   0]\n",
      " [ 90   0]]\n"
     ]
    }
   ],
   "source": [
    "#Confusion matrix\n",
    "from sklearn.metrics import classification_report,confusion_matrix\n",
    "mat_pruned = confusion_matrix(y_test,y_pred_dt )\n",
    "\n",
    "print(\"confusion matrix = \\n\",mat_pruned)"
   ]
  },
  {
   "cell_type": "code",
   "execution_count": 98,
   "metadata": {},
   "outputs": [],
   "source": [
    "def create_conf_mat(y_test,y_pred_dt):\n",
    "    if (len(y_test.shape) != len(y_pred_dt.shape) == 1):\n",
    "        return print('Arrays entered are not 1-D.\\nPlease enter the correctly sized sets.')\n",
    "    elif (y_test.shape != y_pred_dt.shape):\n",
    "        return print('Number of values inside the Arrays are not equal to each other.\\nPlease make sure the array has the same number of instances.')\n",
    "    else:\n",
    "        # Set Metrics\n",
    "        test_crosstb_comp = pd.crosstab(index = y_test,\n",
    "                                       columns = y_pred_dt)\n",
    "        # Changed for Future deprecation of as_matrix\n",
    "        test_crosstb = test_crosstb_comp.values\n",
    "        return test_crosstb"
   ]
  },
  {
   "cell_type": "code",
   "execution_count": 99,
   "metadata": {},
   "outputs": [
    {
     "data": {
      "image/png": "[encoded data removed]",
      "text/plain": [
       "<Figure size 432x288 with 1 Axes>"
      ]
     },
     "metadata": {},
     "output_type": "display_data"
    }
   ],
   "source": [
    "conf_mat = create_conf_mat(y_test,y_pred_dt)\n",
    "sns.heatmap(conf_mat, annot=True, fmt='d', cbar=False)\n",
    "plt.xlabel('Predicted Values')\n",
    "plt.ylabel('Actual Values')\n",
    "plt.title('Actual vs. Predicted Confusion Matrix')\n",
    "plt.show()"
   ]
  },
  {
   "cell_type": "markdown",
   "metadata": {},
   "source": [
    "### Random Forest"
   ]
  },
  {
   "cell_type": "code",
   "execution_count": 101,
   "metadata": {},
   "outputs": [
    {
     "data": {
      "text/plain": [
       "RandomizedSearchCV(cv=5, error_score='raise-deprecating',\n",
       "                   estimator=RandomForestClassifier(bootstrap=True,\n",
       "                                                    class_weight=None,\n",
       "                                                    criterion='gini',\n",
       "                                                    max_depth=None,\n",
       "                                                    max_features='auto',\n",
       "                                                    max_leaf_nodes=None,\n",
       "                                                    min_impurity_decrease=0.0,\n",
       "                                                    min_impurity_split=None,\n",
       "                                                    min_samples_leaf=1,\n",
       "                                                    min_samples_split=2,\n",
       "                                                    min_weight_fraction_leaf=0.0,\n",
       "                                                    n_estimators='warn',\n",
       "                                                    n_jobs=None,\n",
       "                                                    oob_sc...\n",
       "                                                    random_state=None,\n",
       "                                                    verbose=0,\n",
       "                                                    warm_start=False),\n",
       "                   iid='warn', n_iter=10, n_jobs=-1,\n",
       "                   param_distributions={'criterion': ['gini', 'entropy'],\n",
       "                                        'max_depth': range(2, 10),\n",
       "                                        'max_features': ['auto', 'log2'],\n",
       "                                        'max_leaf_nodes': range(2, 10),\n",
       "                                        'n_estimators': range(10, 100, 10)},\n",
       "                   pre_dispatch='2*n_jobs', random_state=None, refit=True,\n",
       "                   return_train_score=False, scoring='recall', verbose=0)"
      ]
     },
     "execution_count": 101,
     "metadata": {},
     "output_type": "execute_result"
    }
   ],
   "source": [
    "params = {\n",
    "    \n",
    "    'n_estimators':range(10,100,10),\n",
    "    'criterion':['gini','entropy'],\n",
    "    'max_depth':range(2,10,1),\n",
    "    'max_leaf_nodes':range(2,10,1),\n",
    "    'max_features':['auto','log2']\n",
    "    \n",
    "}\n",
    "\n",
    "rf = RandomForestClassifier()\n",
    "\n",
    "rs = RandomizedSearchCV(estimator=rf,param_distributions=params,cv=5,scoring='recall',n_jobs=-1)\n",
    "rs.fit(x,y)"
   ]
  },
  {
   "cell_type": "code",
   "execution_count": 102,
   "metadata": {},
   "outputs": [
    {
     "name": "stdout",
     "output_type": "stream",
     "text": [
      "0.5055555555555555\n"
     ]
    }
   ],
   "source": [
    "rf = RandomForestClassifier(**rs.best_params_)\n",
    "rf.fit(x_train,y_train)\n",
    "y_pred_rf = rf.predict(x_test)\n",
    "print(roc_auc_score(y_test,y_pred_rf))\n",
    "Model.append('Random Forest')\n",
    "ROC_AUC_Accuracy.append(roc_auc_score(y_test,y_pred_rf))"
   ]
  },
  {
   "cell_type": "code",
   "execution_count": 103,
   "metadata": {},
   "outputs": [
    {
     "name": "stdout",
     "output_type": "stream",
     "text": [
      "              precision    recall  f1-score   support\n",
      "\n",
      "           1       0.70      1.00      0.83       210\n",
      "           2       1.00      0.01      0.02        90\n",
      "\n",
      "    accuracy                           0.70       300\n",
      "   macro avg       0.85      0.51      0.42       300\n",
      "weighted avg       0.79      0.70      0.58       300\n",
      "\n"
     ]
    }
   ],
   "source": [
    "print(classification_report(y_test,y_pred_rf))"
   ]
  },
  {
   "cell_type": "code",
   "execution_count": 104,
   "metadata": {},
   "outputs": [
    {
     "name": "stdout",
     "output_type": "stream",
     "text": [
      "Confusion Matrix :\n",
      "[[210   0]\n",
      " [ 89   1]]\n",
      "Accuracy Score : 0.7033333333333334\n",
      "Report : \n",
      "              precision    recall  f1-score   support\n",
      "\n",
      "           1       0.70      1.00      0.83       210\n",
      "           2       1.00      0.01      0.02        90\n",
      "\n",
      "    accuracy                           0.70       300\n",
      "   macro avg       0.85      0.51      0.42       300\n",
      "weighted avg       0.79      0.70      0.58       300\n",
      "\n"
     ]
    }
   ],
   "source": [
    "results=confusion_matrix(y_test,y_pred_rf)\n",
    "print ('Confusion Matrix :')\n",
    "print(results) \n",
    "print ('Accuracy Score :',accuracy_score(y_test,y_pred_rf) )\n",
    "print ('Report : ')\n",
    "print (classification_report(y_test,y_pred_rf) )"
   ]
  },
  {
   "cell_type": "code",
   "execution_count": 105,
   "metadata": {},
   "outputs": [],
   "source": [
    "#Function to visulise confusion matrix\n",
    "def draw_cm( y_test,y_pred_rf ):\n",
    "    cm = metrics.confusion_matrix( y_test,y_pred_rf )\n",
    "    sns.heatmap(cm, annot=True,  fmt='.2f', xticklabels = [\"0\", \"1\"] , yticklabels = [\"0\", \"1\"] , cmap=\"Greens\")\n",
    "    plt.ylabel('True label')\n",
    "    plt.xlabel('Predicted label')\n",
    "    plt.show()"
   ]
  },
  {
   "cell_type": "code",
   "execution_count": 106,
   "metadata": {},
   "outputs": [
    {
     "name": "stdout",
     "output_type": "stream",
     "text": [
      "confusion matrix = \n",
      " [[210   0]\n",
      " [ 89   1]]\n"
     ]
    }
   ],
   "source": [
    "#Confusion matrix\n",
    "from sklearn.metrics import classification_report,confusion_matrix\n",
    "mat_pruned = confusion_matrix(y_test,y_pred_rf )\n",
    "print(\"confusion matrix = \\n\",mat_pruned)"
   ]
  },
  {
   "cell_type": "code",
   "execution_count": 107,
   "metadata": {},
   "outputs": [],
   "source": [
    "def create_conf_mat(y_test,y_pred_rf):\n",
    "    if (len(y_test.shape) != len(y_pred_rf.shape) == 1):\n",
    "        return print('Arrays entered are not 1-D.\\nPlease enter the correctly sized sets.')\n",
    "    elif (y_test.shape != y_pred_rf.shape):\n",
    "        return print('Number of values inside the Arrays are not equal to each other.\\nPlease make sure the array has the same number of instances.')\n",
    "    else:\n",
    "        # Set Metrics\n",
    "        test_crosstb_comp = pd.crosstab(index = y_test,\n",
    "                                       columns = y_pred_rf)\n",
    "        # Changed for Future deprecation of as_matrix\n",
    "        test_crosstb = test_crosstb_comp.values\n",
    "        return test_crosstb\n"
   ]
  },
  {
   "cell_type": "code",
   "execution_count": 108,
   "metadata": {},
   "outputs": [
    {
     "data": {
      "image/png": "[encoded data removed]",
      "text/plain": [
       "<Figure size 432x288 with 1 Axes>"
      ]
     },
     "metadata": {},
     "output_type": "display_data"
    }
   ],
   "source": [
    "conf_mat = create_conf_mat(y_test,y_pred_rf)\n",
    "sns.heatmap(conf_mat, annot=True, fmt='d', cbar=False)\n",
    "plt.xlabel('Predicted Values')\n",
    "plt.ylabel('Actual Values')\n",
    "plt.title('Actual vs. Predicted Confusion Matrix')\n",
    "plt.show()"
   ]
  },
  {
   "cell_type": "code",
   "execution_count": 109,
   "metadata": {},
   "outputs": [
    {
     "data": {
      "text/plain": [
       "(['Logistic Regression', 'Naive Bayes', 'Decision Tree', 'Random Forest'],\n",
       " [0.6063492063492064, 0.6261904761904763, 0.5, 0.5055555555555555])"
      ]
     },
     "execution_count": 109,
     "metadata": {},
     "output_type": "execute_result"
    }
   ],
   "source": [
    "Model,ROC_AUC_Accuracy"
   ]
  },
  {
   "cell_type": "markdown",
   "metadata": {},
   "source": [
    "### According to accuracy naive bayes and Random Forest according to data set because of varies factors effecting the outcome. "
   ]
  },
  {
   "cell_type": "markdown",
   "metadata": {},
   "source": [
    "### Which are the top 3 features according to the selected model importance?"
   ]
  },
  {
   "cell_type": "markdown",
   "metadata": {},
   "source": [
    "## VIF"
   ]
  },
  {
   "cell_type": "code",
   "execution_count": 117,
   "metadata": {},
   "outputs": [
    {
     "data": {
      "text/plain": [
       "[7.623476716015454,\n",
       " 5.94340796032343,\n",
       " 3.2090084128979215,\n",
       " 5.10202638454838,\n",
       " 4.7728968310698905,\n",
       " 2.5720502351844954,\n",
       " 10.015850131093122,\n",
       " 3.4463988195940685,\n",
       " 17.540383871039552,\n",
       " 8.475986112175615,\n",
       " 3.15577308417293,\n",
       " 5.589922491491183,\n",
       " 5.9474685725882885,\n",
       " 7.823117350709668,\n",
       " 3.4464620186994974,\n",
       " 11.521329963878467,\n",
       " 2.0949929120041806,\n",
       " 24.313874102778524,\n",
       " 11.673199112547326]"
      ]
     },
     "execution_count": 117,
     "metadata": {},
     "output_type": "execute_result"
    }
   ],
   "source": [
    "from statsmodels.stats.outliers_influence import variance_inflation_factor\n",
    "[variance_inflation_factor(x.values, j) for j in range(1, x.shape[1])]"
   ]
  },
  {
   "cell_type": "code",
   "execution_count": 120,
   "metadata": {},
   "outputs": [],
   "source": [
    "# function definition\n",
    "\n",
    "def calculate_vif(x):\n",
    "    thresh = 5.0\n",
    "    output = pd.DataFrame()\n",
    "    k = x.shape[1]\n",
    "    vif = [variance_inflation_factor(x.values, j) for j in range(x.shape[1])]\n",
    "    for i in range(1,k):\n",
    "        print(\"Iteration no.\",i)\n",
    "        print(vif)\n",
    "        a = np.argmax(vif)\n",
    "        print(\"Max VIF is for variable no.:\",a)\n",
    "        if vif[a] <= thresh :\n",
    "            break\n",
    "        if i == 1 :          \n",
    "            output = x.drop(x.columns[a], axis = 1)\n",
    "            vif = [variance_inflation_factor(output.values, j) for j in range(output.shape[1])]\n",
    "        elif i > 1 :\n",
    "            output = output.drop(output.columns[a],axis = 1)\n",
    "            vif = [variance_inflation_factor(output.values, j) for j in range(output.shape[1])]\n",
    "    return(output)\n"
   ]
  },
  {
   "cell_type": "code",
   "execution_count": 121,
   "metadata": {},
   "outputs": [
    {
     "name": "stdout",
     "output_type": "stream",
     "text": [
      "Iteration no. 1\n",
      "[2.72051775038403, 7.623476716015454, 5.94340796032343, 3.2090084128979215, 5.10202638454838, 4.7728968310698905, 2.5720502351844954, 10.015850131093122, 3.4463988195940685, 17.540383871039552, 8.475986112175615, 3.15577308417293, 5.589922491491183, 5.9474685725882885, 7.823117350709668, 3.4464620186994974, 11.521329963878467, 2.0949929120041806, 24.313874102778524, 11.673199112547326]\n",
      "Max VIF is for variable no.: 18\n",
      "Iteration no. 2\n",
      "[2.718643322491827, 7.5227829033846785, 5.835891556072665, 3.1264103286994396, 5.0947932523343935, 4.764509347526022, 2.5491728322055143, 9.776228477616332, 3.443056371077391, 16.24394610620751, 8.317286977063672, 3.1271684189204976, 5.548948183843068, 5.894347746394914, 7.681284463865352, 3.4396488152128493, 11.43558271993506, 2.0779452628517694, 11.389691485818533]\n",
      "Max VIF is for variable no.: 9\n",
      "Iteration no. 3\n",
      "[2.6724596993871854, 7.511723656962794, 5.649532606191606, 3.1248798086354173, 5.094776977977279, 4.711362748194814, 2.5342960065110813, 9.638815484859583, 3.4415900904392704, 8.145582073139177, 3.124040583707927, 5.444361696675914, 5.8876220564723, 7.509754923586419, 3.4145478488396686, 11.167735872507945, 2.06502126181292, 10.734501733121505]\n",
      "Max VIF is for variable no.: 15\n",
      "Iteration no. 4\n",
      "[2.657595866203837, 7.511549080471836, 5.557966439060422, 3.1233656661339615, 5.086696357843356, 4.671796229868322, 2.51889897391385, 9.63600499219562, 3.1916275397722154, 8.009235253239659, 3.0827515371004837, 5.438553516145753, 5.872471622402031, 7.224604572886654, 3.2612717472598156, 2.063354971682316, 10.472624384561314]\n",
      "Max VIF is for variable no.: 16\n",
      "Iteration no. 5\n",
      "[2.6497681769288106, 7.412023976605877, 5.209827048586483, 3.0801904984893675, 5.052869269147064, 4.671101874254978, 2.498224565539057, 9.31606122356648, 3.1877844409648937, 7.873087995025796, 3.062136516246667, 5.357677758547491, 5.316730541807394, 6.965700956414469, 3.2171868041455003, 2.0629526362038324]\n",
      "Max VIF is for variable no.: 7\n",
      "Iteration no. 6\n",
      "[2.6431845673632703, 6.379316323349694, 5.121907142333542, 2.9949602674823055, 4.225005606606948, 4.597430034836305, 2.4722938949040554, 3.068979506835014, 7.75688044438411, 3.021548552275066, 5.266474703521798, 5.260700946063664, 6.782836516566164, 3.215985620355055, 2.0487158968698966]\n",
      "Max VIF is for variable no.: 8\n",
      "Iteration no. 7\n",
      "[2.633750765669666, 6.30909207475842, 5.08231565619097, 2.9922484840537784, 4.224317864641429, 4.5633436978253465, 2.3090725911892713, 3.0603006743152514, 2.906514326497761, 5.251046855227394, 5.0671706220609485, 6.5604189854553585, 3.1584007948049084, 2.0227421565520225]\n",
      "Max VIF is for variable no.: 11\n",
      "Iteration no. 8\n",
      "[2.5741631318632563, 6.238247342100548, 4.875694973649989, 2.9740756423346686, 4.21655396195719, 4.5018843927485035, 2.2373208550440187, 2.935801846451159, 2.845465371324335, 5.140572325291014, 4.729201786842481, 3.0419938993880407, 1.9946723087260982]\n",
      "Max VIF is for variable no.: 1\n",
      "Iteration no. 9\n",
      "[2.573954563177896, 4.811780826081451, 2.9493121561431117, 2.611376080719453, 4.490703560597432, 2.2351892427165625, 2.904260655553672, 2.817131461432474, 5.071960634130643, 4.713812794551676, 3.0412301833849065, 1.9941794498161294]\n",
      "Max VIF is for variable no.: 8\n",
      "Iteration no. 10\n",
      "[2.5265545124801925, 4.648416827920189, 2.8930917648677625, 2.595400730049116, 4.44868283678783, 2.2300121669606847, 2.8571752507734156, 2.795360023019852, 4.509554279302039, 3.0031644705995943, 1.9826264853528521]\n",
      "Max VIF is for variable no.: 1\n"
     ]
    }
   ],
   "source": [
    "train_out = calculate_vif(x)"
   ]
  },
  {
   "cell_type": "code",
   "execution_count": 122,
   "metadata": {},
   "outputs": [
    {
     "data": {
      "text/html": [
       "<div>\n",
       "<style scoped>\n",
       "    .dataframe tbody tr th:only-of-type {\n",
       "        vertical-align: middle;\n",
       "    }\n",
       "\n",
       "    .dataframe tbody tr th {\n",
       "        vertical-align: top;\n",
       "    }\n",
       "\n",
       "    .dataframe thead th {\n",
       "        text-align: right;\n",
       "    }\n",
       "</style>\n",
       "<table border=\"1\" class=\"dataframe\">\n",
       "  <thead>\n",
       "    <tr style=\"text-align: right;\">\n",
       "      <th></th>\n",
       "      <th>Status of existing checking account</th>\n",
       "      <th>Credit history</th>\n",
       "      <th>Purpose</th>\n",
       "      <th>Credit amount</th>\n",
       "      <th>Savings account/bonds</th>\n",
       "      <th>Present employment since</th>\n",
       "      <th>Personal status and sex</th>\n",
       "      <th>Property</th>\n",
       "      <th>Housing</th>\n",
       "      <th>Job</th>\n",
       "      <th>Telephone</th>\n",
       "    </tr>\n",
       "  </thead>\n",
       "  <tbody>\n",
       "    <tr>\n",
       "      <td>0</td>\n",
       "      <td>1</td>\n",
       "      <td>1</td>\n",
       "      <td>7</td>\n",
       "      <td>1169</td>\n",
       "      <td>4</td>\n",
       "      <td>3</td>\n",
       "      <td>3</td>\n",
       "      <td>2</td>\n",
       "      <td>1</td>\n",
       "      <td>1</td>\n",
       "      <td>1</td>\n",
       "    </tr>\n",
       "    <tr>\n",
       "      <td>1</td>\n",
       "      <td>0</td>\n",
       "      <td>3</td>\n",
       "      <td>7</td>\n",
       "      <td>5951</td>\n",
       "      <td>2</td>\n",
       "      <td>0</td>\n",
       "      <td>0</td>\n",
       "      <td>2</td>\n",
       "      <td>1</td>\n",
       "      <td>1</td>\n",
       "      <td>0</td>\n",
       "    </tr>\n",
       "    <tr>\n",
       "      <td>2</td>\n",
       "      <td>3</td>\n",
       "      <td>1</td>\n",
       "      <td>4</td>\n",
       "      <td>2096</td>\n",
       "      <td>2</td>\n",
       "      <td>1</td>\n",
       "      <td>3</td>\n",
       "      <td>2</td>\n",
       "      <td>1</td>\n",
       "      <td>3</td>\n",
       "      <td>0</td>\n",
       "    </tr>\n",
       "    <tr>\n",
       "      <td>3</td>\n",
       "      <td>1</td>\n",
       "      <td>3</td>\n",
       "      <td>5</td>\n",
       "      <td>7882</td>\n",
       "      <td>2</td>\n",
       "      <td>1</td>\n",
       "      <td>3</td>\n",
       "      <td>0</td>\n",
       "      <td>0</td>\n",
       "      <td>1</td>\n",
       "      <td>0</td>\n",
       "    </tr>\n",
       "    <tr>\n",
       "      <td>4</td>\n",
       "      <td>1</td>\n",
       "      <td>2</td>\n",
       "      <td>1</td>\n",
       "      <td>4870</td>\n",
       "      <td>2</td>\n",
       "      <td>0</td>\n",
       "      <td>3</td>\n",
       "      <td>3</td>\n",
       "      <td>0</td>\n",
       "      <td>1</td>\n",
       "      <td>0</td>\n",
       "    </tr>\n",
       "  </tbody>\n",
       "</table>\n",
       "</div>"
      ],
      "text/plain": [
       "   Status of existing checking account  Credit history  Purpose  \\\n",
       "0                                    1               1        7   \n",
       "1                                    0               3        7   \n",
       "2                                    3               1        4   \n",
       "3                                    1               3        5   \n",
       "4                                    1               2        1   \n",
       "\n",
       "   Credit amount  Savings account/bonds  Present employment since  \\\n",
       "0           1169                      4                         3   \n",
       "1           5951                      2                         0   \n",
       "2           2096                      2                         1   \n",
       "3           7882                      2                         1   \n",
       "4           4870                      2                         0   \n",
       "\n",
       "   Personal status and sex  Property  Housing  Job  Telephone  \n",
       "0                        3         2        1    1          1  \n",
       "1                        0         2        1    1          0  \n",
       "2                        3         2        1    3          0  \n",
       "3                        3         0        0    1          0  \n",
       "4                        3         3        0    1          0  "
      ]
     },
     "execution_count": 122,
     "metadata": {},
     "output_type": "execute_result"
    }
   ],
   "source": [
    "## includes only the relevant features.\n",
    "train_out.head()"
   ]
  },
  {
   "cell_type": "code",
   "execution_count": 123,
   "metadata": {},
   "outputs": [
    {
     "data": {
      "text/plain": [
       "Index(['Status of existing checking account', 'Credit history', 'Purpose',\n",
       "       'Credit amount', 'Savings account/bonds', 'Present employment since',\n",
       "       'Personal status and sex', 'Property', 'Housing', 'Job', 'Telephone'],\n",
       "      dtype='object')"
      ]
     },
     "execution_count": 123,
     "metadata": {},
     "output_type": "execute_result"
    }
   ],
   "source": [
    "train_out.columns"
   ]
  },
  {
   "cell_type": "code",
   "execution_count": 124,
   "metadata": {},
   "outputs": [
    {
     "data": {
      "text/plain": [
       "(1000, 11)"
      ]
     },
     "execution_count": 124,
     "metadata": {},
     "output_type": "execute_result"
    }
   ],
   "source": [
    "train_out.shape"
   ]
  },
  {
   "cell_type": "markdown",
   "metadata": {},
   "source": [
    "### Lasso"
   ]
  },
  {
   "cell_type": "code",
   "execution_count": 126,
   "metadata": {},
   "outputs": [
    {
     "name": "stdout",
     "output_type": "stream",
     "text": [
      "Best alpha using built-in LassoCV: 0.200061\n",
      "Best score using built-in LassoCV: 0.044736\n"
     ]
    }
   ],
   "source": [
    "from sklearn.linear_model import LassoCV, Lasso\n",
    "reg = LassoCV()\n",
    "reg.fit(x, y)\n",
    "print(\"Best alpha using built-in LassoCV: %f\" % reg.alpha_)\n",
    "print(\"Best score using built-in LassoCV: %f\" %reg.score(x,y))\n",
    "coef = pd.Series(reg.coef_, index = x.columns)"
   ]
  },
  {
   "cell_type": "code",
   "execution_count": 127,
   "metadata": {},
   "outputs": [
    {
     "name": "stdout",
     "output_type": "stream",
     "text": [
      "Lasso picked 2 variables and eliminated the other 18 variables\n"
     ]
    }
   ],
   "source": [
    "print(\"Lasso picked \" + str(sum(coef != 0)) + \" variables and eliminated the other \" +  \n",
    "      str(sum(coef == 0)) + \" variables\")"
   ]
  },
  {
   "cell_type": "code",
   "execution_count": 128,
   "metadata": {},
   "outputs": [
    {
     "data": {
      "text/plain": [
       "Text(0.5, 1.0, 'Feature importance using Lasso Model')"
      ]
     },
     "execution_count": 128,
     "metadata": {},
     "output_type": "execute_result"
    },
    {
     "data": {
      "image/png": "[encoded data removed]",
      "text/plain": [
       "<Figure size 1152x1440 with 1 Axes>"
      ]
     },
     "metadata": {},
     "output_type": "display_data"
    }
   ],
   "source": [
    "imp_coef = coef.sort_values()\n",
    "import matplotlib.pyplot as plt\n",
    "plt.rcParams['figure.figsize'] = (16.0, 20.0)\n",
    "imp_coef.plot(kind = \"barh\")\n",
    "plt.title(\"Feature importance using Lasso Model\")"
   ]
  },
  {
   "cell_type": "markdown",
   "metadata": {},
   "source": [
    "#### From the data set most effectively used feature are status of existing checking account, Credit history, Credit amount"
   ]
  },
  {
   "cell_type": "markdown",
   "metadata": {},
   "source": [
    "#### Based on the selected model, provide a description of the “best” credit-worthy person."
   ]
  },
  {
   "cell_type": "markdown",
   "metadata": {},
   "source": [
    "Best Credit worthy person should have the following parameters: \n",
    "\n",
    "    person is foreign worker, \n",
    "\n",
    "    Personal status and sex :male : divorced/separated\n",
    "    \n",
    "    Present employment 1-4 years of experience \n",
    "    \n",
    "    Savings account 100-500\n",
    "    \n",
    "    purpose is education\n",
    "    \n",
    "    Credit history is no credits taken/ all credits paid back duly or critical account/ other credits existing\n",
    "    \n",
    "    Status of existing checking account 0-200\n",
    "    \n",
    "    No.of Credits is 1"
   ]
  },
  {
   "cell_type": "code",
   "execution_count": null,
   "metadata": {},
   "outputs": [],
   "source": []
  }
 ],
 "metadata": {
  "kernelspec": {
   "display_name": "Python 3",
   "language": "python",
   "name": "python3"
  },
  "language_info": {
   "codemirror_mode": {
    "name": "ipython",
    "version": 3
   },
   "file_extension": ".py",
   "mimetype": "text/x-python",
   "name": "python",
   "nbconvert_exporter": "python",
   "pygments_lexer": "ipython3",
   "version": "3.7.4"
  }
 },
 "nbformat": 4,
 "nbformat_minor": 2
}
