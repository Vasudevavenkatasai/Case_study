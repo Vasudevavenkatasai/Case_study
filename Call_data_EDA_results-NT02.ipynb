{
 "cells": [
  {
   "cell_type": "code",
   "execution_count": 1,
   "metadata": {},
   "outputs": [],
   "source": [
    "import warnings\n",
    "warnings.filterwarnings('ignore')\n",
    "from sys import argv\n",
    "import matplotlib.pyplot as plt\n",
    "import seaborn as sns; sns.set(style='ticks',color_codes=True)\n",
    "import numpy as np\n",
    "import pandas as pd\n",
    "import scipy.stats as stats\n",
    "import random\n",
    "from scipy.stats import ttest_1samp,wilcoxon,shapiro,ttest_ind,mannwhitneyu,levene,bartlett\n",
    "from statsmodels.stats.power import ttest_power\n",
    "import matplotlib.pyplot as plt\n",
    "%matplotlib inline\n",
    "from scipy.stats import chisquare,chi2_contingency\n",
    "from statsmodels.stats.proportion import proportions_ztest\n",
    "from scipy.stats import chisquare,chi2_contingency,f_oneway\n",
    "import statsmodels.api as sm\n",
    "import statsmodels.formula.api as smf\n",
    "from statsmodels.formula.api import ols\n",
    "from sklearn.linear_model import LinearRegression\n",
    "from sklearn import metrics\n",
    "from sklearn.model_selection import train_test_split\n",
    "import statsmodels.tsa.api as smt\n",
    "from statsmodels.graphics.gofplots import ProbPlot\n",
    "import pylab\n",
    "from statsmodels.compat import lzip\n",
    "import statsmodels.stats.api as sms\n",
    "from statsmodels.stats.outliers_influence import variance_inflation_factor\n",
    "from sklearn.feature_selection import RFE\n",
    "from sklearn.linear_model import RidgeCV, LassoCV, Ridge, Lasso\n",
    "from mlxtend.feature_selection import SequentialFeatureSelector as sfs\n",
    "import numpy as np\n",
    "import matplotlib.pyplot as plt\n",
    "import matplotlib.gridspec as gridspec\n",
    "import itertools\n",
    "from sklearn.linear_model import LogisticRegression\n",
    "from sklearn.svm import SVC\n",
    "from sklearn.ensemble import RandomForestClassifier\n",
    "from mlxtend.classifier import EnsembleVoteClassifier\n",
    "from mlxtend.data import iris_data\n",
    "from mlxtend.plotting import plot_decision_regions\n",
    "import plotly.express as px\n",
    "import plotly.graph_objects as go\n",
    "import plotly.figure_factory as ff\n",
    "from sklearn.neighbors import KNeighborsClassifier\n",
    "from sklearn.naive_bayes import GaussianNB\n",
    "from sklearn.metrics import confusion_matrix,auc,roc_auc_score\n",
    "from sklearn.metrics import recall_score,precision_score,accuracy_score,f1_score,classification_report\n",
    "from sklearn.preprocessing import StandardScaler\n",
    "from sklearn import preprocessing\n",
    "from sklearn.cluster import KMeans\n",
    "from scipy.stats import zscore\n",
    "from mpl_toolkits.mplot3d import Axes3D\n",
    "from sklearn.cluster import AgglomerativeClustering "
   ]
  },
  {
   "cell_type": "code",
   "execution_count": 2,
   "metadata": {},
   "outputs": [
    {
     "data": {
      "text/html": [
       "<div>\n",
       "<style scoped>\n",
       "    .dataframe tbody tr th:only-of-type {\n",
       "        vertical-align: middle;\n",
       "    }\n",
       "\n",
       "    .dataframe tbody tr th {\n",
       "        vertical-align: top;\n",
       "    }\n",
       "\n",
       "    .dataframe thead th {\n",
       "        text-align: right;\n",
       "    }\n",
       "</style>\n",
       "<table border=\"1\" class=\"dataframe\">\n",
       "  <thead>\n",
       "    <tr style=\"text-align: right;\">\n",
       "      <th></th>\n",
       "      <th>BATCH_ID</th>\n",
       "      <th>CALL_ORIG</th>\n",
       "      <th>CALL_ANS</th>\n",
       "      <th>CALL_DISCNT</th>\n",
       "      <th>CONV_SEC</th>\n",
       "      <th>CALLING_NUM</th>\n",
       "      <th>DIAL_NUM</th>\n",
       "      <th>CALLED_NUM</th>\n",
       "      <th>ORIG_OPER</th>\n",
       "      <th>TERM_OPER</th>\n",
       "    </tr>\n",
       "  </thead>\n",
       "  <tbody>\n",
       "    <tr>\n",
       "      <th>0</th>\n",
       "      <td>20191009</td>\n",
       "      <td>2019-10-09T02:10:31</td>\n",
       "      <td>2019-10-09T02:10:41</td>\n",
       "      <td>2019-10-09T02:10:41</td>\n",
       "      <td>0</td>\n",
       "      <td>64085468</td>\n",
       "      <td>31842766</td>\n",
       "      <td>31842766</td>\n",
       "      <td>HTCL</td>\n",
       "      <td>WTT</td>\n",
       "    </tr>\n",
       "    <tr>\n",
       "      <th>1</th>\n",
       "      <td>20191009</td>\n",
       "      <td>2019-10-09T19:45:10</td>\n",
       "      <td>2019-10-09T19:45:16</td>\n",
       "      <td>2019-10-09T19:46:17</td>\n",
       "      <td>61</td>\n",
       "      <td>15238100</td>\n",
       "      <td>25681917</td>\n",
       "      <td>4326988473</td>\n",
       "      <td>HGC</td>\n",
       "      <td>WTT</td>\n",
       "    </tr>\n",
       "    <tr>\n",
       "      <th>2</th>\n",
       "      <td>20191009</td>\n",
       "      <td>2019-10-09T10:44:51</td>\n",
       "      <td>2019-10-09T10:44:52</td>\n",
       "      <td>2019-10-09T10:44:58</td>\n",
       "      <td>6</td>\n",
       "      <td>60865460</td>\n",
       "      <td>34205239</td>\n",
       "      <td>34205239</td>\n",
       "      <td>HTCL</td>\n",
       "      <td>WTT</td>\n",
       "    </tr>\n",
       "    <tr>\n",
       "      <th>3</th>\n",
       "      <td>20191009</td>\n",
       "      <td>2019-10-09T15:34:47</td>\n",
       "      <td>2019-10-09T15:35:07</td>\n",
       "      <td>2019-10-09T15:35:09</td>\n",
       "      <td>2</td>\n",
       "      <td>98747124</td>\n",
       "      <td>28285658</td>\n",
       "      <td>4324983358</td>\n",
       "      <td>HTCL</td>\n",
       "      <td>WTT</td>\n",
       "    </tr>\n",
       "    <tr>\n",
       "      <th>4</th>\n",
       "      <td>20191009</td>\n",
       "      <td>2019-10-09T15:52:16</td>\n",
       "      <td>2019-10-09T15:52:22</td>\n",
       "      <td>2019-10-09T15:54:24</td>\n",
       "      <td>122</td>\n",
       "      <td>51608760</td>\n",
       "      <td>34263701</td>\n",
       "      <td>34263701</td>\n",
       "      <td>HTCL</td>\n",
       "      <td>WTT</td>\n",
       "    </tr>\n",
       "  </tbody>\n",
       "</table>\n",
       "</div>"
      ],
      "text/plain": [
       "   BATCH_ID            CALL_ORIG             CALL_ANS          CALL_DISCNT  \\\n",
       "0  20191009  2019-10-09T02:10:31  2019-10-09T02:10:41  2019-10-09T02:10:41   \n",
       "1  20191009  2019-10-09T19:45:10  2019-10-09T19:45:16  2019-10-09T19:46:17   \n",
       "2  20191009  2019-10-09T10:44:51  2019-10-09T10:44:52  2019-10-09T10:44:58   \n",
       "3  20191009  2019-10-09T15:34:47  2019-10-09T15:35:07  2019-10-09T15:35:09   \n",
       "4  20191009  2019-10-09T15:52:16  2019-10-09T15:52:22  2019-10-09T15:54:24   \n",
       "\n",
       "   CONV_SEC  CALLING_NUM                  DIAL_NUM                CALLED_NUM  \\\n",
       "0         0     64085468  31842766                  31842766                   \n",
       "1        61     15238100  25681917                  4326988473                 \n",
       "2         6     60865460  34205239                  34205239                   \n",
       "3         2     98747124  28285658                  4324983358                 \n",
       "4       122     51608760  34263701                  34263701                   \n",
       "\n",
       "  ORIG_OPER TERM_OPER  \n",
       "0      HTCL      WTT   \n",
       "1      HGC       WTT   \n",
       "2      HTCL      WTT   \n",
       "3      HTCL      WTT   \n",
       "4      HTCL      WTT   "
      ]
     },
     "execution_count": 2,
     "metadata": {},
     "output_type": "execute_result"
    }
   ],
   "source": [
    "data=pd.read_csv('results-NT02.csv')\n",
    "data.head()"
   ]
  },
  {
   "cell_type": "code",
   "execution_count": 3,
   "metadata": {},
   "outputs": [
    {
     "data": {
      "text/plain": [
       "(16000, 10)"
      ]
     },
     "execution_count": 3,
     "metadata": {},
     "output_type": "execute_result"
    }
   ],
   "source": [
    "data.shape"
   ]
  },
  {
   "cell_type": "code",
   "execution_count": 4,
   "metadata": {},
   "outputs": [
    {
     "data": {
      "text/html": [
       "<div>\n",
       "<style scoped>\n",
       "    .dataframe tbody tr th:only-of-type {\n",
       "        vertical-align: middle;\n",
       "    }\n",
       "\n",
       "    .dataframe tbody tr th {\n",
       "        vertical-align: top;\n",
       "    }\n",
       "\n",
       "    .dataframe thead th {\n",
       "        text-align: right;\n",
       "    }\n",
       "</style>\n",
       "<table border=\"1\" class=\"dataframe\">\n",
       "  <thead>\n",
       "    <tr style=\"text-align: right;\">\n",
       "      <th></th>\n",
       "      <th>BATCH_ID</th>\n",
       "      <th>CONV_SEC</th>\n",
       "      <th>CALLING_NUM</th>\n",
       "    </tr>\n",
       "  </thead>\n",
       "  <tbody>\n",
       "    <tr>\n",
       "      <th>count</th>\n",
       "      <td>1.600000e+04</td>\n",
       "      <td>16000.000000</td>\n",
       "      <td>1.600000e+04</td>\n",
       "    </tr>\n",
       "    <tr>\n",
       "      <th>mean</th>\n",
       "      <td>2.019103e+07</td>\n",
       "      <td>90.449938</td>\n",
       "      <td>6.704055e+08</td>\n",
       "    </tr>\n",
       "    <tr>\n",
       "      <th>std</th>\n",
       "      <td>3.555986e+00</td>\n",
       "      <td>236.666449</td>\n",
       "      <td>6.812899e+10</td>\n",
       "    </tr>\n",
       "    <tr>\n",
       "      <th>min</th>\n",
       "      <td>2.019101e+07</td>\n",
       "      <td>0.000000</td>\n",
       "      <td>1.523810e+07</td>\n",
       "    </tr>\n",
       "    <tr>\n",
       "      <th>25%</th>\n",
       "      <td>2.019102e+07</td>\n",
       "      <td>4.000000</td>\n",
       "      <td>6.253648e+07</td>\n",
       "    </tr>\n",
       "    <tr>\n",
       "      <th>50%</th>\n",
       "      <td>2.019103e+07</td>\n",
       "      <td>27.000000</td>\n",
       "      <td>9.114856e+07</td>\n",
       "    </tr>\n",
       "    <tr>\n",
       "      <th>75%</th>\n",
       "      <td>2.019103e+07</td>\n",
       "      <td>79.000000</td>\n",
       "      <td>9.487317e+07</td>\n",
       "    </tr>\n",
       "    <tr>\n",
       "      <th>max</th>\n",
       "      <td>2.019103e+07</td>\n",
       "      <td>5585.000000</td>\n",
       "      <td>8.613631e+12</td>\n",
       "    </tr>\n",
       "  </tbody>\n",
       "</table>\n",
       "</div>"
      ],
      "text/plain": [
       "           BATCH_ID      CONV_SEC   CALLING_NUM\n",
       "count  1.600000e+04  16000.000000  1.600000e+04\n",
       "mean   2.019103e+07     90.449938  6.704055e+08\n",
       "std    3.555986e+00    236.666449  6.812899e+10\n",
       "min    2.019101e+07      0.000000  1.523810e+07\n",
       "25%    2.019102e+07      4.000000  6.253648e+07\n",
       "50%    2.019103e+07     27.000000  9.114856e+07\n",
       "75%    2.019103e+07     79.000000  9.487317e+07\n",
       "max    2.019103e+07   5585.000000  8.613631e+12"
      ]
     },
     "execution_count": 4,
     "metadata": {},
     "output_type": "execute_result"
    }
   ],
   "source": [
    "data.describe()"
   ]
  },
  {
   "cell_type": "code",
   "execution_count": 5,
   "metadata": {},
   "outputs": [
    {
     "name": "stdout",
     "output_type": "stream",
     "text": [
      "<class 'pandas.core.frame.DataFrame'>\n",
      "RangeIndex: 16000 entries, 0 to 15999\n",
      "Data columns (total 10 columns):\n",
      "BATCH_ID       16000 non-null int64\n",
      "CALL_ORIG      16000 non-null object\n",
      "CALL_ANS       16000 non-null object\n",
      "CALL_DISCNT    16000 non-null object\n",
      "CONV_SEC       16000 non-null int64\n",
      "CALLING_NUM    16000 non-null int64\n",
      "DIAL_NUM       16000 non-null object\n",
      "CALLED_NUM     16000 non-null object\n",
      "ORIG_OPER      16000 non-null object\n",
      "TERM_OPER      16000 non-null object\n",
      "dtypes: int64(3), object(7)\n",
      "memory usage: 1.2+ MB\n"
     ]
    }
   ],
   "source": [
    "data.info()"
   ]
  },
  {
   "cell_type": "code",
   "execution_count": 6,
   "metadata": {},
   "outputs": [
    {
     "data": {
      "text/plain": [
       "Index(['BATCH_ID', 'CALL_ORIG', 'CALL_ANS', 'CALL_DISCNT', 'CONV_SEC',\n",
       "       'CALLING_NUM', 'DIAL_NUM', 'CALLED_NUM', 'ORIG_OPER', 'TERM_OPER'],\n",
       "      dtype='object')"
      ]
     },
     "execution_count": 6,
     "metadata": {},
     "output_type": "execute_result"
    }
   ],
   "source": [
    "data.columns"
   ]
  },
  {
   "cell_type": "code",
   "execution_count": 7,
   "metadata": {},
   "outputs": [
    {
     "data": {
      "text/plain": [
       "HTCL    15415\n",
       "HGC       577\n",
       "SMT         4\n",
       "PEOP        2\n",
       "NFND        1\n",
       "SUN         1\n",
       "Name: ORIG_OPER, dtype: int64"
      ]
     },
     "execution_count": 7,
     "metadata": {},
     "output_type": "execute_result"
    }
   ],
   "source": [
    "data.ORIG_OPER.value_counts()"
   ]
  },
  {
   "cell_type": "markdown",
   "metadata": {},
   "source": [
    "From the above count originating company there are 5 different originating company to this switch HTCT,HGC,SMT,PCCW,StSL\n",
    "\n",
    "HTCl is the highest opereating company where as PCCW and STSL is the lowest.  "
   ]
  },
  {
   "cell_type": "code",
   "execution_count": 8,
   "metadata": {},
   "outputs": [
    {
     "data": {
      "text/plain": [
       "20191025    4754\n",
       "20191026    3865\n",
       "20191028    3863\n",
       "20191027    2893\n",
       "20191009     625\n",
       "Name: BATCH_ID, dtype: int64"
      ]
     },
     "execution_count": 8,
     "metadata": {},
     "output_type": "execute_result"
    }
   ],
   "source": [
    "data.BATCH_ID.value_counts()"
   ]
  },
  {
   "cell_type": "code",
   "execution_count": 9,
   "metadata": {},
   "outputs": [
    {
     "data": {
      "text/plain": [
       "PCCW    15375\n",
       "WTT       625\n",
       "Name: TERM_OPER, dtype: int64"
      ]
     },
     "execution_count": 9,
     "metadata": {},
     "output_type": "execute_result"
    }
   ],
   "source": [
    "data.TERM_OPER.value_counts()"
   ]
  },
  {
   "cell_type": "code",
   "execution_count": 10,
   "metadata": {},
   "outputs": [],
   "source": [
    "#Converting the date columns to date time\n",
    "data['CALL_ORIG'] = pd.to_datetime(data['CALL_ORIG'], format = '%Y-%m-%d %H:%M:%S')\n",
    "data['CALL_ANS'] = pd.to_datetime(data['CALL_ANS'], format = '%Y-%m-%d %H:%M:%S')\n",
    "data['CALL_DISCNT'] = pd.to_datetime(data['CALL_DISCNT'], format = '%Y-%m-%d %H:%M:%S')"
   ]
  },
  {
   "cell_type": "code",
   "execution_count": 11,
   "metadata": {},
   "outputs": [
    {
     "name": "stdout",
     "output_type": "stream",
     "text": [
      "<class 'pandas.core.frame.DataFrame'>\n",
      "RangeIndex: 16000 entries, 0 to 15999\n",
      "Data columns (total 10 columns):\n",
      "BATCH_ID       16000 non-null int64\n",
      "CALL_ORIG      16000 non-null datetime64[ns]\n",
      "CALL_ANS       16000 non-null datetime64[ns]\n",
      "CALL_DISCNT    16000 non-null datetime64[ns]\n",
      "CONV_SEC       16000 non-null int64\n",
      "CALLING_NUM    16000 non-null int64\n",
      "DIAL_NUM       16000 non-null object\n",
      "CALLED_NUM     16000 non-null object\n",
      "ORIG_OPER      16000 non-null object\n",
      "TERM_OPER      16000 non-null object\n",
      "dtypes: datetime64[ns](3), int64(3), object(4)\n",
      "memory usage: 1.2+ MB\n"
     ]
    }
   ],
   "source": [
    "data.info()"
   ]
  },
  {
   "cell_type": "code",
   "execution_count": 12,
   "metadata": {},
   "outputs": [],
   "source": [
    "def hr_func(ts):\n",
    "    return ts.hour\n",
    "\n",
    "data['hour'] = data['CALL_ORIG'].apply(hr_func)"
   ]
  },
  {
   "cell_type": "code",
   "execution_count": 13,
   "metadata": {},
   "outputs": [
    {
     "data": {
      "text/html": [
       "<div>\n",
       "<style scoped>\n",
       "    .dataframe tbody tr th:only-of-type {\n",
       "        vertical-align: middle;\n",
       "    }\n",
       "\n",
       "    .dataframe tbody tr th {\n",
       "        vertical-align: top;\n",
       "    }\n",
       "\n",
       "    .dataframe thead th {\n",
       "        text-align: right;\n",
       "    }\n",
       "</style>\n",
       "<table border=\"1\" class=\"dataframe\">\n",
       "  <thead>\n",
       "    <tr style=\"text-align: right;\">\n",
       "      <th></th>\n",
       "      <th>BATCH_ID</th>\n",
       "      <th>CALL_ORIG</th>\n",
       "      <th>CALL_ANS</th>\n",
       "      <th>CALL_DISCNT</th>\n",
       "      <th>CONV_SEC</th>\n",
       "      <th>CALLING_NUM</th>\n",
       "      <th>DIAL_NUM</th>\n",
       "      <th>CALLED_NUM</th>\n",
       "      <th>ORIG_OPER</th>\n",
       "      <th>TERM_OPER</th>\n",
       "      <th>hour</th>\n",
       "    </tr>\n",
       "  </thead>\n",
       "  <tbody>\n",
       "    <tr>\n",
       "      <th>0</th>\n",
       "      <td>20191009</td>\n",
       "      <td>2019-10-09 02:10:31</td>\n",
       "      <td>2019-10-09 02:10:41</td>\n",
       "      <td>2019-10-09 02:10:41</td>\n",
       "      <td>0</td>\n",
       "      <td>64085468</td>\n",
       "      <td>31842766</td>\n",
       "      <td>31842766</td>\n",
       "      <td>HTCL</td>\n",
       "      <td>WTT</td>\n",
       "      <td>2</td>\n",
       "    </tr>\n",
       "    <tr>\n",
       "      <th>1</th>\n",
       "      <td>20191009</td>\n",
       "      <td>2019-10-09 19:45:10</td>\n",
       "      <td>2019-10-09 19:45:16</td>\n",
       "      <td>2019-10-09 19:46:17</td>\n",
       "      <td>61</td>\n",
       "      <td>15238100</td>\n",
       "      <td>25681917</td>\n",
       "      <td>4326988473</td>\n",
       "      <td>HGC</td>\n",
       "      <td>WTT</td>\n",
       "      <td>19</td>\n",
       "    </tr>\n",
       "    <tr>\n",
       "      <th>2</th>\n",
       "      <td>20191009</td>\n",
       "      <td>2019-10-09 10:44:51</td>\n",
       "      <td>2019-10-09 10:44:52</td>\n",
       "      <td>2019-10-09 10:44:58</td>\n",
       "      <td>6</td>\n",
       "      <td>60865460</td>\n",
       "      <td>34205239</td>\n",
       "      <td>34205239</td>\n",
       "      <td>HTCL</td>\n",
       "      <td>WTT</td>\n",
       "      <td>10</td>\n",
       "    </tr>\n",
       "    <tr>\n",
       "      <th>3</th>\n",
       "      <td>20191009</td>\n",
       "      <td>2019-10-09 15:34:47</td>\n",
       "      <td>2019-10-09 15:35:07</td>\n",
       "      <td>2019-10-09 15:35:09</td>\n",
       "      <td>2</td>\n",
       "      <td>98747124</td>\n",
       "      <td>28285658</td>\n",
       "      <td>4324983358</td>\n",
       "      <td>HTCL</td>\n",
       "      <td>WTT</td>\n",
       "      <td>15</td>\n",
       "    </tr>\n",
       "    <tr>\n",
       "      <th>4</th>\n",
       "      <td>20191009</td>\n",
       "      <td>2019-10-09 15:52:16</td>\n",
       "      <td>2019-10-09 15:52:22</td>\n",
       "      <td>2019-10-09 15:54:24</td>\n",
       "      <td>122</td>\n",
       "      <td>51608760</td>\n",
       "      <td>34263701</td>\n",
       "      <td>34263701</td>\n",
       "      <td>HTCL</td>\n",
       "      <td>WTT</td>\n",
       "      <td>15</td>\n",
       "    </tr>\n",
       "  </tbody>\n",
       "</table>\n",
       "</div>"
      ],
      "text/plain": [
       "   BATCH_ID           CALL_ORIG            CALL_ANS         CALL_DISCNT  \\\n",
       "0  20191009 2019-10-09 02:10:31 2019-10-09 02:10:41 2019-10-09 02:10:41   \n",
       "1  20191009 2019-10-09 19:45:10 2019-10-09 19:45:16 2019-10-09 19:46:17   \n",
       "2  20191009 2019-10-09 10:44:51 2019-10-09 10:44:52 2019-10-09 10:44:58   \n",
       "3  20191009 2019-10-09 15:34:47 2019-10-09 15:35:07 2019-10-09 15:35:09   \n",
       "4  20191009 2019-10-09 15:52:16 2019-10-09 15:52:22 2019-10-09 15:54:24   \n",
       "\n",
       "   CONV_SEC  CALLING_NUM                  DIAL_NUM                CALLED_NUM  \\\n",
       "0         0     64085468  31842766                  31842766                   \n",
       "1        61     15238100  25681917                  4326988473                 \n",
       "2         6     60865460  34205239                  34205239                   \n",
       "3         2     98747124  28285658                  4324983358                 \n",
       "4       122     51608760  34263701                  34263701                   \n",
       "\n",
       "  ORIG_OPER TERM_OPER  hour  \n",
       "0      HTCL      WTT      2  \n",
       "1      HGC       WTT     19  \n",
       "2      HTCL      WTT     10  \n",
       "3      HTCL      WTT     15  \n",
       "4      HTCL      WTT     15  "
      ]
     },
     "execution_count": 13,
     "metadata": {},
     "output_type": "execute_result"
    }
   ],
   "source": [
    "data.head()"
   ]
  },
  {
   "cell_type": "code",
   "execution_count": 14,
   "metadata": {},
   "outputs": [
    {
     "data": {
      "image/png": "[encoded data removed]",
      "text/plain": [
       "<Figure size 1080x360 with 1 Axes>"
      ]
     },
     "metadata": {},
     "output_type": "display_data"
    }
   ],
   "source": [
    "sns.set(style=\"darkgrid\")\n",
    "plt.figure(figsize=(15,5))\n",
    "sns.countplot(x=\"hour\", data=data)\n",
    "plt.show()"
   ]
  },
  {
   "cell_type": "markdown",
   "metadata": {},
   "source": [
    "From the about count plot high traffic in 11th hour and lowest at 2,3 and 4 hours respectly  "
   ]
  },
  {
   "cell_type": "code",
   "execution_count": 15,
   "metadata": {},
   "outputs": [
    {
     "data": {
      "image/png": "[encoded data removed]",
      "text/plain": [
       "<Figure size 1080x360 with 1 Axes>"
      ]
     },
     "metadata": {},
     "output_type": "display_data"
    }
   ],
   "source": [
    "sns.set(style=\"darkgrid\")\n",
    "plt.figure(figsize=(15,5))\n",
    "sns.countplot(x=\"ORIG_OPER\", data=data)\n",
    "plt.show()"
   ]
  },
  {
   "cell_type": "markdown",
   "metadata": {},
   "source": [
    "From the above plot originating company there are 5 different originating company to this switch HTCT,HGC,SMT,PCCW,StSL\n",
    "\n",
    "HTCl is the highest opereating company where as PCCW and STSL is the lowest.  "
   ]
  },
  {
   "cell_type": "code",
   "execution_count": 16,
   "metadata": {},
   "outputs": [
    {
     "data": {
      "image/png": "[encoded data removed]",
      "text/plain": [
       "<Figure size 1080x360 with 1 Axes>"
      ]
     },
     "metadata": {},
     "output_type": "display_data"
    }
   ],
   "source": [
    "sns.set(style=\"darkgrid\")\n",
    "plt.figure(figsize=(15,5))\n",
    "sns.countplot(x=\"BATCH_ID\", data=data)\n",
    "plt.show()"
   ]
  },
  {
   "cell_type": "markdown",
   "metadata": {},
   "source": [
    "From the above plot the are highest calls in the batch 20191016 and less in the 20191015 "
   ]
  },
  {
   "cell_type": "code",
   "execution_count": 17,
   "metadata": {},
   "outputs": [
    {
     "data": {
      "image/png": "[encoded data removed]",
      "text/plain": [
       "<Figure size 1080x360 with 1 Axes>"
      ]
     },
     "metadata": {},
     "output_type": "display_data"
    }
   ],
   "source": [
    "sns.set(style=\"darkgrid\")\n",
    "plt.figure(figsize=(15,5))\n",
    "sns.barplot(y=\"CONV_SEC\", x=\"BATCH_ID\", data=data)\n",
    "plt.show()"
   ]
  },
  {
   "cell_type": "markdown",
   "metadata": {},
   "source": [
    "From the above plot 20191028 recorded and lowest in the 20191026"
   ]
  },
  {
   "cell_type": "code",
   "execution_count": 18,
   "metadata": {},
   "outputs": [
    {
     "data": {
      "image/png": "[encoded data removed]",
      "text/plain": [
       "<Figure size 1080x360 with 1 Axes>"
      ]
     },
     "metadata": {},
     "output_type": "display_data"
    }
   ],
   "source": [
    "sns.set(style=\"darkgrid\")\n",
    "plt.figure(figsize=(15,5))\n",
    "sns.barplot(y=\"CONV_SEC\", x=\"ORIG_OPER\", data=data)\n",
    "plt.show()"
   ]
  },
  {
   "cell_type": "markdown",
   "metadata": {},
   "source": [
    "From the above plot the more conversation through the HGC originating company and lowerst from SMT originating company"
   ]
  },
  {
   "cell_type": "code",
   "execution_count": 19,
   "metadata": {},
   "outputs": [
    {
     "data": {
      "image/png": "[encoded data removed]",
      "text/plain": [
       "<Figure size 1080x360 with 1 Axes>"
      ]
     },
     "metadata": {},
     "output_type": "display_data"
    }
   ],
   "source": [
    "sns.set(style=\"darkgrid\")\n",
    "plt.figure(figsize=(15,5))\n",
    "sns.barplot(y=\"CONV_SEC\", x=\"hour\", data=data)\n",
    "plt.show()"
   ]
  },
  {
   "cell_type": "markdown",
   "metadata": {},
   "source": [
    "From the above plot we can observe at hour 1 more conversation happed and at hour 7 lowest."
   ]
  },
  {
   "cell_type": "code",
   "execution_count": 20,
   "metadata": {},
   "outputs": [
    {
     "data": {
      "image/png": "[encoded data removed]",
      "text/plain": [
       "<Figure size 1080x360 with 1 Axes>"
      ]
     },
     "metadata": {},
     "output_type": "display_data"
    }
   ],
   "source": [
    "sns.set(style=\"darkgrid\")\n",
    "plt.figure(figsize=(15,5))\n",
    "sns.barplot(y=\"hour\", x=\"BATCH_ID\",hue=\"ORIG_OPER\", data=data)\n",
    "plt.show()"
   ]
  },
  {
   "cell_type": "code",
   "execution_count": 21,
   "metadata": {},
   "outputs": [
    {
     "data": {
      "image/png": "[encoded data removed]",
      "text/plain": [
       "<Figure size 1080x720 with 1 Axes>"
      ]
     },
     "metadata": {},
     "output_type": "display_data"
    }
   ],
   "source": [
    "sns.set(style=\"darkgrid\")\n",
    "plt.figure(figsize=(15,10))\n",
    "sns.barplot(x=\"hour\", y=\"CONV_SEC\",hue=\"ORIG_OPER\", data=data)\n",
    "plt.show()"
   ]
  },
  {
   "cell_type": "markdown",
   "metadata": {},
   "source": [
    "### KMeans clustering"
   ]
  },
  {
   "cell_type": "code",
   "execution_count": 28,
   "metadata": {},
   "outputs": [],
   "source": [
    "col_names=['hour','CONV_SEC']"
   ]
  },
  {
   "cell_type": "code",
   "execution_count": 29,
   "metadata": {},
   "outputs": [],
   "source": [
    "data1=data[col_names]"
   ]
  },
  {
   "cell_type": "code",
   "execution_count": 30,
   "metadata": {},
   "outputs": [
    {
     "data": {
      "text/html": [
       "<div>\n",
       "<style scoped>\n",
       "    .dataframe tbody tr th:only-of-type {\n",
       "        vertical-align: middle;\n",
       "    }\n",
       "\n",
       "    .dataframe tbody tr th {\n",
       "        vertical-align: top;\n",
       "    }\n",
       "\n",
       "    .dataframe thead th {\n",
       "        text-align: right;\n",
       "    }\n",
       "</style>\n",
       "<table border=\"1\" class=\"dataframe\">\n",
       "  <thead>\n",
       "    <tr style=\"text-align: right;\">\n",
       "      <th></th>\n",
       "      <th>hour</th>\n",
       "      <th>CONV_SEC</th>\n",
       "    </tr>\n",
       "  </thead>\n",
       "  <tbody>\n",
       "    <tr>\n",
       "      <th>0</th>\n",
       "      <td>-2.654823</td>\n",
       "      <td>-0.382195</td>\n",
       "    </tr>\n",
       "    <tr>\n",
       "      <th>1</th>\n",
       "      <td>1.222433</td>\n",
       "      <td>-0.124440</td>\n",
       "    </tr>\n",
       "    <tr>\n",
       "      <th>2</th>\n",
       "      <td>-0.830232</td>\n",
       "      <td>-0.356842</td>\n",
       "    </tr>\n",
       "    <tr>\n",
       "      <th>3</th>\n",
       "      <td>0.310138</td>\n",
       "      <td>-0.373744</td>\n",
       "    </tr>\n",
       "    <tr>\n",
       "      <th>4</th>\n",
       "      <td>0.310138</td>\n",
       "      <td>0.133314</td>\n",
       "    </tr>\n",
       "  </tbody>\n",
       "</table>\n",
       "</div>"
      ],
      "text/plain": [
       "       hour  CONV_SEC\n",
       "0 -2.654823 -0.382195\n",
       "1  1.222433 -0.124440\n",
       "2 -0.830232 -0.356842\n",
       "3  0.310138 -0.373744\n",
       "4  0.310138  0.133314"
      ]
     },
     "execution_count": 30,
     "metadata": {},
     "output_type": "execute_result"
    }
   ],
   "source": [
    "dataz=data1.apply(zscore)\n",
    "dataz.head()"
   ]
  },
  {
   "cell_type": "code",
   "execution_count": 31,
   "metadata": {},
   "outputs": [],
   "source": [
    "cluster_range=range(1,15)\n",
    "cluster_error=[]\n",
    "for num_cluster in cluster_range:\n",
    "    model=KMeans(num_cluster)\n",
    "    model.fit(dataz)\n",
    "    cluster_error.append(model.inertia_)"
   ]
  },
  {
   "cell_type": "code",
   "execution_count": 32,
   "metadata": {},
   "outputs": [],
   "source": [
    "labels=model.labels_\n",
    "centroids=model.cluster_centers_"
   ]
  },
  {
   "cell_type": "code",
   "execution_count": 33,
   "metadata": {
    "scrolled": false
   },
   "outputs": [
    {
     "data": {
      "text/plain": [
       "[<matplotlib.lines.Line2D at 0x118569b0>]"
      ]
     },
     "execution_count": 33,
     "metadata": {},
     "output_type": "execute_result"
    },
    {
     "data": {
      "image/png": "[encoded data removed]",
      "text/plain": [
       "<Figure size 864x432 with 1 Axes>"
      ]
     },
     "metadata": {},
     "output_type": "display_data"
    }
   ],
   "source": [
    "plt.figure(figsize=(12,6))\n",
    "plt.plot(cluster_range,cluster_error,marker='*')"
   ]
  },
  {
   "cell_type": "markdown",
   "metadata": {},
   "source": [
    "#### For the cluster 3"
   ]
  },
  {
   "cell_type": "code",
   "execution_count": 34,
   "metadata": {},
   "outputs": [],
   "source": [
    "kmeans=KMeans(n_clusters=3,n_init=15,random_state=2)"
   ]
  },
  {
   "cell_type": "code",
   "execution_count": 35,
   "metadata": {},
   "outputs": [
    {
     "data": {
      "text/plain": [
       "KMeans(algorithm='auto', copy_x=True, init='k-means++', max_iter=300,\n",
       "       n_clusters=3, n_init=15, n_jobs=None, precompute_distances='auto',\n",
       "       random_state=2, tol=0.0001, verbose=0)"
      ]
     },
     "execution_count": 35,
     "metadata": {},
     "output_type": "execute_result"
    }
   ],
   "source": [
    "kmeans.fit(dataz)"
   ]
  },
  {
   "cell_type": "code",
   "execution_count": 36,
   "metadata": {},
   "outputs": [
    {
     "data": {
      "text/plain": [
       "array([[-0.82226108, -0.12069589],\n",
       "       [ 0.80236392, -0.08655447],\n",
       "       [ 0.14909908,  5.48977716]])"
      ]
     },
     "execution_count": 36,
     "metadata": {},
     "output_type": "execute_result"
    }
   ],
   "source": [
    "centroids=kmeans.cluster_centers_\n",
    "centroids"
   ]
  },
  {
   "cell_type": "code",
   "execution_count": 37,
   "metadata": {},
   "outputs": [],
   "source": [
    "centroids_data=pd.DataFrame(centroids,columns=list(dataz))"
   ]
  },
  {
   "cell_type": "code",
   "execution_count": 38,
   "metadata": {},
   "outputs": [
    {
     "data": {
      "text/html": [
       "<div>\n",
       "<style scoped>\n",
       "    .dataframe tbody tr th:only-of-type {\n",
       "        vertical-align: middle;\n",
       "    }\n",
       "\n",
       "    .dataframe tbody tr th {\n",
       "        vertical-align: top;\n",
       "    }\n",
       "\n",
       "    .dataframe thead th {\n",
       "        text-align: right;\n",
       "    }\n",
       "</style>\n",
       "<table border=\"1\" class=\"dataframe\">\n",
       "  <thead>\n",
       "    <tr style=\"text-align: right;\">\n",
       "      <th></th>\n",
       "      <th>hour</th>\n",
       "      <th>CONV_SEC</th>\n",
       "    </tr>\n",
       "  </thead>\n",
       "  <tbody>\n",
       "    <tr>\n",
       "      <th>0</th>\n",
       "      <td>-0.822261</td>\n",
       "      <td>-0.120696</td>\n",
       "    </tr>\n",
       "    <tr>\n",
       "      <th>1</th>\n",
       "      <td>0.802364</td>\n",
       "      <td>-0.086554</td>\n",
       "    </tr>\n",
       "    <tr>\n",
       "      <th>2</th>\n",
       "      <td>0.149099</td>\n",
       "      <td>5.489777</td>\n",
       "    </tr>\n",
       "  </tbody>\n",
       "</table>\n",
       "</div>"
      ],
      "text/plain": [
       "       hour  CONV_SEC\n",
       "0 -0.822261 -0.120696\n",
       "1  0.802364 -0.086554\n",
       "2  0.149099  5.489777"
      ]
     },
     "execution_count": 38,
     "metadata": {},
     "output_type": "execute_result"
    }
   ],
   "source": [
    "centroids_data"
   ]
  },
  {
   "cell_type": "code",
   "execution_count": 39,
   "metadata": {},
   "outputs": [
    {
     "data": {
      "text/plain": [
       "array([0, 1, 0, 1, 1, 0, 0, 0, 1, 0, 0, 1, 0, 1, 0, 1, 0, 0, 1, 1, 1, 0,\n",
       "       0, 1, 0, 1, 1, 1, 0, 0])"
      ]
     },
     "execution_count": 39,
     "metadata": {},
     "output_type": "execute_result"
    }
   ],
   "source": [
    "kmeans.labels_[:30]"
   ]
  },
  {
   "cell_type": "code",
   "execution_count": 40,
   "metadata": {},
   "outputs": [
    {
     "data": {
      "text/html": [
       "<div>\n",
       "<style scoped>\n",
       "    .dataframe tbody tr th:only-of-type {\n",
       "        vertical-align: middle;\n",
       "    }\n",
       "\n",
       "    .dataframe tbody tr th {\n",
       "        vertical-align: top;\n",
       "    }\n",
       "\n",
       "    .dataframe thead th {\n",
       "        text-align: right;\n",
       "    }\n",
       "</style>\n",
       "<table border=\"1\" class=\"dataframe\">\n",
       "  <thead>\n",
       "    <tr style=\"text-align: right;\">\n",
       "      <th></th>\n",
       "      <th>hour</th>\n",
       "      <th>CONV_SEC</th>\n",
       "      <th>labels</th>\n",
       "    </tr>\n",
       "  </thead>\n",
       "  <tbody>\n",
       "    <tr>\n",
       "      <th>0</th>\n",
       "      <td>2</td>\n",
       "      <td>0</td>\n",
       "      <td>0</td>\n",
       "    </tr>\n",
       "    <tr>\n",
       "      <th>1</th>\n",
       "      <td>19</td>\n",
       "      <td>61</td>\n",
       "      <td>1</td>\n",
       "    </tr>\n",
       "    <tr>\n",
       "      <th>2</th>\n",
       "      <td>10</td>\n",
       "      <td>6</td>\n",
       "      <td>0</td>\n",
       "    </tr>\n",
       "    <tr>\n",
       "      <th>3</th>\n",
       "      <td>15</td>\n",
       "      <td>2</td>\n",
       "      <td>1</td>\n",
       "    </tr>\n",
       "    <tr>\n",
       "      <th>4</th>\n",
       "      <td>15</td>\n",
       "      <td>122</td>\n",
       "      <td>1</td>\n",
       "    </tr>\n",
       "  </tbody>\n",
       "</table>\n",
       "</div>"
      ],
      "text/plain": [
       "   hour  CONV_SEC  labels\n",
       "0     2         0       0\n",
       "1    19        61       1\n",
       "2    10         6       0\n",
       "3    15         2       1\n",
       "4    15       122       1"
      ]
     },
     "execution_count": 40,
     "metadata": {},
     "output_type": "execute_result"
    }
   ],
   "source": [
    "data1['labels']=kmeans.labels_\n",
    "data1.head()"
   ]
  },
  {
   "cell_type": "code",
   "execution_count": 41,
   "metadata": {},
   "outputs": [
    {
     "data": {
      "text/plain": [
       "1    7922\n",
       "0    7784\n",
       "2     294\n",
       "Name: labels, dtype: int64"
      ]
     },
     "execution_count": 41,
     "metadata": {},
     "output_type": "execute_result"
    }
   ],
   "source": [
    "data1.labels.value_counts()"
   ]
  },
  {
   "cell_type": "markdown",
   "metadata": {},
   "source": [
    "#### For the cluster 2"
   ]
  },
  {
   "cell_type": "code",
   "execution_count": 42,
   "metadata": {},
   "outputs": [],
   "source": [
    "kmeans=KMeans(n_clusters=2,n_init=15,random_state=2)"
   ]
  },
  {
   "cell_type": "code",
   "execution_count": 43,
   "metadata": {},
   "outputs": [
    {
     "data": {
      "text/plain": [
       "KMeans(algorithm='auto', copy_x=True, init='k-means++', max_iter=300,\n",
       "       n_clusters=2, n_init=15, n_jobs=None, precompute_distances='auto',\n",
       "       random_state=2, tol=0.0001, verbose=0)"
      ]
     },
     "execution_count": 43,
     "metadata": {},
     "output_type": "execute_result"
    }
   ],
   "source": [
    "kmeans.fit(dataz)"
   ]
  },
  {
   "cell_type": "code",
   "execution_count": 44,
   "metadata": {},
   "outputs": [
    {
     "data": {
      "text/plain": [
       "array([[-0.82562688, -0.05595258],\n",
       "       [ 0.80022297,  0.05423096]])"
      ]
     },
     "execution_count": 44,
     "metadata": {},
     "output_type": "execute_result"
    }
   ],
   "source": [
    "centroids=kmeans.cluster_centers_\n",
    "centroids"
   ]
  },
  {
   "cell_type": "code",
   "execution_count": 45,
   "metadata": {},
   "outputs": [],
   "source": [
    "centroids_data=pd.DataFrame(centroids,columns=list(dataz))"
   ]
  },
  {
   "cell_type": "code",
   "execution_count": 46,
   "metadata": {},
   "outputs": [
    {
     "data": {
      "text/html": [
       "<div>\n",
       "<style scoped>\n",
       "    .dataframe tbody tr th:only-of-type {\n",
       "        vertical-align: middle;\n",
       "    }\n",
       "\n",
       "    .dataframe tbody tr th {\n",
       "        vertical-align: top;\n",
       "    }\n",
       "\n",
       "    .dataframe thead th {\n",
       "        text-align: right;\n",
       "    }\n",
       "</style>\n",
       "<table border=\"1\" class=\"dataframe\">\n",
       "  <thead>\n",
       "    <tr style=\"text-align: right;\">\n",
       "      <th></th>\n",
       "      <th>hour</th>\n",
       "      <th>CONV_SEC</th>\n",
       "    </tr>\n",
       "  </thead>\n",
       "  <tbody>\n",
       "    <tr>\n",
       "      <th>0</th>\n",
       "      <td>-0.825627</td>\n",
       "      <td>-0.055953</td>\n",
       "    </tr>\n",
       "    <tr>\n",
       "      <th>1</th>\n",
       "      <td>0.800223</td>\n",
       "      <td>0.054231</td>\n",
       "    </tr>\n",
       "  </tbody>\n",
       "</table>\n",
       "</div>"
      ],
      "text/plain": [
       "       hour  CONV_SEC\n",
       "0 -0.825627 -0.055953\n",
       "1  0.800223  0.054231"
      ]
     },
     "execution_count": 46,
     "metadata": {},
     "output_type": "execute_result"
    }
   ],
   "source": [
    "centroids_data"
   ]
  },
  {
   "cell_type": "code",
   "execution_count": 47,
   "metadata": {},
   "outputs": [
    {
     "data": {
      "text/plain": [
       "array([0, 1, 0, 1, 1, 0, 0, 0, 1, 0, 0, 1, 0, 1, 0, 1, 0, 0, 1, 1, 1, 0,\n",
       "       0, 1, 0, 1, 1, 1, 0, 0])"
      ]
     },
     "execution_count": 47,
     "metadata": {},
     "output_type": "execute_result"
    }
   ],
   "source": [
    "kmeans.labels_[:30]"
   ]
  },
  {
   "cell_type": "code",
   "execution_count": 48,
   "metadata": {},
   "outputs": [
    {
     "data": {
      "text/html": [
       "<div>\n",
       "<style scoped>\n",
       "    .dataframe tbody tr th:only-of-type {\n",
       "        vertical-align: middle;\n",
       "    }\n",
       "\n",
       "    .dataframe tbody tr th {\n",
       "        vertical-align: top;\n",
       "    }\n",
       "\n",
       "    .dataframe thead th {\n",
       "        text-align: right;\n",
       "    }\n",
       "</style>\n",
       "<table border=\"1\" class=\"dataframe\">\n",
       "  <thead>\n",
       "    <tr style=\"text-align: right;\">\n",
       "      <th></th>\n",
       "      <th>hour</th>\n",
       "      <th>CONV_SEC</th>\n",
       "      <th>labels</th>\n",
       "    </tr>\n",
       "  </thead>\n",
       "  <tbody>\n",
       "    <tr>\n",
       "      <th>0</th>\n",
       "      <td>2</td>\n",
       "      <td>0</td>\n",
       "      <td>0</td>\n",
       "    </tr>\n",
       "    <tr>\n",
       "      <th>1</th>\n",
       "      <td>19</td>\n",
       "      <td>61</td>\n",
       "      <td>1</td>\n",
       "    </tr>\n",
       "    <tr>\n",
       "      <th>2</th>\n",
       "      <td>10</td>\n",
       "      <td>6</td>\n",
       "      <td>0</td>\n",
       "    </tr>\n",
       "    <tr>\n",
       "      <th>3</th>\n",
       "      <td>15</td>\n",
       "      <td>2</td>\n",
       "      <td>1</td>\n",
       "    </tr>\n",
       "    <tr>\n",
       "      <th>4</th>\n",
       "      <td>15</td>\n",
       "      <td>122</td>\n",
       "      <td>1</td>\n",
       "    </tr>\n",
       "  </tbody>\n",
       "</table>\n",
       "</div>"
      ],
      "text/plain": [
       "   hour  CONV_SEC  labels\n",
       "0     2         0       0\n",
       "1    19        61       1\n",
       "2    10         6       0\n",
       "3    15         2       1\n",
       "4    15       122       1"
      ]
     },
     "execution_count": 48,
     "metadata": {},
     "output_type": "execute_result"
    }
   ],
   "source": [
    "data1['labels']=kmeans.labels_\n",
    "data1.head()"
   ]
  },
  {
   "cell_type": "code",
   "execution_count": 49,
   "metadata": {},
   "outputs": [
    {
     "data": {
      "text/plain": [
       "1    8124\n",
       "0    7876\n",
       "Name: labels, dtype: int64"
      ]
     },
     "execution_count": 49,
     "metadata": {},
     "output_type": "execute_result"
    }
   ],
   "source": [
    "data1.labels.value_counts()"
   ]
  },
  {
   "cell_type": "code",
   "execution_count": null,
   "metadata": {},
   "outputs": [],
   "source": []
  }
 ],
 "metadata": {
  "kernelspec": {
   "display_name": "Python 3",
   "language": "python",
   "name": "python3"
  },
  "language_info": {
   "codemirror_mode": {
    "name": "ipython",
    "version": 3
   },
   "file_extension": ".py",
   "mimetype": "text/x-python",
   "name": "python",
   "nbconvert_exporter": "python",
   "pygments_lexer": "ipython3",
   "version": "3.7.4"
  }
 },
 "nbformat": 4,
 "nbformat_minor": 2
}
