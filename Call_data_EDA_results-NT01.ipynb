{
 "cells": [
  {
   "cell_type": "code",
   "execution_count": 1,
   "metadata": {},
   "outputs": [],
   "source": [
    "import warnings\n",
    "warnings.filterwarnings('ignore')\n",
    "from sys import argv\n",
    "import matplotlib.pyplot as plt\n",
    "import seaborn as sns; sns.set(style='ticks',color_codes=True)\n",
    "import numpy as np\n",
    "import pandas as pd\n",
    "import scipy.stats as stats\n",
    "import random\n",
    "from scipy.stats import ttest_1samp,wilcoxon,shapiro,ttest_ind,mannwhitneyu,levene,bartlett\n",
    "from statsmodels.stats.power import ttest_power\n",
    "import matplotlib.pyplot as plt\n",
    "%matplotlib inline\n",
    "from scipy.stats import chisquare,chi2_contingency\n",
    "from statsmodels.stats.proportion import proportions_ztest\n",
    "from scipy.stats import chisquare,chi2_contingency,f_oneway\n",
    "import statsmodels.api as sm\n",
    "import statsmodels.formula.api as smf\n",
    "from statsmodels.formula.api import ols\n",
    "from sklearn.linear_model import LinearRegression\n",
    "from sklearn import metrics\n",
    "from sklearn.model_selection import train_test_split\n",
    "import statsmodels.tsa.api as smt\n",
    "from statsmodels.graphics.gofplots import ProbPlot\n",
    "import pylab\n",
    "from statsmodels.compat import lzip\n",
    "import statsmodels.stats.api as sms\n",
    "from statsmodels.stats.outliers_influence import variance_inflation_factor\n",
    "from sklearn.feature_selection import RFE\n",
    "from sklearn.linear_model import RidgeCV, LassoCV, Ridge, Lasso\n",
    "from mlxtend.feature_selection import SequentialFeatureSelector as sfs\n",
    "import numpy as np\n",
    "import matplotlib.pyplot as plt\n",
    "import matplotlib.gridspec as gridspec\n",
    "import itertools\n",
    "from sklearn.linear_model import LogisticRegression\n",
    "from sklearn.svm import SVC\n",
    "from sklearn.ensemble import RandomForestClassifier\n",
    "from mlxtend.classifier import EnsembleVoteClassifier\n",
    "from mlxtend.data import iris_data\n",
    "from mlxtend.plotting import plot_decision_regions\n",
    "import plotly.express as px\n",
    "import plotly.graph_objects as go\n",
    "import plotly.figure_factory as ff\n",
    "from sklearn.neighbors import KNeighborsClassifier\n",
    "from sklearn.naive_bayes import GaussianNB\n",
    "from sklearn.metrics import confusion_matrix,auc,roc_auc_score\n",
    "from sklearn.metrics import recall_score,precision_score,accuracy_score,f1_score,classification_report\n",
    "from sklearn.preprocessing import StandardScaler\n",
    "from sklearn import preprocessing\n",
    "from sklearn.cluster import KMeans\n",
    "from scipy.stats import zscore\n",
    "from mpl_toolkits.mplot3d import Axes3D\n",
    "from sklearn.cluster import AgglomerativeClustering "
   ]
  },
  {
   "cell_type": "code",
   "execution_count": 2,
   "metadata": {},
   "outputs": [
    {
     "data": {
      "text/html": [
       "<div>\n",
       "<style scoped>\n",
       "    .dataframe tbody tr th:only-of-type {\n",
       "        vertical-align: middle;\n",
       "    }\n",
       "\n",
       "    .dataframe tbody tr th {\n",
       "        vertical-align: top;\n",
       "    }\n",
       "\n",
       "    .dataframe thead th {\n",
       "        text-align: right;\n",
       "    }\n",
       "</style>\n",
       "<table border=\"1\" class=\"dataframe\">\n",
       "  <thead>\n",
       "    <tr style=\"text-align: right;\">\n",
       "      <th></th>\n",
       "      <th>BATCH_ID</th>\n",
       "      <th>CALL_ORIG</th>\n",
       "      <th>CALL_ANS</th>\n",
       "      <th>CALL_DISCNT</th>\n",
       "      <th>CONV_SEC</th>\n",
       "      <th>CALLING_NUM</th>\n",
       "      <th>DIAL_NUM</th>\n",
       "      <th>CALLED_NUM</th>\n",
       "      <th>ORIG_OPER</th>\n",
       "      <th>TERM_OPER</th>\n",
       "    </tr>\n",
       "  </thead>\n",
       "  <tbody>\n",
       "    <tr>\n",
       "      <th>0</th>\n",
       "      <td>20191023</td>\n",
       "      <td>2019-10-23T21:03:25</td>\n",
       "      <td>2019-10-23T21:03:29</td>\n",
       "      <td>2019-10-23T21:05:49</td>\n",
       "      <td>140</td>\n",
       "      <td>98584323</td>\n",
       "      <td>28393384</td>\n",
       "      <td>28393384</td>\n",
       "      <td>HTCL</td>\n",
       "      <td>PCCW</td>\n",
       "    </tr>\n",
       "    <tr>\n",
       "      <th>1</th>\n",
       "      <td>20191023</td>\n",
       "      <td>2019-10-23T13:34:48</td>\n",
       "      <td>2019-10-23T13:34:51</td>\n",
       "      <td>2019-10-23T13:35:25</td>\n",
       "      <td>34</td>\n",
       "      <td>61712572</td>\n",
       "      <td>58084602</td>\n",
       "      <td>58084602</td>\n",
       "      <td>HTCL</td>\n",
       "      <td>PCCW</td>\n",
       "    </tr>\n",
       "    <tr>\n",
       "      <th>2</th>\n",
       "      <td>20191023</td>\n",
       "      <td>2019-10-23T14:36:45</td>\n",
       "      <td>2019-10-23T14:36:55</td>\n",
       "      <td>2019-10-23T14:37:14</td>\n",
       "      <td>19</td>\n",
       "      <td>96063495</td>\n",
       "      <td>36918050</td>\n",
       "      <td>415776278</td>\n",
       "      <td>HTCL</td>\n",
       "      <td>PCCW</td>\n",
       "    </tr>\n",
       "    <tr>\n",
       "      <th>3</th>\n",
       "      <td>20191023</td>\n",
       "      <td>2019-10-23T15:23:57</td>\n",
       "      <td>2019-10-23T15:24:16</td>\n",
       "      <td>2019-10-23T15:24:39</td>\n",
       "      <td>23</td>\n",
       "      <td>97090459</td>\n",
       "      <td>28042373</td>\n",
       "      <td>28042373</td>\n",
       "      <td>HTCL</td>\n",
       "      <td>PCCW</td>\n",
       "    </tr>\n",
       "    <tr>\n",
       "      <th>4</th>\n",
       "      <td>20191023</td>\n",
       "      <td>2019-10-23T12:06:18</td>\n",
       "      <td>2019-10-23T12:06:23</td>\n",
       "      <td>2019-10-23T12:06:37</td>\n",
       "      <td>14</td>\n",
       "      <td>61866381</td>\n",
       "      <td>36050646</td>\n",
       "      <td>36050646</td>\n",
       "      <td>HTCL</td>\n",
       "      <td>PCCW</td>\n",
       "    </tr>\n",
       "  </tbody>\n",
       "</table>\n",
       "</div>"
      ],
      "text/plain": [
       "   BATCH_ID            CALL_ORIG             CALL_ANS          CALL_DISCNT  \\\n",
       "0  20191023  2019-10-23T21:03:25  2019-10-23T21:03:29  2019-10-23T21:05:49   \n",
       "1  20191023  2019-10-23T13:34:48  2019-10-23T13:34:51  2019-10-23T13:35:25   \n",
       "2  20191023  2019-10-23T14:36:45  2019-10-23T14:36:55  2019-10-23T14:37:14   \n",
       "3  20191023  2019-10-23T15:23:57  2019-10-23T15:24:16  2019-10-23T15:24:39   \n",
       "4  20191023  2019-10-23T12:06:18  2019-10-23T12:06:23  2019-10-23T12:06:37   \n",
       "\n",
       "   CONV_SEC  CALLING_NUM  DIAL_NUM  CALLED_NUM ORIG_OPER TERM_OPER  \n",
       "0       140     98584323  28393384    28393384      HTCL      PCCW  \n",
       "1        34     61712572  58084602    58084602      HTCL      PCCW  \n",
       "2        19     96063495  36918050   415776278      HTCL      PCCW  \n",
       "3        23     97090459  28042373    28042373      HTCL      PCCW  \n",
       "4        14     61866381  36050646    36050646      HTCL      PCCW  "
      ]
     },
     "execution_count": 2,
     "metadata": {},
     "output_type": "execute_result"
    }
   ],
   "source": [
    "data=pd.read_csv('results-NT01.csv')\n",
    "data.head()"
   ]
  },
  {
   "cell_type": "code",
   "execution_count": 3,
   "metadata": {},
   "outputs": [
    {
     "data": {
      "text/plain": [
       "(16000, 10)"
      ]
     },
     "execution_count": 3,
     "metadata": {},
     "output_type": "execute_result"
    }
   ],
   "source": [
    "data.shape"
   ]
  },
  {
   "cell_type": "code",
   "execution_count": 4,
   "metadata": {},
   "outputs": [
    {
     "data": {
      "text/html": [
       "<div>\n",
       "<style scoped>\n",
       "    .dataframe tbody tr th:only-of-type {\n",
       "        vertical-align: middle;\n",
       "    }\n",
       "\n",
       "    .dataframe tbody tr th {\n",
       "        vertical-align: top;\n",
       "    }\n",
       "\n",
       "    .dataframe thead th {\n",
       "        text-align: right;\n",
       "    }\n",
       "</style>\n",
       "<table border=\"1\" class=\"dataframe\">\n",
       "  <thead>\n",
       "    <tr style=\"text-align: right;\">\n",
       "      <th></th>\n",
       "      <th>BATCH_ID</th>\n",
       "      <th>CONV_SEC</th>\n",
       "      <th>CALLING_NUM</th>\n",
       "      <th>DIAL_NUM</th>\n",
       "      <th>CALLED_NUM</th>\n",
       "    </tr>\n",
       "  </thead>\n",
       "  <tbody>\n",
       "    <tr>\n",
       "      <th>count</th>\n",
       "      <td>1.600000e+04</td>\n",
       "      <td>16000.000000</td>\n",
       "      <td>1.600000e+04</td>\n",
       "      <td>1.600000e+04</td>\n",
       "      <td>1.600000e+04</td>\n",
       "    </tr>\n",
       "    <tr>\n",
       "      <th>mean</th>\n",
       "      <td>2.019102e+07</td>\n",
       "      <td>102.711375</td>\n",
       "      <td>1.261848e+08</td>\n",
       "      <td>4.556714e+13</td>\n",
       "      <td>4.538291e+13</td>\n",
       "    </tr>\n",
       "    <tr>\n",
       "      <th>std</th>\n",
       "      <td>3.601849e+00</td>\n",
       "      <td>297.553079</td>\n",
       "      <td>2.020537e+09</td>\n",
       "      <td>2.304346e+15</td>\n",
       "      <td>2.304260e+15</td>\n",
       "    </tr>\n",
       "    <tr>\n",
       "      <th>min</th>\n",
       "      <td>2.019102e+07</td>\n",
       "      <td>0.000000</td>\n",
       "      <td>1.523810e+07</td>\n",
       "      <td>1.000000e+02</td>\n",
       "      <td>1.000000e+02</td>\n",
       "    </tr>\n",
       "    <tr>\n",
       "      <th>25%</th>\n",
       "      <td>2.019102e+07</td>\n",
       "      <td>6.000000</td>\n",
       "      <td>6.229301e+07</td>\n",
       "      <td>2.392517e+07</td>\n",
       "      <td>2.394612e+07</td>\n",
       "    </tr>\n",
       "    <tr>\n",
       "      <th>50%</th>\n",
       "      <td>2.019102e+07</td>\n",
       "      <td>31.000000</td>\n",
       "      <td>9.108464e+07</td>\n",
       "      <td>2.655283e+07</td>\n",
       "      <td>2.656646e+07</td>\n",
       "    </tr>\n",
       "    <tr>\n",
       "      <th>75%</th>\n",
       "      <td>2.019102e+07</td>\n",
       "      <td>91.000000</td>\n",
       "      <td>9.488526e+07</td>\n",
       "      <td>2.866815e+07</td>\n",
       "      <td>2.867368e+07</td>\n",
       "    </tr>\n",
       "    <tr>\n",
       "      <th>max</th>\n",
       "      <td>2.019102e+07</td>\n",
       "      <td>11306.000000</td>\n",
       "      <td>8.529872e+10</td>\n",
       "      <td>1.634186e+17</td>\n",
       "      <td>1.634186e+17</td>\n",
       "    </tr>\n",
       "  </tbody>\n",
       "</table>\n",
       "</div>"
      ],
      "text/plain": [
       "           BATCH_ID      CONV_SEC   CALLING_NUM      DIAL_NUM    CALLED_NUM\n",
       "count  1.600000e+04  16000.000000  1.600000e+04  1.600000e+04  1.600000e+04\n",
       "mean   2.019102e+07    102.711375  1.261848e+08  4.556714e+13  4.538291e+13\n",
       "std    3.601849e+00    297.553079  2.020537e+09  2.304346e+15  2.304260e+15\n",
       "min    2.019102e+07      0.000000  1.523810e+07  1.000000e+02  1.000000e+02\n",
       "25%    2.019102e+07      6.000000  6.229301e+07  2.392517e+07  2.394612e+07\n",
       "50%    2.019102e+07     31.000000  9.108464e+07  2.655283e+07  2.656646e+07\n",
       "75%    2.019102e+07     91.000000  9.488526e+07  2.866815e+07  2.867368e+07\n",
       "max    2.019102e+07  11306.000000  8.529872e+10  1.634186e+17  1.634186e+17"
      ]
     },
     "execution_count": 4,
     "metadata": {},
     "output_type": "execute_result"
    }
   ],
   "source": [
    "data.describe()"
   ]
  },
  {
   "cell_type": "code",
   "execution_count": 5,
   "metadata": {},
   "outputs": [
    {
     "name": "stdout",
     "output_type": "stream",
     "text": [
      "<class 'pandas.core.frame.DataFrame'>\n",
      "RangeIndex: 16000 entries, 0 to 15999\n",
      "Data columns (total 10 columns):\n",
      "BATCH_ID       16000 non-null int64\n",
      "CALL_ORIG      16000 non-null object\n",
      "CALL_ANS       16000 non-null object\n",
      "CALL_DISCNT    16000 non-null object\n",
      "CONV_SEC       16000 non-null int64\n",
      "CALLING_NUM    16000 non-null int64\n",
      "DIAL_NUM       16000 non-null int64\n",
      "CALLED_NUM     16000 non-null int64\n",
      "ORIG_OPER      16000 non-null object\n",
      "TERM_OPER      16000 non-null object\n",
      "dtypes: int64(5), object(5)\n",
      "memory usage: 1.2+ MB\n"
     ]
    }
   ],
   "source": [
    "data.info()"
   ]
  },
  {
   "cell_type": "code",
   "execution_count": 6,
   "metadata": {},
   "outputs": [
    {
     "data": {
      "text/plain": [
       "Index(['BATCH_ID', 'CALL_ORIG', 'CALL_ANS', 'CALL_DISCNT', 'CONV_SEC',\n",
       "       'CALLING_NUM', 'DIAL_NUM', 'CALLED_NUM', 'ORIG_OPER', 'TERM_OPER'],\n",
       "      dtype='object')"
      ]
     },
     "execution_count": 6,
     "metadata": {},
     "output_type": "execute_result"
    }
   ],
   "source": [
    "data.columns"
   ]
  },
  {
   "cell_type": "code",
   "execution_count": 7,
   "metadata": {},
   "outputs": [
    {
     "data": {
      "text/plain": [
       "HTCL    15244\n",
       "HGC       750\n",
       "SMT         4\n",
       "PCCW        1\n",
       "STSL        1\n",
       "Name: ORIG_OPER, dtype: int64"
      ]
     },
     "execution_count": 7,
     "metadata": {},
     "output_type": "execute_result"
    }
   ],
   "source": [
    "data.ORIG_OPER.value_counts()"
   ]
  },
  {
   "cell_type": "markdown",
   "metadata": {},
   "source": [
    "From the above count originating company there are 5 different originating company to this switch HTCT,HGC,SMT,PCCW,StSL\n",
    "\n",
    "HTCl is the highest opereating company where as PCCW and STSL is the lowest.  "
   ]
  },
  {
   "cell_type": "code",
   "execution_count": 8,
   "metadata": {},
   "outputs": [
    {
     "data": {
      "text/plain": [
       "20191016    5475\n",
       "20191024    3835\n",
       "20191017    3460\n",
       "20191023    3018\n",
       "20191015     212\n",
       "Name: BATCH_ID, dtype: int64"
      ]
     },
     "execution_count": 8,
     "metadata": {},
     "output_type": "execute_result"
    }
   ],
   "source": [
    "data.BATCH_ID.value_counts()"
   ]
  },
  {
   "cell_type": "code",
   "execution_count": 9,
   "metadata": {},
   "outputs": [
    {
     "data": {
      "text/plain": [
       "PCCW    16000\n",
       "Name: TERM_OPER, dtype: int64"
      ]
     },
     "execution_count": 9,
     "metadata": {},
     "output_type": "execute_result"
    }
   ],
   "source": [
    "data.TERM_OPER.value_counts()"
   ]
  },
  {
   "cell_type": "code",
   "execution_count": 10,
   "metadata": {},
   "outputs": [],
   "source": [
    "#Converting the date columns to date time\n",
    "data['CALL_ORIG'] = pd.to_datetime(data['CALL_ORIG'], format = '%Y-%m-%d %H:%M:%S')\n",
    "data['CALL_ANS'] = pd.to_datetime(data['CALL_ANS'], format = '%Y-%m-%d %H:%M:%S')\n",
    "data['CALL_DISCNT'] = pd.to_datetime(data['CALL_DISCNT'], format = '%Y-%m-%d %H:%M:%S')"
   ]
  },
  {
   "cell_type": "code",
   "execution_count": 11,
   "metadata": {},
   "outputs": [
    {
     "name": "stdout",
     "output_type": "stream",
     "text": [
      "<class 'pandas.core.frame.DataFrame'>\n",
      "RangeIndex: 16000 entries, 0 to 15999\n",
      "Data columns (total 10 columns):\n",
      "BATCH_ID       16000 non-null int64\n",
      "CALL_ORIG      16000 non-null datetime64[ns]\n",
      "CALL_ANS       16000 non-null datetime64[ns]\n",
      "CALL_DISCNT    16000 non-null datetime64[ns]\n",
      "CONV_SEC       16000 non-null int64\n",
      "CALLING_NUM    16000 non-null int64\n",
      "DIAL_NUM       16000 non-null int64\n",
      "CALLED_NUM     16000 non-null int64\n",
      "ORIG_OPER      16000 non-null object\n",
      "TERM_OPER      16000 non-null object\n",
      "dtypes: datetime64[ns](3), int64(5), object(2)\n",
      "memory usage: 1.2+ MB\n"
     ]
    }
   ],
   "source": [
    "data.info()"
   ]
  },
  {
   "cell_type": "code",
   "execution_count": 12,
   "metadata": {},
   "outputs": [],
   "source": [
    "def hr_func(ts):\n",
    "    return ts.hour\n",
    "\n",
    "data['hour'] = data['CALL_ORIG'].apply(hr_func)"
   ]
  },
  {
   "cell_type": "code",
   "execution_count": 13,
   "metadata": {},
   "outputs": [
    {
     "data": {
      "text/html": [
       "<div>\n",
       "<style scoped>\n",
       "    .dataframe tbody tr th:only-of-type {\n",
       "        vertical-align: middle;\n",
       "    }\n",
       "\n",
       "    .dataframe tbody tr th {\n",
       "        vertical-align: top;\n",
       "    }\n",
       "\n",
       "    .dataframe thead th {\n",
       "        text-align: right;\n",
       "    }\n",
       "</style>\n",
       "<table border=\"1\" class=\"dataframe\">\n",
       "  <thead>\n",
       "    <tr style=\"text-align: right;\">\n",
       "      <th></th>\n",
       "      <th>BATCH_ID</th>\n",
       "      <th>CALL_ORIG</th>\n",
       "      <th>CALL_ANS</th>\n",
       "      <th>CALL_DISCNT</th>\n",
       "      <th>CONV_SEC</th>\n",
       "      <th>CALLING_NUM</th>\n",
       "      <th>DIAL_NUM</th>\n",
       "      <th>CALLED_NUM</th>\n",
       "      <th>ORIG_OPER</th>\n",
       "      <th>TERM_OPER</th>\n",
       "      <th>hour</th>\n",
       "    </tr>\n",
       "  </thead>\n",
       "  <tbody>\n",
       "    <tr>\n",
       "      <th>0</th>\n",
       "      <td>20191023</td>\n",
       "      <td>2019-10-23 21:03:25</td>\n",
       "      <td>2019-10-23 21:03:29</td>\n",
       "      <td>2019-10-23 21:05:49</td>\n",
       "      <td>140</td>\n",
       "      <td>98584323</td>\n",
       "      <td>28393384</td>\n",
       "      <td>28393384</td>\n",
       "      <td>HTCL</td>\n",
       "      <td>PCCW</td>\n",
       "      <td>21</td>\n",
       "    </tr>\n",
       "    <tr>\n",
       "      <th>1</th>\n",
       "      <td>20191023</td>\n",
       "      <td>2019-10-23 13:34:48</td>\n",
       "      <td>2019-10-23 13:34:51</td>\n",
       "      <td>2019-10-23 13:35:25</td>\n",
       "      <td>34</td>\n",
       "      <td>61712572</td>\n",
       "      <td>58084602</td>\n",
       "      <td>58084602</td>\n",
       "      <td>HTCL</td>\n",
       "      <td>PCCW</td>\n",
       "      <td>13</td>\n",
       "    </tr>\n",
       "    <tr>\n",
       "      <th>2</th>\n",
       "      <td>20191023</td>\n",
       "      <td>2019-10-23 14:36:45</td>\n",
       "      <td>2019-10-23 14:36:55</td>\n",
       "      <td>2019-10-23 14:37:14</td>\n",
       "      <td>19</td>\n",
       "      <td>96063495</td>\n",
       "      <td>36918050</td>\n",
       "      <td>415776278</td>\n",
       "      <td>HTCL</td>\n",
       "      <td>PCCW</td>\n",
       "      <td>14</td>\n",
       "    </tr>\n",
       "    <tr>\n",
       "      <th>3</th>\n",
       "      <td>20191023</td>\n",
       "      <td>2019-10-23 15:23:57</td>\n",
       "      <td>2019-10-23 15:24:16</td>\n",
       "      <td>2019-10-23 15:24:39</td>\n",
       "      <td>23</td>\n",
       "      <td>97090459</td>\n",
       "      <td>28042373</td>\n",
       "      <td>28042373</td>\n",
       "      <td>HTCL</td>\n",
       "      <td>PCCW</td>\n",
       "      <td>15</td>\n",
       "    </tr>\n",
       "    <tr>\n",
       "      <th>4</th>\n",
       "      <td>20191023</td>\n",
       "      <td>2019-10-23 12:06:18</td>\n",
       "      <td>2019-10-23 12:06:23</td>\n",
       "      <td>2019-10-23 12:06:37</td>\n",
       "      <td>14</td>\n",
       "      <td>61866381</td>\n",
       "      <td>36050646</td>\n",
       "      <td>36050646</td>\n",
       "      <td>HTCL</td>\n",
       "      <td>PCCW</td>\n",
       "      <td>12</td>\n",
       "    </tr>\n",
       "  </tbody>\n",
       "</table>\n",
       "</div>"
      ],
      "text/plain": [
       "   BATCH_ID           CALL_ORIG            CALL_ANS         CALL_DISCNT  \\\n",
       "0  20191023 2019-10-23 21:03:25 2019-10-23 21:03:29 2019-10-23 21:05:49   \n",
       "1  20191023 2019-10-23 13:34:48 2019-10-23 13:34:51 2019-10-23 13:35:25   \n",
       "2  20191023 2019-10-23 14:36:45 2019-10-23 14:36:55 2019-10-23 14:37:14   \n",
       "3  20191023 2019-10-23 15:23:57 2019-10-23 15:24:16 2019-10-23 15:24:39   \n",
       "4  20191023 2019-10-23 12:06:18 2019-10-23 12:06:23 2019-10-23 12:06:37   \n",
       "\n",
       "   CONV_SEC  CALLING_NUM  DIAL_NUM  CALLED_NUM ORIG_OPER TERM_OPER  hour  \n",
       "0       140     98584323  28393384    28393384      HTCL      PCCW    21  \n",
       "1        34     61712572  58084602    58084602      HTCL      PCCW    13  \n",
       "2        19     96063495  36918050   415776278      HTCL      PCCW    14  \n",
       "3        23     97090459  28042373    28042373      HTCL      PCCW    15  \n",
       "4        14     61866381  36050646    36050646      HTCL      PCCW    12  "
      ]
     },
     "execution_count": 13,
     "metadata": {},
     "output_type": "execute_result"
    }
   ],
   "source": [
    "data.head()"
   ]
  },
  {
   "cell_type": "code",
   "execution_count": 14,
   "metadata": {},
   "outputs": [
    {
     "data": {
      "image/png": "[encoded data removed]",
      "text/plain": [
       "<Figure size 1080x360 with 1 Axes>"
      ]
     },
     "metadata": {},
     "output_type": "display_data"
    }
   ],
   "source": [
    "sns.set(style=\"darkgrid\")\n",
    "plt.figure(figsize=(15,5))\n",
    "sns.countplot(x=\"hour\", data=data)\n",
    "plt.show()"
   ]
  },
  {
   "cell_type": "markdown",
   "metadata": {},
   "source": [
    "From the about count plot high traffic in 11th hour and lowest at 2,3 and 4 hours respectly  "
   ]
  },
  {
   "cell_type": "code",
   "execution_count": 15,
   "metadata": {},
   "outputs": [
    {
     "data": {
      "image/png": "[encoded data removed]",
      "text/plain": [
       "<Figure size 1080x360 with 1 Axes>"
      ]
     },
     "metadata": {},
     "output_type": "display_data"
    }
   ],
   "source": [
    "sns.set(style=\"darkgrid\")\n",
    "plt.figure(figsize=(15,5))\n",
    "sns.countplot(x=\"ORIG_OPER\", data=data)\n",
    "plt.show()"
   ]
  },
  {
   "cell_type": "markdown",
   "metadata": {},
   "source": [
    "From the above plot originating company there are 5 different originating company to this switch HTCT,HGC,SMT,PCCW,StSL\n",
    "\n",
    "HTCl is the highest opereating company where as PCCW and STSL is the lowest.  "
   ]
  },
  {
   "cell_type": "code",
   "execution_count": 16,
   "metadata": {},
   "outputs": [
    {
     "data": {
      "image/png": "[encoded data removed]",
      "text/plain": [
       "<Figure size 1080x360 with 1 Axes>"
      ]
     },
     "metadata": {},
     "output_type": "display_data"
    }
   ],
   "source": [
    "sns.set(style=\"darkgrid\")\n",
    "plt.figure(figsize=(15,5))\n",
    "sns.countplot(x=\"BATCH_ID\", data=data)\n",
    "plt.show()"
   ]
  },
  {
   "cell_type": "markdown",
   "metadata": {},
   "source": [
    "From the above plot the are highest calls in the batch 20191016 and less in the 20191015 "
   ]
  },
  {
   "cell_type": "code",
   "execution_count": 55,
   "metadata": {},
   "outputs": [
    {
     "data": {
      "image/png": "[encoded data removed]",
      "text/plain": [
       "<Figure size 1080x360 with 1 Axes>"
      ]
     },
     "metadata": {},
     "output_type": "display_data"
    }
   ],
   "source": [
    "sns.set(style=\"darkgrid\")\n",
    "plt.figure(figsize=(15,5))\n",
    "sns.barplot(y=\"CONV_SEC\", x=\"BATCH_ID\", data=data)\n",
    "plt.show()"
   ]
  },
  {
   "cell_type": "markdown",
   "metadata": {},
   "source": [
    "From the above plot 20191015 recorded and lowest in the 20191017"
   ]
  },
  {
   "cell_type": "code",
   "execution_count": 56,
   "metadata": {},
   "outputs": [
    {
     "data": {
      "image/png": "[encoded data removed]",
      "text/plain": [
       "<Figure size 1080x360 with 1 Axes>"
      ]
     },
     "metadata": {},
     "output_type": "display_data"
    }
   ],
   "source": [
    "sns.set(style=\"darkgrid\")\n",
    "plt.figure(figsize=(15,5))\n",
    "sns.barplot(y=\"CONV_SEC\", x=\"ORIG_OPER\", data=data)\n",
    "plt.show()"
   ]
  },
  {
   "cell_type": "markdown",
   "metadata": {},
   "source": [
    "From the above plot we can observe that SMT originating company has more conversation then others and STSL originating company is the lowest"
   ]
  },
  {
   "cell_type": "code",
   "execution_count": 39,
   "metadata": {},
   "outputs": [
    {
     "data": {
      "image/png": "[encoded data removed]",
      "text/plain": [
       "<Figure size 1080x360 with 1 Axes>"
      ]
     },
     "metadata": {},
     "output_type": "display_data"
    }
   ],
   "source": [
    "sns.set(style=\"darkgrid\")\n",
    "plt.figure(figsize=(15,5))\n",
    "sns.barplot(y=\"CONV_SEC\", x=\"hour\", data=data)\n",
    "plt.show()"
   ]
  },
  {
   "cell_type": "markdown",
   "metadata": {},
   "source": [
    "From the above plot at hour 22 has more conversation sec and hour 5 hour has less converastion time"
   ]
  },
  {
   "cell_type": "code",
   "execution_count": 18,
   "metadata": {},
   "outputs": [
    {
     "data": {
      "image/png": "[encoded data removed]",
      "text/plain": [
       "<Figure size 1080x360 with 1 Axes>"
      ]
     },
     "metadata": {},
     "output_type": "display_data"
    }
   ],
   "source": [
    "sns.set(style=\"darkgrid\")\n",
    "plt.figure(figsize=(15,5))\n",
    "sns.barplot(y=\"hour\", x=\"BATCH_ID\",hue=\"ORIG_OPER\", data=data)\n",
    "plt.show()"
   ]
  },
  {
   "cell_type": "code",
   "execution_count": 53,
   "metadata": {},
   "outputs": [
    {
     "data": {
      "image/png": "[encoded data removed]",
      "text/plain": [
       "<Figure size 1080x720 with 1 Axes>"
      ]
     },
     "metadata": {},
     "output_type": "display_data"
    }
   ],
   "source": [
    "sns.set(style=\"darkgrid\")\n",
    "plt.figure(figsize=(15,10))\n",
    "sns.barplot(x=\"hour\", y=\"CONV_SEC\",hue=\"ORIG_OPER\", data=data)\n",
    "plt.show()"
   ]
  },
  {
   "cell_type": "markdown",
   "metadata": {},
   "source": [
    "### KMeans clustering"
   ]
  },
  {
   "cell_type": "code",
   "execution_count": 22,
   "metadata": {},
   "outputs": [],
   "source": [
    "col_names=['hour','CONV_SEC']"
   ]
  },
  {
   "cell_type": "code",
   "execution_count": 23,
   "metadata": {},
   "outputs": [],
   "source": [
    "data1=data[col_names]"
   ]
  },
  {
   "cell_type": "code",
   "execution_count": 24,
   "metadata": {},
   "outputs": [
    {
     "data": {
      "text/html": [
       "<div>\n",
       "<style scoped>\n",
       "    .dataframe tbody tr th:only-of-type {\n",
       "        vertical-align: middle;\n",
       "    }\n",
       "\n",
       "    .dataframe tbody tr th {\n",
       "        vertical-align: top;\n",
       "    }\n",
       "\n",
       "    .dataframe thead th {\n",
       "        text-align: right;\n",
       "    }\n",
       "</style>\n",
       "<table border=\"1\" class=\"dataframe\">\n",
       "  <thead>\n",
       "    <tr style=\"text-align: right;\">\n",
       "      <th></th>\n",
       "      <th>hour</th>\n",
       "      <th>CONV_SEC</th>\n",
       "    </tr>\n",
       "  </thead>\n",
       "  <tbody>\n",
       "    <tr>\n",
       "      <th>0</th>\n",
       "      <td>1.698952</td>\n",
       "      <td>0.125321</td>\n",
       "    </tr>\n",
       "    <tr>\n",
       "      <th>1</th>\n",
       "      <td>-0.166187</td>\n",
       "      <td>-0.230929</td>\n",
       "    </tr>\n",
       "    <tr>\n",
       "      <th>2</th>\n",
       "      <td>0.066956</td>\n",
       "      <td>-0.281341</td>\n",
       "    </tr>\n",
       "    <tr>\n",
       "      <th>3</th>\n",
       "      <td>0.300098</td>\n",
       "      <td>-0.267898</td>\n",
       "    </tr>\n",
       "    <tr>\n",
       "      <th>4</th>\n",
       "      <td>-0.399329</td>\n",
       "      <td>-0.298146</td>\n",
       "    </tr>\n",
       "  </tbody>\n",
       "</table>\n",
       "</div>"
      ],
      "text/plain": [
       "       hour  CONV_SEC\n",
       "0  1.698952  0.125321\n",
       "1 -0.166187 -0.230929\n",
       "2  0.066956 -0.281341\n",
       "3  0.300098 -0.267898\n",
       "4 -0.399329 -0.298146"
      ]
     },
     "execution_count": 24,
     "metadata": {},
     "output_type": "execute_result"
    }
   ],
   "source": [
    "dataz=data1.apply(zscore)\n",
    "dataz.head()"
   ]
  },
  {
   "cell_type": "code",
   "execution_count": 25,
   "metadata": {},
   "outputs": [],
   "source": [
    "cluster_range=range(1,15)\n",
    "cluster_error=[]\n",
    "for num_cluster in cluster_range:\n",
    "    model=KMeans(num_cluster)\n",
    "    model.fit(dataz)\n",
    "    cluster_error.append(model.inertia_)"
   ]
  },
  {
   "cell_type": "code",
   "execution_count": 26,
   "metadata": {},
   "outputs": [],
   "source": [
    "labels=model.labels_\n",
    "centroids=model.cluster_centers_"
   ]
  },
  {
   "cell_type": "code",
   "execution_count": 27,
   "metadata": {},
   "outputs": [
    {
     "data": {
      "text/plain": [
       "[<matplotlib.lines.Line2D at 0x11eaf908>]"
      ]
     },
     "execution_count": 27,
     "metadata": {},
     "output_type": "execute_result"
    },
    {
     "data": {
      "image/png": "[encoded data removed]",
      "text/plain": [
       "<Figure size 864x432 with 1 Axes>"
      ]
     },
     "metadata": {},
     "output_type": "display_data"
    }
   ],
   "source": [
    "plt.figure(figsize=(12,6))\n",
    "plt.plot(cluster_range,cluster_error,marker='*')"
   ]
  },
  {
   "cell_type": "markdown",
   "metadata": {},
   "source": [
    "#### For the cluster 3"
   ]
  },
  {
   "cell_type": "code",
   "execution_count": 28,
   "metadata": {},
   "outputs": [],
   "source": [
    "kmeans=KMeans(n_clusters=3,n_init=15,random_state=2)"
   ]
  },
  {
   "cell_type": "code",
   "execution_count": 29,
   "metadata": {},
   "outputs": [
    {
     "data": {
      "text/plain": [
       "KMeans(algorithm='auto', copy_x=True, init='k-means++', max_iter=300,\n",
       "       n_clusters=3, n_init=15, n_jobs=None, precompute_distances='auto',\n",
       "       random_state=2, tol=0.0001, verbose=0)"
      ]
     },
     "execution_count": 29,
     "metadata": {},
     "output_type": "execute_result"
    }
   ],
   "source": [
    "kmeans.fit(dataz)"
   ]
  },
  {
   "cell_type": "code",
   "execution_count": 30,
   "metadata": {},
   "outputs": [
    {
     "data": {
      "text/plain": [
       "array([[-0.85840588, -0.08599158],\n",
       "       [ 0.77799875, -0.05525498],\n",
       "       [ 0.34114402,  7.80900552]])"
      ]
     },
     "execution_count": 30,
     "metadata": {},
     "output_type": "execute_result"
    }
   ],
   "source": [
    "centroids=kmeans.cluster_centers_\n",
    "centroids"
   ]
  },
  {
   "cell_type": "code",
   "execution_count": 31,
   "metadata": {},
   "outputs": [],
   "source": [
    "centroids_data=pd.DataFrame(centroids,columns=list(dataz))"
   ]
  },
  {
   "cell_type": "code",
   "execution_count": 32,
   "metadata": {},
   "outputs": [
    {
     "data": {
      "text/html": [
       "<div>\n",
       "<style scoped>\n",
       "    .dataframe tbody tr th:only-of-type {\n",
       "        vertical-align: middle;\n",
       "    }\n",
       "\n",
       "    .dataframe tbody tr th {\n",
       "        vertical-align: top;\n",
       "    }\n",
       "\n",
       "    .dataframe thead th {\n",
       "        text-align: right;\n",
       "    }\n",
       "</style>\n",
       "<table border=\"1\" class=\"dataframe\">\n",
       "  <thead>\n",
       "    <tr style=\"text-align: right;\">\n",
       "      <th></th>\n",
       "      <th>hour</th>\n",
       "      <th>CONV_SEC</th>\n",
       "    </tr>\n",
       "  </thead>\n",
       "  <tbody>\n",
       "    <tr>\n",
       "      <th>0</th>\n",
       "      <td>-0.858406</td>\n",
       "      <td>-0.085992</td>\n",
       "    </tr>\n",
       "    <tr>\n",
       "      <th>1</th>\n",
       "      <td>0.777999</td>\n",
       "      <td>-0.055255</td>\n",
       "    </tr>\n",
       "    <tr>\n",
       "      <th>2</th>\n",
       "      <td>0.341144</td>\n",
       "      <td>7.809006</td>\n",
       "    </tr>\n",
       "  </tbody>\n",
       "</table>\n",
       "</div>"
      ],
      "text/plain": [
       "       hour  CONV_SEC\n",
       "0 -0.858406 -0.085992\n",
       "1  0.777999 -0.055255\n",
       "2  0.341144  7.809006"
      ]
     },
     "execution_count": 32,
     "metadata": {},
     "output_type": "execute_result"
    }
   ],
   "source": [
    "centroids_data"
   ]
  },
  {
   "cell_type": "code",
   "execution_count": 33,
   "metadata": {},
   "outputs": [
    {
     "data": {
      "text/plain": [
       "array([1, 0, 1, 1, 0, 0, 1, 1, 1, 0, 0, 0, 1, 0, 0, 0, 1, 1, 0, 1, 1, 1,\n",
       "       1, 1, 0, 1, 1, 0, 0, 1])"
      ]
     },
     "execution_count": 33,
     "metadata": {},
     "output_type": "execute_result"
    }
   ],
   "source": [
    "kmeans.labels_[:30]"
   ]
  },
  {
   "cell_type": "code",
   "execution_count": 34,
   "metadata": {},
   "outputs": [
    {
     "data": {
      "text/html": [
       "<div>\n",
       "<style scoped>\n",
       "    .dataframe tbody tr th:only-of-type {\n",
       "        vertical-align: middle;\n",
       "    }\n",
       "\n",
       "    .dataframe tbody tr th {\n",
       "        vertical-align: top;\n",
       "    }\n",
       "\n",
       "    .dataframe thead th {\n",
       "        text-align: right;\n",
       "    }\n",
       "</style>\n",
       "<table border=\"1\" class=\"dataframe\">\n",
       "  <thead>\n",
       "    <tr style=\"text-align: right;\">\n",
       "      <th></th>\n",
       "      <th>hour</th>\n",
       "      <th>CONV_SEC</th>\n",
       "      <th>labels</th>\n",
       "    </tr>\n",
       "  </thead>\n",
       "  <tbody>\n",
       "    <tr>\n",
       "      <th>0</th>\n",
       "      <td>21</td>\n",
       "      <td>140</td>\n",
       "      <td>1</td>\n",
       "    </tr>\n",
       "    <tr>\n",
       "      <th>1</th>\n",
       "      <td>13</td>\n",
       "      <td>34</td>\n",
       "      <td>0</td>\n",
       "    </tr>\n",
       "    <tr>\n",
       "      <th>2</th>\n",
       "      <td>14</td>\n",
       "      <td>19</td>\n",
       "      <td>1</td>\n",
       "    </tr>\n",
       "    <tr>\n",
       "      <th>3</th>\n",
       "      <td>15</td>\n",
       "      <td>23</td>\n",
       "      <td>1</td>\n",
       "    </tr>\n",
       "    <tr>\n",
       "      <th>4</th>\n",
       "      <td>12</td>\n",
       "      <td>14</td>\n",
       "      <td>0</td>\n",
       "    </tr>\n",
       "  </tbody>\n",
       "</table>\n",
       "</div>"
      ],
      "text/plain": [
       "   hour  CONV_SEC  labels\n",
       "0    21       140       1\n",
       "1    13        34       0\n",
       "2    14        19       1\n",
       "3    15        23       1\n",
       "4    12        14       0"
      ]
     },
     "execution_count": 34,
     "metadata": {},
     "output_type": "execute_result"
    }
   ],
   "source": [
    "data1['labels']=kmeans.labels_\n",
    "data1.head()"
   ]
  },
  {
   "cell_type": "code",
   "execution_count": 35,
   "metadata": {},
   "outputs": [
    {
     "data": {
      "text/plain": [
       "1    8289\n",
       "0    7569\n",
       "2     142\n",
       "Name: labels, dtype: int64"
      ]
     },
     "execution_count": 35,
     "metadata": {},
     "output_type": "execute_result"
    }
   ],
   "source": [
    "data1.labels.value_counts()"
   ]
  },
  {
   "cell_type": "markdown",
   "metadata": {},
   "source": [
    "#### For the cluster 2"
   ]
  },
  {
   "cell_type": "code",
   "execution_count": 57,
   "metadata": {},
   "outputs": [],
   "source": [
    "kmeans=KMeans(n_clusters=2,n_init=15,random_state=2)"
   ]
  },
  {
   "cell_type": "code",
   "execution_count": 59,
   "metadata": {},
   "outputs": [
    {
     "data": {
      "text/plain": [
       "KMeans(algorithm='auto', copy_x=True, init='k-means++', max_iter=300,\n",
       "       n_clusters=2, n_init=15, n_jobs=None, precompute_distances='auto',\n",
       "       random_state=2, tol=0.0001, verbose=0)"
      ]
     },
     "execution_count": 59,
     "metadata": {},
     "output_type": "execute_result"
    }
   ],
   "source": [
    "kmeans.fit(dataz)"
   ]
  },
  {
   "cell_type": "code",
   "execution_count": 60,
   "metadata": {},
   "outputs": [
    {
     "data": {
      "text/plain": [
       "array([[-0.86036514, -0.05632282],\n",
       "       [ 0.7776456 ,  0.05090768]])"
      ]
     },
     "execution_count": 60,
     "metadata": {},
     "output_type": "execute_result"
    }
   ],
   "source": [
    "centroids=kmeans.cluster_centers_\n",
    "centroids"
   ]
  },
  {
   "cell_type": "code",
   "execution_count": 61,
   "metadata": {},
   "outputs": [],
   "source": [
    "centroids_data=pd.DataFrame(centroids,columns=list(dataz))"
   ]
  },
  {
   "cell_type": "code",
   "execution_count": 62,
   "metadata": {},
   "outputs": [
    {
     "data": {
      "text/html": [
       "<div>\n",
       "<style scoped>\n",
       "    .dataframe tbody tr th:only-of-type {\n",
       "        vertical-align: middle;\n",
       "    }\n",
       "\n",
       "    .dataframe tbody tr th {\n",
       "        vertical-align: top;\n",
       "    }\n",
       "\n",
       "    .dataframe thead th {\n",
       "        text-align: right;\n",
       "    }\n",
       "</style>\n",
       "<table border=\"1\" class=\"dataframe\">\n",
       "  <thead>\n",
       "    <tr style=\"text-align: right;\">\n",
       "      <th></th>\n",
       "      <th>hour</th>\n",
       "      <th>CONV_SEC</th>\n",
       "    </tr>\n",
       "  </thead>\n",
       "  <tbody>\n",
       "    <tr>\n",
       "      <th>0</th>\n",
       "      <td>-0.860365</td>\n",
       "      <td>-0.056323</td>\n",
       "    </tr>\n",
       "    <tr>\n",
       "      <th>1</th>\n",
       "      <td>0.777646</td>\n",
       "      <td>0.050908</td>\n",
       "    </tr>\n",
       "  </tbody>\n",
       "</table>\n",
       "</div>"
      ],
      "text/plain": [
       "       hour  CONV_SEC\n",
       "0 -0.860365 -0.056323\n",
       "1  0.777646  0.050908"
      ]
     },
     "execution_count": 62,
     "metadata": {},
     "output_type": "execute_result"
    }
   ],
   "source": [
    "centroids_data"
   ]
  },
  {
   "cell_type": "code",
   "execution_count": 63,
   "metadata": {},
   "outputs": [
    {
     "data": {
      "text/plain": [
       "array([1, 0, 1, 1, 0, 0, 1, 1, 1, 0, 0, 0, 1, 0, 0, 0, 1, 1, 0, 1, 1, 1,\n",
       "       1, 1, 0, 1, 1, 0, 0, 1])"
      ]
     },
     "execution_count": 63,
     "metadata": {},
     "output_type": "execute_result"
    }
   ],
   "source": [
    "kmeans.labels_[:30]"
   ]
  },
  {
   "cell_type": "code",
   "execution_count": 64,
   "metadata": {},
   "outputs": [
    {
     "data": {
      "text/html": [
       "<div>\n",
       "<style scoped>\n",
       "    .dataframe tbody tr th:only-of-type {\n",
       "        vertical-align: middle;\n",
       "    }\n",
       "\n",
       "    .dataframe tbody tr th {\n",
       "        vertical-align: top;\n",
       "    }\n",
       "\n",
       "    .dataframe thead th {\n",
       "        text-align: right;\n",
       "    }\n",
       "</style>\n",
       "<table border=\"1\" class=\"dataframe\">\n",
       "  <thead>\n",
       "    <tr style=\"text-align: right;\">\n",
       "      <th></th>\n",
       "      <th>hour</th>\n",
       "      <th>CONV_SEC</th>\n",
       "      <th>labels</th>\n",
       "    </tr>\n",
       "  </thead>\n",
       "  <tbody>\n",
       "    <tr>\n",
       "      <th>0</th>\n",
       "      <td>21</td>\n",
       "      <td>140</td>\n",
       "      <td>1</td>\n",
       "    </tr>\n",
       "    <tr>\n",
       "      <th>1</th>\n",
       "      <td>13</td>\n",
       "      <td>34</td>\n",
       "      <td>0</td>\n",
       "    </tr>\n",
       "    <tr>\n",
       "      <th>2</th>\n",
       "      <td>14</td>\n",
       "      <td>19</td>\n",
       "      <td>1</td>\n",
       "    </tr>\n",
       "    <tr>\n",
       "      <th>3</th>\n",
       "      <td>15</td>\n",
       "      <td>23</td>\n",
       "      <td>1</td>\n",
       "    </tr>\n",
       "    <tr>\n",
       "      <th>4</th>\n",
       "      <td>12</td>\n",
       "      <td>14</td>\n",
       "      <td>0</td>\n",
       "    </tr>\n",
       "  </tbody>\n",
       "</table>\n",
       "</div>"
      ],
      "text/plain": [
       "   hour  CONV_SEC  labels\n",
       "0    21       140       1\n",
       "1    13        34       0\n",
       "2    14        19       1\n",
       "3    15        23       1\n",
       "4    12        14       0"
      ]
     },
     "execution_count": 64,
     "metadata": {},
     "output_type": "execute_result"
    }
   ],
   "source": [
    "data1['labels']=kmeans.labels_\n",
    "data1.head()"
   ]
  },
  {
   "cell_type": "code",
   "execution_count": 65,
   "metadata": {},
   "outputs": [
    {
     "data": {
      "text/plain": [
       "1    8403\n",
       "0    7597\n",
       "Name: labels, dtype: int64"
      ]
     },
     "execution_count": 65,
     "metadata": {},
     "output_type": "execute_result"
    }
   ],
   "source": [
    "data1.labels.value_counts()"
   ]
  },
  {
   "cell_type": "code",
   "execution_count": null,
   "metadata": {},
   "outputs": [],
   "source": []
  }
 ],
 "metadata": {
  "kernelspec": {
   "display_name": "Python 3",
   "language": "python",
   "name": "python3"
  },
  "language_info": {
   "codemirror_mode": {
    "name": "ipython",
    "version": 3
   },
   "file_extension": ".py",
   "mimetype": "text/x-python",
   "name": "python",
   "nbconvert_exporter": "python",
   "pygments_lexer": "ipython3",
   "version": "3.7.4"
  }
 },
 "nbformat": 4,
 "nbformat_minor": 2
}
